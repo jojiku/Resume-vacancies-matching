{
  "nbformat": 4,
  "nbformat_minor": 0,
  "metadata": {
    "colab": {
      "provenance": [],
      "gpuType": "T4"
    },
    "kernelspec": {
      "name": "python3",
      "display_name": "Python 3"
    },
    "language_info": {
      "name": "python"
    },
    "accelerator": "GPU"
  },
  "cells": [
    {
      "cell_type": "code",
      "execution_count": 1,
      "metadata": {
        "id": "CcNgUeLp4FKC"
      },
      "outputs": [],
      "source": [
        "%%capture\n",
        "!pip install roboflow\n",
        "\n",
        "from roboflow import Roboflow\n",
        "rf = Roboflow(api_key=\"aYh98NBlHmQutrlB3lD0\")\n",
        "project = rf.workspace(\"traffic-sign-detection-80yhm\").project(\"traffic-sign-detection-fvaoc\")\n",
        "dataset = project.version(3).download(\"yolov8\")\n"
      ]
    },
    {
      "cell_type": "code",
      "source": [
        "%%capture\n",
        "!pip install ultralytics"
      ],
      "metadata": {
        "id": "IkB1hEym4cqE"
      },
      "execution_count": 2,
      "outputs": []
    },
    {
      "cell_type": "code",
      "source": [
        "from ultralytics import YOLO\n",
        "\n",
        "model = YOLO(\"yolov8n.pt\")\n",
        "\n",
        "model.train(data=\"/content/Traffic-Sign-Detection-3/data.yaml\", epochs=20, batch=-1, single_cls=True)"
      ],
      "metadata": {
        "colab": {
          "base_uri": "https://localhost:8080/"
        },
        "id": "FpasUqOD48V8",
        "outputId": "1e23a5dc-5478-462b-f3c8-14f18449aa04"
      },
      "execution_count": 1,
      "outputs": [
        {
          "output_type": "stream",
          "name": "stdout",
          "text": [
            "Ultralytics YOLOv8.0.219 🚀 Python-3.10.12 torch-2.1.0+cu118 CUDA:0 (Tesla T4, 15102MiB)\n",
            "\u001b[34m\u001b[1mengine/trainer: \u001b[0mtask=detect, mode=train, model=yolov8n.pt, data=/content/Traffic-Sign-Detection-3/data.yaml, epochs=20, patience=50, batch=-1, imgsz=640, save=True, save_period=-1, cache=False, device=None, workers=8, project=None, name=train3, exist_ok=False, pretrained=True, optimizer=auto, verbose=True, seed=0, deterministic=True, single_cls=True, rect=False, cos_lr=False, close_mosaic=10, resume=False, amp=True, fraction=1.0, profile=False, freeze=None, overlap_mask=True, mask_ratio=4, dropout=0.0, val=True, split=val, save_json=False, save_hybrid=False, conf=None, iou=0.7, max_det=300, half=False, dnn=False, plots=True, source=None, vid_stride=1, stream_buffer=False, visualize=False, augment=False, agnostic_nms=False, classes=None, retina_masks=False, show=False, save_frames=False, save_txt=False, save_conf=False, save_crop=False, show_labels=True, show_conf=True, show_boxes=True, line_width=None, format=torchscript, keras=False, optimize=False, int8=False, dynamic=False, simplify=False, opset=None, workspace=4, nms=False, lr0=0.01, lrf=0.01, momentum=0.937, weight_decay=0.0005, warmup_epochs=3.0, warmup_momentum=0.8, warmup_bias_lr=0.1, box=7.5, cls=0.5, dfl=1.5, pose=12.0, kobj=1.0, label_smoothing=0.0, nbs=64, hsv_h=0.015, hsv_s=0.7, hsv_v=0.4, degrees=0.0, translate=0.1, scale=0.5, shear=0.0, perspective=0.0, flipud=0.0, fliplr=0.5, mosaic=1.0, mixup=0.0, copy_paste=0.0, cfg=None, tracker=botsort.yaml, save_dir=runs/detect/train3\n",
            "Overriding model.yaml nc=80 with nc=85\n",
            "\n",
            "                   from  n    params  module                                       arguments                     \n",
            "  0                  -1  1       464  ultralytics.nn.modules.conv.Conv             [3, 16, 3, 2]                 \n",
            "  1                  -1  1      4672  ultralytics.nn.modules.conv.Conv             [16, 32, 3, 2]                \n",
            "  2                  -1  1      7360  ultralytics.nn.modules.block.C2f             [32, 32, 1, True]             \n",
            "  3                  -1  1     18560  ultralytics.nn.modules.conv.Conv             [32, 64, 3, 2]                \n",
            "  4                  -1  2     49664  ultralytics.nn.modules.block.C2f             [64, 64, 2, True]             \n",
            "  5                  -1  1     73984  ultralytics.nn.modules.conv.Conv             [64, 128, 3, 2]               \n",
            "  6                  -1  2    197632  ultralytics.nn.modules.block.C2f             [128, 128, 2, True]           \n",
            "  7                  -1  1    295424  ultralytics.nn.modules.conv.Conv             [128, 256, 3, 2]              \n",
            "  8                  -1  1    460288  ultralytics.nn.modules.block.C2f             [256, 256, 1, True]           \n",
            "  9                  -1  1    164608  ultralytics.nn.modules.block.SPPF            [256, 256, 5]                 \n",
            " 10                  -1  1         0  torch.nn.modules.upsampling.Upsample         [None, 2, 'nearest']          \n",
            " 11             [-1, 6]  1         0  ultralytics.nn.modules.conv.Concat           [1]                           \n",
            " 12                  -1  1    148224  ultralytics.nn.modules.block.C2f             [384, 128, 1]                 \n",
            " 13                  -1  1         0  torch.nn.modules.upsampling.Upsample         [None, 2, 'nearest']          \n",
            " 14             [-1, 4]  1         0  ultralytics.nn.modules.conv.Concat           [1]                           \n",
            " 15                  -1  1     37248  ultralytics.nn.modules.block.C2f             [192, 64, 1]                  \n",
            " 16                  -1  1     36992  ultralytics.nn.modules.conv.Conv             [64, 64, 3, 2]                \n",
            " 17            [-1, 12]  1         0  ultralytics.nn.modules.conv.Concat           [1]                           \n",
            " 18                  -1  1    123648  ultralytics.nn.modules.block.C2f             [192, 128, 1]                 \n",
            " 19                  -1  1    147712  ultralytics.nn.modules.conv.Conv             [128, 128, 3, 2]              \n",
            " 20             [-1, 9]  1         0  ultralytics.nn.modules.conv.Concat           [1]                           \n",
            " 21                  -1  1    493056  ultralytics.nn.modules.block.C2f             [384, 256, 1]                 \n",
            " 22        [15, 18, 21]  1    942649  ultralytics.nn.modules.head.Detect           [85, [64, 128, 256]]          \n",
            "Model summary: 225 layers, 3202185 parameters, 3202169 gradients, 9.1 GFLOPs\n",
            "\n",
            "Transferred 319/355 items from pretrained weights\n",
            "\u001b[34m\u001b[1mTensorBoard: \u001b[0mStart with 'tensorboard --logdir runs/detect/train3', view at http://localhost:6006/\n",
            "Freezing layer 'model.22.dfl.conv.weight'\n",
            "\u001b[34m\u001b[1mAMP: \u001b[0mrunning Automatic Mixed Precision (AMP) checks with YOLOv8n...\n",
            "\u001b[34m\u001b[1mAMP: \u001b[0mchecks passed ✅\n",
            "\u001b[34m\u001b[1mAutoBatch: \u001b[0mComputing optimal batch size for imgsz=640\n",
            "\u001b[34m\u001b[1mAutoBatch: \u001b[0mCUDA:0 (Tesla T4) 14.75G total, 0.23G reserved, 0.06G allocated, 14.46G free\n",
            "      Params      GFLOPs  GPU_mem (GB)  forward (ms) backward (ms)                   input                  output\n",
            "     3202185       9.061         0.304         44.43         71.87        (1, 3, 640, 640)                    list\n",
            "     3202185       18.12         0.327          19.4         44.37        (2, 3, 640, 640)                    list\n",
            "     3202185       36.25         0.552         22.29         50.02        (4, 3, 640, 640)                    list\n",
            "     3202185       72.49         1.114         25.55         56.67        (8, 3, 640, 640)                    list\n",
            "     3202185         145         2.168         38.86         74.58       (16, 3, 640, 640)                    list\n",
            "\u001b[34m\u001b[1mAutoBatch: \u001b[0mUsing batch-size 66 for CUDA:0 8.85G/14.75G (60%) ✅\n"
          ]
        },
        {
          "output_type": "stream",
          "name": "stderr",
          "text": [
            "\u001b[34m\u001b[1mtrain: \u001b[0mScanning /content/Traffic-Sign-Detection-3/train/labels.cache... 12022 images, 62 backgrounds, 0 corrupt: 100%|██████████| 12022/12022 [00:00<?, ?it/s]\n"
          ]
        },
        {
          "output_type": "stream",
          "name": "stdout",
          "text": [
            "\u001b[34m\u001b[1malbumentations: \u001b[0mBlur(p=0.01, blur_limit=(3, 7)), MedianBlur(p=0.01, blur_limit=(3, 7)), ToGray(p=0.01), CLAHE(p=0.01, clip_limit=(1, 4.0), tile_grid_size=(8, 8))\n"
          ]
        },
        {
          "output_type": "stream",
          "name": "stderr",
          "text": [
            "\u001b[34m\u001b[1mval: \u001b[0mScanning /content/Traffic-Sign-Detection-3/valid/labels.cache... 1512 images, 10 backgrounds, 0 corrupt: 100%|██████████| 1512/1512 [00:00<?, ?it/s]\n"
          ]
        },
        {
          "output_type": "stream",
          "name": "stdout",
          "text": [
            "Plotting labels to runs/detect/train3/labels.jpg... \n",
            "\u001b[34m\u001b[1moptimizer:\u001b[0m 'optimizer=auto' found, ignoring 'lr0=0.01' and 'momentum=0.937' and determining best 'optimizer', 'lr0' and 'momentum' automatically... \n",
            "\u001b[34m\u001b[1moptimizer:\u001b[0m AdamW(lr=0.000112, momentum=0.9) with parameter groups 57 weight(decay=0.0), 64 weight(decay=0.000515625), 63 bias(decay=0.0)\n",
            "Image sizes 640 train, 640 val\n",
            "Using 2 dataloader workers\n",
            "Logging results to \u001b[1mruns/detect/train3\u001b[0m\n",
            "Starting training for 20 epochs...\n",
            "\n",
            "      Epoch    GPU_mem   box_loss   cls_loss   dfl_loss  Instances       Size\n"
          ]
        },
        {
          "output_type": "stream",
          "name": "stderr",
          "text": [
            "       1/20      10.6G      1.286      3.393      1.394         15        640: 100%|██████████| 183/183 [04:37<00:00,  1.51s/it]\n",
            "                 Class     Images  Instances      Box(P          R      mAP50  mAP50-95): 100%|██████████| 12/12 [00:22<00:00,  1.89s/it]"
          ]
        },
        {
          "output_type": "stream",
          "name": "stdout",
          "text": [
            "                   all       1512       1723      0.822      0.809      0.843      0.609\n"
          ]
        },
        {
          "output_type": "stream",
          "name": "stderr",
          "text": [
            "\n"
          ]
        },
        {
          "output_type": "stream",
          "name": "stdout",
          "text": [
            "\n",
            "      Epoch    GPU_mem   box_loss   cls_loss   dfl_loss  Instances       Size\n"
          ]
        },
        {
          "output_type": "stream",
          "name": "stderr",
          "text": [
            "       2/20      9.62G      1.121      1.538      1.245         20        640: 100%|██████████| 183/183 [04:25<00:00,  1.45s/it]\n",
            "                 Class     Images  Instances      Box(P          R      mAP50  mAP50-95): 100%|██████████| 12/12 [00:19<00:00,  1.60s/it]"
          ]
        },
        {
          "output_type": "stream",
          "name": "stdout",
          "text": [
            "                   all       1512       1723      0.874       0.88      0.905      0.658\n"
          ]
        },
        {
          "output_type": "stream",
          "name": "stderr",
          "text": [
            "\n"
          ]
        },
        {
          "output_type": "stream",
          "name": "stdout",
          "text": [
            "\n",
            "      Epoch    GPU_mem   box_loss   cls_loss   dfl_loss  Instances       Size\n"
          ]
        },
        {
          "output_type": "stream",
          "name": "stderr",
          "text": [
            "       3/20      9.62G      1.044      1.253      1.187         14        640: 100%|██████████| 183/183 [04:23<00:00,  1.44s/it]\n",
            "                 Class     Images  Instances      Box(P          R      mAP50  mAP50-95): 100%|██████████| 12/12 [00:19<00:00,  1.60s/it]"
          ]
        },
        {
          "output_type": "stream",
          "name": "stdout",
          "text": [
            "                   all       1512       1723      0.898      0.906      0.925      0.699\n"
          ]
        },
        {
          "output_type": "stream",
          "name": "stderr",
          "text": [
            "\n"
          ]
        },
        {
          "output_type": "stream",
          "name": "stdout",
          "text": [
            "\n",
            "      Epoch    GPU_mem   box_loss   cls_loss   dfl_loss  Instances       Size\n"
          ]
        },
        {
          "output_type": "stream",
          "name": "stderr",
          "text": [
            "       4/20      9.62G     0.9952      1.044      1.149         30        640: 100%|██████████| 183/183 [04:20<00:00,  1.42s/it]\n",
            "                 Class     Images  Instances      Box(P          R      mAP50  mAP50-95): 100%|██████████| 12/12 [00:20<00:00,  1.72s/it]"
          ]
        },
        {
          "output_type": "stream",
          "name": "stdout",
          "text": [
            "                   all       1512       1723      0.919      0.923      0.931      0.708\n"
          ]
        },
        {
          "output_type": "stream",
          "name": "stderr",
          "text": [
            "\n"
          ]
        },
        {
          "output_type": "stream",
          "name": "stdout",
          "text": [
            "\n",
            "      Epoch    GPU_mem   box_loss   cls_loss   dfl_loss  Instances       Size\n"
          ]
        },
        {
          "output_type": "stream",
          "name": "stderr",
          "text": [
            "       5/20      9.62G     0.9667     0.8957      1.125         19        640: 100%|██████████| 183/183 [04:20<00:00,  1.42s/it]\n",
            "                 Class     Images  Instances      Box(P          R      mAP50  mAP50-95): 100%|██████████| 12/12 [00:20<00:00,  1.70s/it]"
          ]
        },
        {
          "output_type": "stream",
          "name": "stdout",
          "text": [
            "                   all       1512       1723      0.899      0.926       0.93      0.695\n"
          ]
        },
        {
          "output_type": "stream",
          "name": "stderr",
          "text": [
            "\n"
          ]
        },
        {
          "output_type": "stream",
          "name": "stdout",
          "text": [
            "\n",
            "      Epoch    GPU_mem   box_loss   cls_loss   dfl_loss  Instances       Size\n"
          ]
        },
        {
          "output_type": "stream",
          "name": "stderr",
          "text": [
            "       6/20      9.68G     0.9403     0.8008      1.114         19        640: 100%|██████████| 183/183 [04:21<00:00,  1.43s/it]\n",
            "                 Class     Images  Instances      Box(P          R      mAP50  mAP50-95): 100%|██████████| 12/12 [00:19<00:00,  1.61s/it]"
          ]
        },
        {
          "output_type": "stream",
          "name": "stdout",
          "text": [
            "                   all       1512       1723      0.904      0.942       0.94      0.724\n"
          ]
        },
        {
          "output_type": "stream",
          "name": "stderr",
          "text": [
            "\n"
          ]
        },
        {
          "output_type": "stream",
          "name": "stdout",
          "text": [
            "\n",
            "      Epoch    GPU_mem   box_loss   cls_loss   dfl_loss  Instances       Size\n"
          ]
        },
        {
          "output_type": "stream",
          "name": "stderr",
          "text": [
            "       7/20      9.62G     0.9087     0.7215      1.091         32        640: 100%|██████████| 183/183 [04:19<00:00,  1.42s/it]\n",
            "                 Class     Images  Instances      Box(P          R      mAP50  mAP50-95): 100%|██████████| 12/12 [00:20<00:00,  1.68s/it]"
          ]
        },
        {
          "output_type": "stream",
          "name": "stdout",
          "text": [
            "                   all       1512       1723      0.914      0.941      0.958      0.749\n"
          ]
        },
        {
          "output_type": "stream",
          "name": "stderr",
          "text": [
            "\n"
          ]
        },
        {
          "output_type": "stream",
          "name": "stdout",
          "text": [
            "\n",
            "      Epoch    GPU_mem   box_loss   cls_loss   dfl_loss  Instances       Size\n"
          ]
        },
        {
          "output_type": "stream",
          "name": "stderr",
          "text": [
            "       8/20      9.68G     0.8933     0.6685      1.086         27        640: 100%|██████████| 183/183 [04:19<00:00,  1.42s/it]\n",
            "                 Class     Images  Instances      Box(P          R      mAP50  mAP50-95): 100%|██████████| 12/12 [00:20<00:00,  1.72s/it]"
          ]
        },
        {
          "output_type": "stream",
          "name": "stdout",
          "text": [
            "                   all       1512       1723      0.927      0.932      0.957      0.764\n"
          ]
        },
        {
          "output_type": "stream",
          "name": "stderr",
          "text": [
            "\n"
          ]
        },
        {
          "output_type": "stream",
          "name": "stdout",
          "text": [
            "\n",
            "      Epoch    GPU_mem   box_loss   cls_loss   dfl_loss  Instances       Size\n"
          ]
        },
        {
          "output_type": "stream",
          "name": "stderr",
          "text": [
            "       9/20      9.69G     0.8838     0.6403      1.075         23        640: 100%|██████████| 183/183 [04:19<00:00,  1.42s/it]\n",
            "                 Class     Images  Instances      Box(P          R      mAP50  mAP50-95): 100%|██████████| 12/12 [00:18<00:00,  1.58s/it]"
          ]
        },
        {
          "output_type": "stream",
          "name": "stdout",
          "text": [
            "                   all       1512       1723      0.926      0.934       0.96      0.759\n"
          ]
        },
        {
          "output_type": "stream",
          "name": "stderr",
          "text": [
            "\n"
          ]
        },
        {
          "output_type": "stream",
          "name": "stdout",
          "text": [
            "\n",
            "      Epoch    GPU_mem   box_loss   cls_loss   dfl_loss  Instances       Size\n"
          ]
        },
        {
          "output_type": "stream",
          "name": "stderr",
          "text": [
            "      10/20      9.62G     0.8582     0.6072      1.065         21        640: 100%|██████████| 183/183 [04:20<00:00,  1.42s/it]\n",
            "                 Class     Images  Instances      Box(P          R      mAP50  mAP50-95): 100%|██████████| 12/12 [00:19<00:00,  1.58s/it]"
          ]
        },
        {
          "output_type": "stream",
          "name": "stdout",
          "text": [
            "                   all       1512       1723      0.915      0.952      0.964      0.769\n"
          ]
        },
        {
          "output_type": "stream",
          "name": "stderr",
          "text": [
            "\n"
          ]
        },
        {
          "output_type": "stream",
          "name": "stdout",
          "text": [
            "Closing dataloader mosaic\n",
            "\u001b[34m\u001b[1malbumentations: \u001b[0mBlur(p=0.01, blur_limit=(3, 7)), MedianBlur(p=0.01, blur_limit=(3, 7)), ToGray(p=0.01), CLAHE(p=0.01, clip_limit=(1, 4.0), tile_grid_size=(8, 8))\n",
            "\n",
            "      Epoch    GPU_mem   box_loss   cls_loss   dfl_loss  Instances       Size\n"
          ]
        },
        {
          "output_type": "stream",
          "name": "stderr",
          "text": [
            "      11/20      9.62G     0.8152     0.5418      1.025         14        640: 100%|██████████| 183/183 [04:08<00:00,  1.36s/it]\n",
            "                 Class     Images  Instances      Box(P          R      mAP50  mAP50-95): 100%|██████████| 12/12 [00:19<00:00,  1.64s/it]"
          ]
        },
        {
          "output_type": "stream",
          "name": "stdout",
          "text": [
            "                   all       1512       1723       0.92      0.963      0.952      0.773\n"
          ]
        },
        {
          "output_type": "stream",
          "name": "stderr",
          "text": [
            "\n"
          ]
        },
        {
          "output_type": "stream",
          "name": "stdout",
          "text": [
            "\n",
            "      Epoch    GPU_mem   box_loss   cls_loss   dfl_loss  Instances       Size\n"
          ]
        },
        {
          "output_type": "stream",
          "name": "stderr",
          "text": [
            "      12/20      9.62G     0.7871      0.504      1.008         10        640: 100%|██████████| 183/183 [04:01<00:00,  1.32s/it]\n",
            "                 Class     Images  Instances      Box(P          R      mAP50  mAP50-95): 100%|██████████| 12/12 [00:19<00:00,  1.63s/it]"
          ]
        },
        {
          "output_type": "stream",
          "name": "stdout",
          "text": [
            "                   all       1512       1723      0.938      0.951       0.96      0.774\n"
          ]
        },
        {
          "output_type": "stream",
          "name": "stderr",
          "text": [
            "\n"
          ]
        },
        {
          "output_type": "stream",
          "name": "stdout",
          "text": [
            "\n",
            "      Epoch    GPU_mem   box_loss   cls_loss   dfl_loss  Instances       Size\n"
          ]
        },
        {
          "output_type": "stream",
          "name": "stderr",
          "text": [
            "      13/20      9.62G      0.778     0.4764      1.002         12        640: 100%|██████████| 183/183 [04:01<00:00,  1.32s/it]\n",
            "                 Class     Images  Instances      Box(P          R      mAP50  mAP50-95): 100%|██████████| 12/12 [00:20<00:00,  1.68s/it]"
          ]
        },
        {
          "output_type": "stream",
          "name": "stdout",
          "text": [
            "                   all       1512       1723      0.952      0.941      0.966      0.783\n"
          ]
        },
        {
          "output_type": "stream",
          "name": "stderr",
          "text": [
            "\n"
          ]
        },
        {
          "output_type": "stream",
          "name": "stdout",
          "text": [
            "\n",
            "      Epoch    GPU_mem   box_loss   cls_loss   dfl_loss  Instances       Size\n"
          ]
        },
        {
          "output_type": "stream",
          "name": "stderr",
          "text": [
            "      14/20      9.62G      0.759     0.4598     0.9916         11        640: 100%|██████████| 183/183 [04:02<00:00,  1.33s/it]\n",
            "                 Class     Images  Instances      Box(P          R      mAP50  mAP50-95): 100%|██████████| 12/12 [00:19<00:00,  1.65s/it]"
          ]
        },
        {
          "output_type": "stream",
          "name": "stdout",
          "text": [
            "                   all       1512       1723      0.939      0.966      0.964      0.787\n"
          ]
        },
        {
          "output_type": "stream",
          "name": "stderr",
          "text": [
            "\n"
          ]
        },
        {
          "output_type": "stream",
          "name": "stdout",
          "text": [
            "\n",
            "      Epoch    GPU_mem   box_loss   cls_loss   dfl_loss  Instances       Size\n"
          ]
        },
        {
          "output_type": "stream",
          "name": "stderr",
          "text": [
            "      15/20      9.62G     0.7392     0.4424     0.9802         11        640: 100%|██████████| 183/183 [04:03<00:00,  1.33s/it]\n",
            "                 Class     Images  Instances      Box(P          R      mAP50  mAP50-95): 100%|██████████| 12/12 [00:18<00:00,  1.51s/it]"
          ]
        },
        {
          "output_type": "stream",
          "name": "stdout",
          "text": [
            "                   all       1512       1723      0.946      0.957      0.966       0.78\n"
          ]
        },
        {
          "output_type": "stream",
          "name": "stderr",
          "text": [
            "\n"
          ]
        },
        {
          "output_type": "stream",
          "name": "stdout",
          "text": [
            "\n",
            "      Epoch    GPU_mem   box_loss   cls_loss   dfl_loss  Instances       Size\n"
          ]
        },
        {
          "output_type": "stream",
          "name": "stderr",
          "text": [
            "      16/20      9.62G     0.7254     0.4283     0.9736         12        640: 100%|██████████| 183/183 [04:03<00:00,  1.33s/it]\n",
            "                 Class     Images  Instances      Box(P          R      mAP50  mAP50-95): 100%|██████████| 12/12 [00:18<00:00,  1.50s/it]"
          ]
        },
        {
          "output_type": "stream",
          "name": "stdout",
          "text": [
            "                   all       1512       1723      0.946      0.953      0.965      0.798\n"
          ]
        },
        {
          "output_type": "stream",
          "name": "stderr",
          "text": [
            "\n"
          ]
        },
        {
          "output_type": "stream",
          "name": "stdout",
          "text": [
            "\n",
            "      Epoch    GPU_mem   box_loss   cls_loss   dfl_loss  Instances       Size\n"
          ]
        },
        {
          "output_type": "stream",
          "name": "stderr",
          "text": [
            "      17/20      9.62G     0.7159      0.412     0.9687         11        640: 100%|██████████| 183/183 [04:02<00:00,  1.33s/it]\n",
            "                 Class     Images  Instances      Box(P          R      mAP50  mAP50-95): 100%|██████████| 12/12 [00:18<00:00,  1.51s/it]"
          ]
        },
        {
          "output_type": "stream",
          "name": "stdout",
          "text": [
            "                   all       1512       1723      0.939      0.965      0.968        0.8\n"
          ]
        },
        {
          "output_type": "stream",
          "name": "stderr",
          "text": [
            "\n"
          ]
        },
        {
          "output_type": "stream",
          "name": "stdout",
          "text": [
            "\n",
            "      Epoch    GPU_mem   box_loss   cls_loss   dfl_loss  Instances       Size\n"
          ]
        },
        {
          "output_type": "stream",
          "name": "stderr",
          "text": [
            "      18/20      9.62G     0.7033     0.4042      0.963         11        640: 100%|██████████| 183/183 [04:04<00:00,  1.33s/it]\n",
            "                 Class     Images  Instances      Box(P          R      mAP50  mAP50-95): 100%|██████████| 12/12 [00:18<00:00,  1.56s/it]"
          ]
        },
        {
          "output_type": "stream",
          "name": "stdout",
          "text": [
            "                   all       1512       1723      0.935      0.963      0.966      0.796\n"
          ]
        },
        {
          "output_type": "stream",
          "name": "stderr",
          "text": [
            "\n"
          ]
        },
        {
          "output_type": "stream",
          "name": "stdout",
          "text": [
            "\n",
            "      Epoch    GPU_mem   box_loss   cls_loss   dfl_loss  Instances       Size\n"
          ]
        },
        {
          "output_type": "stream",
          "name": "stderr",
          "text": [
            "      19/20      9.62G     0.6896     0.3965     0.9559         10        640: 100%|██████████| 183/183 [04:04<00:00,  1.34s/it]\n",
            "                 Class     Images  Instances      Box(P          R      mAP50  mAP50-95): 100%|██████████| 12/12 [00:19<00:00,  1.59s/it]"
          ]
        },
        {
          "output_type": "stream",
          "name": "stdout",
          "text": [
            "                   all       1512       1723       0.95      0.958      0.968      0.801\n"
          ]
        },
        {
          "output_type": "stream",
          "name": "stderr",
          "text": [
            "\n"
          ]
        },
        {
          "output_type": "stream",
          "name": "stdout",
          "text": [
            "\n",
            "      Epoch    GPU_mem   box_loss   cls_loss   dfl_loss  Instances       Size\n"
          ]
        },
        {
          "output_type": "stream",
          "name": "stderr",
          "text": [
            "      20/20      9.62G     0.6802     0.3888     0.9492         12        640: 100%|██████████| 183/183 [04:03<00:00,  1.33s/it]\n",
            "                 Class     Images  Instances      Box(P          R      mAP50  mAP50-95): 100%|██████████| 12/12 [00:18<00:00,  1.50s/it]"
          ]
        },
        {
          "output_type": "stream",
          "name": "stdout",
          "text": [
            "                   all       1512       1723      0.949      0.963      0.969      0.801\n"
          ]
        },
        {
          "output_type": "stream",
          "name": "stderr",
          "text": [
            "\n"
          ]
        },
        {
          "output_type": "stream",
          "name": "stdout",
          "text": [
            "\n",
            "20 epochs completed in 1.523 hours.\n",
            "Optimizer stripped from runs/detect/train3/weights/last.pt, 6.6MB\n",
            "Optimizer stripped from runs/detect/train3/weights/best.pt, 6.6MB\n",
            "\n",
            "Validating runs/detect/train3/weights/best.pt...\n",
            "Ultralytics YOLOv8.0.219 🚀 Python-3.10.12 torch-2.1.0+cu118 CUDA:0 (Tesla T4, 15102MiB)\n",
            "Model summary (fused): 168 layers, 3196859 parameters, 0 gradients, 8.9 GFLOPs\n"
          ]
        },
        {
          "output_type": "stream",
          "name": "stderr",
          "text": [
            "                 Class     Images  Instances      Box(P          R      mAP50  mAP50-95): 100%|██████████| 12/12 [00:24<00:00,  2.02s/it]\n"
          ]
        },
        {
          "output_type": "stream",
          "name": "stdout",
          "text": [
            "                   all       1512       1723       0.95      0.961      0.969      0.801\n",
            "          Danger Ahead       1512       1723       0.95      0.961      0.969      0.801\n",
            "Speed: 0.2ms preprocess, 2.8ms inference, 0.0ms loss, 3.8ms postprocess per image\n",
            "Results saved to \u001b[1mruns/detect/train3\u001b[0m\n"
          ]
        },
        {
          "output_type": "execute_result",
          "data": {
            "text/plain": [
              "ultralytics.utils.metrics.DetMetrics object with attributes:\n",
              "\n",
              "ap_class_index: array([0])\n",
              "box: ultralytics.utils.metrics.Metric object\n",
              "confusion_matrix: <ultralytics.utils.metrics.ConfusionMatrix object at 0x7ff78ec25c30>\n",
              "curves: ['Precision-Recall(B)', 'F1-Confidence(B)', 'Precision-Confidence(B)', 'Recall-Confidence(B)']\n",
              "curves_results: [[array([          0,    0.001001,    0.002002,    0.003003,    0.004004,    0.005005,    0.006006,    0.007007,    0.008008,    0.009009,     0.01001,    0.011011,    0.012012,    0.013013,    0.014014,    0.015015,    0.016016,    0.017017,    0.018018,    0.019019,     0.02002,    0.021021,    0.022022,    0.023023,\n",
              "          0.024024,    0.025025,    0.026026,    0.027027,    0.028028,    0.029029,     0.03003,    0.031031,    0.032032,    0.033033,    0.034034,    0.035035,    0.036036,    0.037037,    0.038038,    0.039039,     0.04004,    0.041041,    0.042042,    0.043043,    0.044044,    0.045045,    0.046046,    0.047047,\n",
              "          0.048048,    0.049049,     0.05005,    0.051051,    0.052052,    0.053053,    0.054054,    0.055055,    0.056056,    0.057057,    0.058058,    0.059059,     0.06006,    0.061061,    0.062062,    0.063063,    0.064064,    0.065065,    0.066066,    0.067067,    0.068068,    0.069069,     0.07007,    0.071071,\n",
              "          0.072072,    0.073073,    0.074074,    0.075075,    0.076076,    0.077077,    0.078078,    0.079079,     0.08008,    0.081081,    0.082082,    0.083083,    0.084084,    0.085085,    0.086086,    0.087087,    0.088088,    0.089089,     0.09009,    0.091091,    0.092092,    0.093093,    0.094094,    0.095095,\n",
              "          0.096096,    0.097097,    0.098098,    0.099099,      0.1001,      0.1011,      0.1021,      0.1031,      0.1041,     0.10511,     0.10611,     0.10711,     0.10811,     0.10911,     0.11011,     0.11111,     0.11211,     0.11311,     0.11411,     0.11512,     0.11612,     0.11712,     0.11812,     0.11912,\n",
              "           0.12012,     0.12112,     0.12212,     0.12312,     0.12412,     0.12513,     0.12613,     0.12713,     0.12813,     0.12913,     0.13013,     0.13113,     0.13213,     0.13313,     0.13413,     0.13514,     0.13614,     0.13714,     0.13814,     0.13914,     0.14014,     0.14114,     0.14214,     0.14314,\n",
              "           0.14414,     0.14515,     0.14615,     0.14715,     0.14815,     0.14915,     0.15015,     0.15115,     0.15215,     0.15315,     0.15415,     0.15516,     0.15616,     0.15716,     0.15816,     0.15916,     0.16016,     0.16116,     0.16216,     0.16316,     0.16416,     0.16517,     0.16617,     0.16717,\n",
              "           0.16817,     0.16917,     0.17017,     0.17117,     0.17217,     0.17317,     0.17417,     0.17518,     0.17618,     0.17718,     0.17818,     0.17918,     0.18018,     0.18118,     0.18218,     0.18318,     0.18418,     0.18519,     0.18619,     0.18719,     0.18819,     0.18919,     0.19019,     0.19119,\n",
              "           0.19219,     0.19319,     0.19419,      0.1952,      0.1962,      0.1972,      0.1982,      0.1992,      0.2002,      0.2012,      0.2022,      0.2032,      0.2042,     0.20521,     0.20621,     0.20721,     0.20821,     0.20921,     0.21021,     0.21121,     0.21221,     0.21321,     0.21421,     0.21522,\n",
              "           0.21622,     0.21722,     0.21822,     0.21922,     0.22022,     0.22122,     0.22222,     0.22322,     0.22422,     0.22523,     0.22623,     0.22723,     0.22823,     0.22923,     0.23023,     0.23123,     0.23223,     0.23323,     0.23423,     0.23524,     0.23624,     0.23724,     0.23824,     0.23924,\n",
              "           0.24024,     0.24124,     0.24224,     0.24324,     0.24424,     0.24525,     0.24625,     0.24725,     0.24825,     0.24925,     0.25025,     0.25125,     0.25225,     0.25325,     0.25425,     0.25526,     0.25626,     0.25726,     0.25826,     0.25926,     0.26026,     0.26126,     0.26226,     0.26326,\n",
              "           0.26426,     0.26527,     0.26627,     0.26727,     0.26827,     0.26927,     0.27027,     0.27127,     0.27227,     0.27327,     0.27427,     0.27528,     0.27628,     0.27728,     0.27828,     0.27928,     0.28028,     0.28128,     0.28228,     0.28328,     0.28428,     0.28529,     0.28629,     0.28729,\n",
              "           0.28829,     0.28929,     0.29029,     0.29129,     0.29229,     0.29329,     0.29429,      0.2953,      0.2963,      0.2973,      0.2983,      0.2993,      0.3003,      0.3013,      0.3023,      0.3033,      0.3043,     0.30531,     0.30631,     0.30731,     0.30831,     0.30931,     0.31031,     0.31131,\n",
              "           0.31231,     0.31331,     0.31431,     0.31532,     0.31632,     0.31732,     0.31832,     0.31932,     0.32032,     0.32132,     0.32232,     0.32332,     0.32432,     0.32533,     0.32633,     0.32733,     0.32833,     0.32933,     0.33033,     0.33133,     0.33233,     0.33333,     0.33433,     0.33534,\n",
              "           0.33634,     0.33734,     0.33834,     0.33934,     0.34034,     0.34134,     0.34234,     0.34334,     0.34434,     0.34535,     0.34635,     0.34735,     0.34835,     0.34935,     0.35035,     0.35135,     0.35235,     0.35335,     0.35435,     0.35536,     0.35636,     0.35736,     0.35836,     0.35936,\n",
              "           0.36036,     0.36136,     0.36236,     0.36336,     0.36436,     0.36537,     0.36637,     0.36737,     0.36837,     0.36937,     0.37037,     0.37137,     0.37237,     0.37337,     0.37437,     0.37538,     0.37638,     0.37738,     0.37838,     0.37938,     0.38038,     0.38138,     0.38238,     0.38338,\n",
              "           0.38438,     0.38539,     0.38639,     0.38739,     0.38839,     0.38939,     0.39039,     0.39139,     0.39239,     0.39339,     0.39439,      0.3954,      0.3964,      0.3974,      0.3984,      0.3994,      0.4004,      0.4014,      0.4024,      0.4034,      0.4044,     0.40541,     0.40641,     0.40741,\n",
              "           0.40841,     0.40941,     0.41041,     0.41141,     0.41241,     0.41341,     0.41441,     0.41542,     0.41642,     0.41742,     0.41842,     0.41942,     0.42042,     0.42142,     0.42242,     0.42342,     0.42442,     0.42543,     0.42643,     0.42743,     0.42843,     0.42943,     0.43043,     0.43143,\n",
              "           0.43243,     0.43343,     0.43443,     0.43544,     0.43644,     0.43744,     0.43844,     0.43944,     0.44044,     0.44144,     0.44244,     0.44344,     0.44444,     0.44545,     0.44645,     0.44745,     0.44845,     0.44945,     0.45045,     0.45145,     0.45245,     0.45345,     0.45445,     0.45546,\n",
              "           0.45646,     0.45746,     0.45846,     0.45946,     0.46046,     0.46146,     0.46246,     0.46346,     0.46446,     0.46547,     0.46647,     0.46747,     0.46847,     0.46947,     0.47047,     0.47147,     0.47247,     0.47347,     0.47447,     0.47548,     0.47648,     0.47748,     0.47848,     0.47948,\n",
              "           0.48048,     0.48148,     0.48248,     0.48348,     0.48448,     0.48549,     0.48649,     0.48749,     0.48849,     0.48949,     0.49049,     0.49149,     0.49249,     0.49349,     0.49449,      0.4955,      0.4965,      0.4975,      0.4985,      0.4995,      0.5005,      0.5015,      0.5025,      0.5035,\n",
              "            0.5045,     0.50551,     0.50651,     0.50751,     0.50851,     0.50951,     0.51051,     0.51151,     0.51251,     0.51351,     0.51451,     0.51552,     0.51652,     0.51752,     0.51852,     0.51952,     0.52052,     0.52152,     0.52252,     0.52352,     0.52452,     0.52553,     0.52653,     0.52753,\n",
              "           0.52853,     0.52953,     0.53053,     0.53153,     0.53253,     0.53353,     0.53453,     0.53554,     0.53654,     0.53754,     0.53854,     0.53954,     0.54054,     0.54154,     0.54254,     0.54354,     0.54454,     0.54555,     0.54655,     0.54755,     0.54855,     0.54955,     0.55055,     0.55155,\n",
              "           0.55255,     0.55355,     0.55455,     0.55556,     0.55656,     0.55756,     0.55856,     0.55956,     0.56056,     0.56156,     0.56256,     0.56356,     0.56456,     0.56557,     0.56657,     0.56757,     0.56857,     0.56957,     0.57057,     0.57157,     0.57257,     0.57357,     0.57457,     0.57558,\n",
              "           0.57658,     0.57758,     0.57858,     0.57958,     0.58058,     0.58158,     0.58258,     0.58358,     0.58458,     0.58559,     0.58659,     0.58759,     0.58859,     0.58959,     0.59059,     0.59159,     0.59259,     0.59359,     0.59459,      0.5956,      0.5966,      0.5976,      0.5986,      0.5996,\n",
              "            0.6006,      0.6016,      0.6026,      0.6036,      0.6046,     0.60561,     0.60661,     0.60761,     0.60861,     0.60961,     0.61061,     0.61161,     0.61261,     0.61361,     0.61461,     0.61562,     0.61662,     0.61762,     0.61862,     0.61962,     0.62062,     0.62162,     0.62262,     0.62362,\n",
              "           0.62462,     0.62563,     0.62663,     0.62763,     0.62863,     0.62963,     0.63063,     0.63163,     0.63263,     0.63363,     0.63463,     0.63564,     0.63664,     0.63764,     0.63864,     0.63964,     0.64064,     0.64164,     0.64264,     0.64364,     0.64464,     0.64565,     0.64665,     0.64765,\n",
              "           0.64865,     0.64965,     0.65065,     0.65165,     0.65265,     0.65365,     0.65465,     0.65566,     0.65666,     0.65766,     0.65866,     0.65966,     0.66066,     0.66166,     0.66266,     0.66366,     0.66466,     0.66567,     0.66667,     0.66767,     0.66867,     0.66967,     0.67067,     0.67167,\n",
              "           0.67267,     0.67367,     0.67467,     0.67568,     0.67668,     0.67768,     0.67868,     0.67968,     0.68068,     0.68168,     0.68268,     0.68368,     0.68468,     0.68569,     0.68669,     0.68769,     0.68869,     0.68969,     0.69069,     0.69169,     0.69269,     0.69369,     0.69469,      0.6957,\n",
              "            0.6967,      0.6977,      0.6987,      0.6997,      0.7007,      0.7017,      0.7027,      0.7037,      0.7047,     0.70571,     0.70671,     0.70771,     0.70871,     0.70971,     0.71071,     0.71171,     0.71271,     0.71371,     0.71471,     0.71572,     0.71672,     0.71772,     0.71872,     0.71972,\n",
              "           0.72072,     0.72172,     0.72272,     0.72372,     0.72472,     0.72573,     0.72673,     0.72773,     0.72873,     0.72973,     0.73073,     0.73173,     0.73273,     0.73373,     0.73473,     0.73574,     0.73674,     0.73774,     0.73874,     0.73974,     0.74074,     0.74174,     0.74274,     0.74374,\n",
              "           0.74474,     0.74575,     0.74675,     0.74775,     0.74875,     0.74975,     0.75075,     0.75175,     0.75275,     0.75375,     0.75475,     0.75576,     0.75676,     0.75776,     0.75876,     0.75976,     0.76076,     0.76176,     0.76276,     0.76376,     0.76476,     0.76577,     0.76677,     0.76777,\n",
              "           0.76877,     0.76977,     0.77077,     0.77177,     0.77277,     0.77377,     0.77477,     0.77578,     0.77678,     0.77778,     0.77878,     0.77978,     0.78078,     0.78178,     0.78278,     0.78378,     0.78478,     0.78579,     0.78679,     0.78779,     0.78879,     0.78979,     0.79079,     0.79179,\n",
              "           0.79279,     0.79379,     0.79479,      0.7958,      0.7968,      0.7978,      0.7988,      0.7998,      0.8008,      0.8018,      0.8028,      0.8038,      0.8048,     0.80581,     0.80681,     0.80781,     0.80881,     0.80981,     0.81081,     0.81181,     0.81281,     0.81381,     0.81481,     0.81582,\n",
              "           0.81682,     0.81782,     0.81882,     0.81982,     0.82082,     0.82182,     0.82282,     0.82382,     0.82482,     0.82583,     0.82683,     0.82783,     0.82883,     0.82983,     0.83083,     0.83183,     0.83283,     0.83383,     0.83483,     0.83584,     0.83684,     0.83784,     0.83884,     0.83984,\n",
              "           0.84084,     0.84184,     0.84284,     0.84384,     0.84484,     0.84585,     0.84685,     0.84785,     0.84885,     0.84985,     0.85085,     0.85185,     0.85285,     0.85385,     0.85485,     0.85586,     0.85686,     0.85786,     0.85886,     0.85986,     0.86086,     0.86186,     0.86286,     0.86386,\n",
              "           0.86486,     0.86587,     0.86687,     0.86787,     0.86887,     0.86987,     0.87087,     0.87187,     0.87287,     0.87387,     0.87487,     0.87588,     0.87688,     0.87788,     0.87888,     0.87988,     0.88088,     0.88188,     0.88288,     0.88388,     0.88488,     0.88589,     0.88689,     0.88789,\n",
              "           0.88889,     0.88989,     0.89089,     0.89189,     0.89289,     0.89389,     0.89489,      0.8959,      0.8969,      0.8979,      0.8989,      0.8999,      0.9009,      0.9019,      0.9029,      0.9039,      0.9049,     0.90591,     0.90691,     0.90791,     0.90891,     0.90991,     0.91091,     0.91191,\n",
              "           0.91291,     0.91391,     0.91491,     0.91592,     0.91692,     0.91792,     0.91892,     0.91992,     0.92092,     0.92192,     0.92292,     0.92392,     0.92492,     0.92593,     0.92693,     0.92793,     0.92893,     0.92993,     0.93093,     0.93193,     0.93293,     0.93393,     0.93493,     0.93594,\n",
              "           0.93694,     0.93794,     0.93894,     0.93994,     0.94094,     0.94194,     0.94294,     0.94394,     0.94494,     0.94595,     0.94695,     0.94795,     0.94895,     0.94995,     0.95095,     0.95195,     0.95295,     0.95395,     0.95495,     0.95596,     0.95696,     0.95796,     0.95896,     0.95996,\n",
              "           0.96096,     0.96196,     0.96296,     0.96396,     0.96496,     0.96597,     0.96697,     0.96797,     0.96897,     0.96997,     0.97097,     0.97197,     0.97297,     0.97397,     0.97497,     0.97598,     0.97698,     0.97798,     0.97898,     0.97998,     0.98098,     0.98198,     0.98298,     0.98398,\n",
              "           0.98498,     0.98599,     0.98699,     0.98799,     0.98899,     0.98999,     0.99099,     0.99199,     0.99299,     0.99399,     0.99499,       0.996,       0.997,       0.998,       0.999,           1]), array([[          1,           1,           1,           1,     0.98404,     0.98404,     0.98404,     0.98404,     0.98404,     0.98404,     0.98404,     0.98404,     0.98404,     0.98404,     0.98404,     0.98404,     0.98404,     0.98404,     0.98404,     0.98404,     0.98404,     0.98404,     0.98404,\n",
              "            0.98404,     0.98404,     0.98404,     0.98404,     0.98404,     0.98404,     0.98404,     0.98404,     0.98404,     0.98404,     0.98404,     0.98404,     0.98404,     0.98404,     0.98404,     0.98404,     0.98404,     0.98404,     0.98404,     0.98404,     0.98404,     0.98404,     0.98404,\n",
              "            0.98404,     0.98404,     0.98404,     0.98404,     0.98404,     0.98404,     0.98404,     0.98404,     0.98404,     0.98404,     0.98404,     0.98404,     0.98404,     0.98404,     0.98404,     0.98404,     0.98404,     0.98404,     0.98404,     0.98404,     0.98404,     0.98404,     0.98404,\n",
              "            0.98404,     0.98404,     0.98404,     0.98404,     0.98404,     0.98404,     0.98404,     0.98404,     0.98404,     0.98404,     0.98404,     0.98404,     0.98404,     0.98404,     0.98404,     0.98404,     0.98404,     0.98404,     0.98404,     0.98404,     0.98404,     0.98404,     0.98404,\n",
              "            0.98404,     0.98404,     0.98404,     0.98404,     0.98404,     0.98404,     0.98404,     0.98404,     0.98404,     0.98404,     0.98404,     0.98404,     0.98404,     0.98404,     0.98404,     0.98404,     0.98404,     0.98404,     0.98404,     0.98404,     0.98404,     0.98404,     0.98404,\n",
              "            0.98404,     0.98404,     0.98404,     0.98404,     0.98404,     0.98404,     0.98404,     0.98404,     0.98404,     0.98404,     0.98404,     0.98404,     0.98404,     0.98404,     0.98404,     0.98404,     0.98404,     0.98404,     0.98404,     0.98404,     0.98404,     0.98404,     0.98404,\n",
              "            0.98404,     0.98404,     0.98404,     0.98404,     0.98404,     0.98404,     0.98404,     0.98404,     0.98404,     0.98404,     0.98404,     0.98404,     0.98404,     0.98404,     0.98404,     0.98404,     0.98404,     0.98404,     0.98404,     0.98404,     0.98404,     0.98404,     0.98404,\n",
              "            0.98404,     0.98404,     0.98404,     0.98404,     0.98404,     0.98404,     0.98404,     0.98404,     0.98404,     0.98404,     0.98404,     0.98404,     0.98404,     0.98404,     0.98404,     0.98404,     0.98404,     0.98404,     0.98404,     0.98404,     0.98404,     0.98404,     0.98404,\n",
              "            0.98404,     0.98404,     0.98404,     0.98404,     0.98404,     0.98404,     0.98404,     0.98404,     0.98404,     0.98404,     0.98404,     0.98404,     0.98404,     0.98404,     0.98404,     0.98404,     0.98404,     0.98404,     0.98404,     0.98404,     0.98404,     0.98404,     0.98404,\n",
              "            0.98404,     0.98404,     0.98404,     0.98404,     0.98404,     0.98404,     0.98404,     0.98404,     0.98333,     0.98333,     0.98333,     0.98333,     0.98333,     0.98333,     0.98333,     0.98333,     0.98333,     0.98333,     0.98333,     0.98333,     0.98333,     0.98333,     0.98333,\n",
              "            0.98333,     0.98333,     0.98333,     0.98333,     0.98333,     0.98333,     0.98333,     0.98333,     0.98333,     0.98333,     0.98333,     0.98333,     0.98333,     0.98333,     0.98333,     0.98333,     0.98333,     0.98333,     0.98333,     0.98333,     0.98333,     0.98333,     0.98333,\n",
              "            0.98333,     0.98333,     0.98333,     0.98333,     0.98333,     0.98333,     0.98333,     0.98333,     0.98333,     0.98333,     0.98333,     0.98333,     0.98333,     0.98333,     0.98333,     0.98333,     0.98333,     0.98333,     0.98333,     0.98333,     0.98333,     0.98333,     0.98333,\n",
              "            0.98333,     0.98333,     0.98333,     0.98333,     0.98333,     0.98333,     0.98333,     0.98333,     0.98333,     0.98333,     0.98333,     0.98333,     0.98333,     0.98333,     0.98333,     0.98333,     0.98333,     0.98333,     0.98333,     0.98333,     0.98333,     0.98333,     0.98333,\n",
              "            0.98333,     0.98333,     0.98333,     0.98333,     0.98333,     0.98333,     0.98333,     0.98333,     0.98333,     0.98333,     0.98333,     0.98333,     0.98333,     0.98333,     0.98333,     0.98333,     0.98333,     0.98333,     0.98333,     0.98333,     0.98333,     0.98333,     0.98333,\n",
              "            0.98333,     0.98333,     0.98333,     0.98333,     0.98333,     0.98333,     0.98333,     0.98333,     0.98333,     0.98333,     0.98333,     0.98333,     0.98333,     0.98333,     0.98333,     0.98333,     0.98333,     0.98333,     0.98333,     0.98333,     0.98333,     0.98333,     0.98333,\n",
              "            0.98333,     0.98333,     0.98333,     0.98333,     0.98333,     0.98333,     0.98333,     0.98333,     0.98333,     0.98333,     0.98333,     0.98333,     0.98333,     0.98333,     0.98333,     0.98333,     0.98333,     0.98333,     0.98333,     0.98333,     0.98333,     0.98333,     0.98333,\n",
              "            0.98333,     0.98333,     0.98333,     0.98333,     0.98333,     0.98333,     0.98333,     0.98333,     0.98333,     0.98333,     0.98333,     0.98333,     0.98333,     0.98333,     0.98333,     0.98333,     0.98333,     0.98333,     0.98333,     0.98333,     0.98333,     0.98333,     0.98333,\n",
              "            0.98333,     0.98333,     0.98333,     0.98333,     0.98333,     0.98333,     0.98333,     0.98333,     0.98333,     0.98333,     0.98333,     0.98333,     0.98333,     0.98333,     0.98333,     0.98333,     0.98333,     0.98333,     0.98333,     0.98333,     0.98333,     0.98333,     0.98333,\n",
              "            0.98333,     0.98333,     0.98333,     0.98333,     0.98333,     0.98333,     0.98333,     0.98333,     0.98333,     0.98333,     0.98333,     0.98333,     0.98333,     0.98333,     0.98333,     0.98333,     0.98333,     0.98333,     0.98333,     0.98333,     0.98333,     0.98333,     0.98333,\n",
              "            0.98333,     0.98333,     0.98333,     0.98333,     0.98333,     0.98333,     0.98333,     0.98333,     0.98333,     0.98333,     0.98333,     0.98333,     0.98333,     0.98333,     0.98333,     0.98333,     0.98333,     0.98333,     0.98333,     0.98333,     0.98333,     0.98333,     0.98333,\n",
              "            0.98333,     0.98333,     0.98333,     0.98333,     0.98333,     0.98333,     0.98333,     0.98333,     0.98333,     0.98333,     0.98333,     0.98333,     0.98333,     0.98333,     0.98333,     0.98333,     0.98333,     0.98333,     0.98333,     0.98333,     0.98333,     0.98333,     0.98333,\n",
              "            0.98333,     0.98333,     0.98333,     0.98333,     0.98333,     0.98333,     0.98333,     0.98333,     0.98333,     0.98333,     0.98333,     0.98333,     0.98333,     0.98333,     0.98333,     0.98333,     0.98333,     0.98333,     0.98333,     0.98333,     0.98333,     0.98333,     0.98333,\n",
              "            0.98333,     0.98333,     0.98333,     0.98333,     0.98333,     0.98333,     0.98333,     0.98333,     0.98333,     0.98333,     0.98333,     0.98333,     0.98333,     0.98333,     0.98333,     0.98333,     0.98333,     0.98333,     0.98333,     0.98333,     0.98333,     0.98333,     0.98333,\n",
              "            0.98333,     0.98333,     0.98333,     0.98333,     0.98333,     0.98333,     0.98333,     0.98333,     0.98333,     0.98333,     0.98333,     0.98333,     0.98333,     0.98333,     0.98333,     0.98333,     0.98333,     0.98333,     0.98333,     0.98333,     0.98333,     0.98333,     0.98333,\n",
              "            0.98333,     0.98333,     0.98333,     0.98333,     0.98333,     0.98333,     0.98333,     0.98333,     0.98333,     0.98333,     0.98333,     0.98333,     0.98333,     0.98333,     0.98333,     0.98333,     0.98333,     0.98333,     0.98333,     0.98333,     0.98333,     0.98333,     0.98333,\n",
              "            0.98333,     0.98333,     0.98333,     0.98333,     0.98333,     0.98333,     0.98333,     0.98305,     0.98305,     0.98305,     0.98305,     0.98305,     0.98305,     0.98305,     0.98305,     0.98305,     0.98305,     0.98305,     0.98305,     0.98305,     0.98305,     0.98305,     0.98305,\n",
              "            0.98305,     0.98305,     0.98305,     0.98305,     0.98305,     0.98305,     0.98305,     0.98305,     0.98263,     0.98263,     0.98263,     0.98263,     0.98263,     0.98263,     0.98263,     0.98263,     0.98263,     0.98263,     0.98263,     0.98263,     0.98263,     0.98263,     0.98263,\n",
              "            0.98263,     0.98263,     0.98263,     0.98087,     0.98053,     0.98053,     0.98053,     0.98053,     0.98053,     0.98053,     0.98053,     0.98053,     0.98053,     0.98053,     0.98053,     0.98053,     0.98053,     0.98053,     0.98053,     0.98053,     0.98053,     0.98053,     0.98053,\n",
              "            0.98053,     0.98053,     0.98053,     0.98053,     0.98053,     0.98053,     0.98053,     0.98053,     0.98053,     0.98053,     0.98053,     0.98053,     0.98053,     0.98053,     0.98053,     0.98053,     0.98053,     0.98053,     0.98053,     0.98053,     0.98053,     0.98053,     0.98053,\n",
              "            0.98053,     0.98053,     0.98053,     0.98053,     0.98053,     0.98053,     0.98053,     0.98053,     0.98053,     0.98053,     0.98053,     0.98053,     0.98053,     0.98053,     0.98053,     0.98053,     0.98053,     0.98053,     0.98053,     0.98053,     0.98053,     0.98053,     0.98053,\n",
              "            0.98053,     0.98053,     0.98053,     0.98053,     0.98053,     0.98053,     0.98053,     0.98053,     0.98053,     0.98053,     0.98053,     0.98053,     0.98053,     0.98053,     0.98053,     0.98053,     0.98053,     0.98053,     0.98053,     0.98053,     0.98053,     0.98053,     0.98053,\n",
              "            0.98053,     0.98053,     0.98053,     0.98053,     0.98053,     0.98053,     0.98053,     0.98053,     0.98053,     0.98053,     0.98053,     0.98053,     0.98053,     0.98053,     0.98053,     0.98053,     0.98053,     0.97991,     0.97991,     0.97991,     0.97991,     0.97991,     0.97991,\n",
              "            0.97929,     0.97929,     0.97929,     0.97929,     0.97929,     0.97892,     0.97892,     0.97892,     0.97892,     0.97892,     0.97892,     0.97892,     0.97892,     0.97892,     0.97892,     0.97892,     0.97892,     0.97892,     0.97857,     0.97857,     0.97857,     0.97857,     0.97857,\n",
              "            0.97857,     0.97857,     0.97857,     0.97857,     0.97857,     0.97857,     0.97857,     0.97857,     0.97857,     0.97813,     0.97813,     0.97813,     0.97813,     0.97813,     0.97813,     0.97813,     0.97813,     0.97813,     0.97813,     0.97813,     0.97767,     0.97767,     0.97767,\n",
              "            0.97767,     0.97767,     0.97767,     0.97767,     0.97767,     0.97719,     0.97719,     0.97719,     0.97719,     0.97719,     0.97719,     0.97719,     0.97719,     0.97651,     0.97532,     0.97532,     0.97532,     0.97532,     0.97532,     0.97532,     0.97521,     0.97521,     0.97521,\n",
              "            0.97521,     0.97521,     0.97521,     0.97521,     0.97521,     0.97521,     0.97521,     0.97521,     0.97521,     0.97521,     0.97521,     0.97521,     0.97521,     0.97521,     0.97521,     0.97521,     0.97521,     0.97462,     0.97462,     0.97455,     0.97455,     0.97455,     0.97455,\n",
              "            0.97455,     0.97455,     0.97455,     0.97455,     0.97455,     0.97455,     0.97455,     0.97455,     0.97455,     0.97455,     0.97455,     0.97455,     0.97455,     0.97455,     0.97455,     0.97455,     0.97391,      0.9724,      0.9724,      0.9724,      0.9724,      0.9724,      0.9724,\n",
              "             0.9724,      0.9724,      0.9724,      0.9724,      0.9724,      0.9724,      0.9724,      0.9724,     0.97178,     0.97178,     0.97178,     0.97178,     0.97178,     0.97178,     0.97178,     0.97178,     0.97178,     0.97178,     0.97178,     0.97178,     0.97178,     0.97178,     0.97178,\n",
              "            0.97178,     0.97178,     0.97178,     0.97178,     0.97178,     0.97129,     0.97129,     0.97129,     0.97129,     0.97129,     0.97129,     0.97129,     0.97129,     0.97129,     0.97129,     0.97129,     0.97129,     0.97129,     0.97129,     0.97129,     0.97129,     0.97129,     0.97129,\n",
              "            0.97129,     0.97129,     0.97129,     0.97129,     0.97129,     0.97129,     0.97081,     0.97081,     0.97081,     0.97081,     0.96998,     0.96998,     0.96998,     0.96998,     0.96998,     0.96998,     0.96998,     0.96998,     0.96998,     0.96998,     0.96998,     0.96896,     0.96896,\n",
              "            0.96896,     0.96896,     0.96896,     0.96896,     0.96677,     0.96677,     0.96677,     0.96677,     0.96624,     0.96624,     0.96349,     0.96349,     0.96349,     0.96349,     0.96239,      0.9619,      0.9619,     0.96136,     0.96047,     0.96047,     0.96047,     0.96047,     0.96047,\n",
              "            0.96047,     0.95993,     0.95944,     0.95944,     0.95611,     0.95561,     0.95396,     0.95291,     0.95257,     0.95257,     0.95257,     0.95257,      0.9515,     0.95055,     0.95055,     0.95055,      0.9496,      0.9496,      0.9496,     0.94857,     0.94482,     0.94224,     0.93697,\n",
              "            0.93337,     0.93188,      0.9314,     0.90825,     0.90825,     0.90253,      0.8992,     0.88555,     0.88189,     0.84438,     0.84032,      0.8285,     0.82696,     0.81951,     0.80562,     0.80533,     0.80095,     0.70199,     0.69992,     0.69034,     0.69034,     0.59379,     0.58251,\n",
              "             0.5745,      0.5745,     0.43779,      0.4115,     0.31752,     0.23553,     0.18842,     0.14132,    0.094211,    0.047105,           0]]), 'Recall', 'Precision'], [array([          0,    0.001001,    0.002002,    0.003003,    0.004004,    0.005005,    0.006006,    0.007007,    0.008008,    0.009009,     0.01001,    0.011011,    0.012012,    0.013013,    0.014014,    0.015015,    0.016016,    0.017017,    0.018018,    0.019019,     0.02002,    0.021021,    0.022022,    0.023023,\n",
              "          0.024024,    0.025025,    0.026026,    0.027027,    0.028028,    0.029029,     0.03003,    0.031031,    0.032032,    0.033033,    0.034034,    0.035035,    0.036036,    0.037037,    0.038038,    0.039039,     0.04004,    0.041041,    0.042042,    0.043043,    0.044044,    0.045045,    0.046046,    0.047047,\n",
              "          0.048048,    0.049049,     0.05005,    0.051051,    0.052052,    0.053053,    0.054054,    0.055055,    0.056056,    0.057057,    0.058058,    0.059059,     0.06006,    0.061061,    0.062062,    0.063063,    0.064064,    0.065065,    0.066066,    0.067067,    0.068068,    0.069069,     0.07007,    0.071071,\n",
              "          0.072072,    0.073073,    0.074074,    0.075075,    0.076076,    0.077077,    0.078078,    0.079079,     0.08008,    0.081081,    0.082082,    0.083083,    0.084084,    0.085085,    0.086086,    0.087087,    0.088088,    0.089089,     0.09009,    0.091091,    0.092092,    0.093093,    0.094094,    0.095095,\n",
              "          0.096096,    0.097097,    0.098098,    0.099099,      0.1001,      0.1011,      0.1021,      0.1031,      0.1041,     0.10511,     0.10611,     0.10711,     0.10811,     0.10911,     0.11011,     0.11111,     0.11211,     0.11311,     0.11411,     0.11512,     0.11612,     0.11712,     0.11812,     0.11912,\n",
              "           0.12012,     0.12112,     0.12212,     0.12312,     0.12412,     0.12513,     0.12613,     0.12713,     0.12813,     0.12913,     0.13013,     0.13113,     0.13213,     0.13313,     0.13413,     0.13514,     0.13614,     0.13714,     0.13814,     0.13914,     0.14014,     0.14114,     0.14214,     0.14314,\n",
              "           0.14414,     0.14515,     0.14615,     0.14715,     0.14815,     0.14915,     0.15015,     0.15115,     0.15215,     0.15315,     0.15415,     0.15516,     0.15616,     0.15716,     0.15816,     0.15916,     0.16016,     0.16116,     0.16216,     0.16316,     0.16416,     0.16517,     0.16617,     0.16717,\n",
              "           0.16817,     0.16917,     0.17017,     0.17117,     0.17217,     0.17317,     0.17417,     0.17518,     0.17618,     0.17718,     0.17818,     0.17918,     0.18018,     0.18118,     0.18218,     0.18318,     0.18418,     0.18519,     0.18619,     0.18719,     0.18819,     0.18919,     0.19019,     0.19119,\n",
              "           0.19219,     0.19319,     0.19419,      0.1952,      0.1962,      0.1972,      0.1982,      0.1992,      0.2002,      0.2012,      0.2022,      0.2032,      0.2042,     0.20521,     0.20621,     0.20721,     0.20821,     0.20921,     0.21021,     0.21121,     0.21221,     0.21321,     0.21421,     0.21522,\n",
              "           0.21622,     0.21722,     0.21822,     0.21922,     0.22022,     0.22122,     0.22222,     0.22322,     0.22422,     0.22523,     0.22623,     0.22723,     0.22823,     0.22923,     0.23023,     0.23123,     0.23223,     0.23323,     0.23423,     0.23524,     0.23624,     0.23724,     0.23824,     0.23924,\n",
              "           0.24024,     0.24124,     0.24224,     0.24324,     0.24424,     0.24525,     0.24625,     0.24725,     0.24825,     0.24925,     0.25025,     0.25125,     0.25225,     0.25325,     0.25425,     0.25526,     0.25626,     0.25726,     0.25826,     0.25926,     0.26026,     0.26126,     0.26226,     0.26326,\n",
              "           0.26426,     0.26527,     0.26627,     0.26727,     0.26827,     0.26927,     0.27027,     0.27127,     0.27227,     0.27327,     0.27427,     0.27528,     0.27628,     0.27728,     0.27828,     0.27928,     0.28028,     0.28128,     0.28228,     0.28328,     0.28428,     0.28529,     0.28629,     0.28729,\n",
              "           0.28829,     0.28929,     0.29029,     0.29129,     0.29229,     0.29329,     0.29429,      0.2953,      0.2963,      0.2973,      0.2983,      0.2993,      0.3003,      0.3013,      0.3023,      0.3033,      0.3043,     0.30531,     0.30631,     0.30731,     0.30831,     0.30931,     0.31031,     0.31131,\n",
              "           0.31231,     0.31331,     0.31431,     0.31532,     0.31632,     0.31732,     0.31832,     0.31932,     0.32032,     0.32132,     0.32232,     0.32332,     0.32432,     0.32533,     0.32633,     0.32733,     0.32833,     0.32933,     0.33033,     0.33133,     0.33233,     0.33333,     0.33433,     0.33534,\n",
              "           0.33634,     0.33734,     0.33834,     0.33934,     0.34034,     0.34134,     0.34234,     0.34334,     0.34434,     0.34535,     0.34635,     0.34735,     0.34835,     0.34935,     0.35035,     0.35135,     0.35235,     0.35335,     0.35435,     0.35536,     0.35636,     0.35736,     0.35836,     0.35936,\n",
              "           0.36036,     0.36136,     0.36236,     0.36336,     0.36436,     0.36537,     0.36637,     0.36737,     0.36837,     0.36937,     0.37037,     0.37137,     0.37237,     0.37337,     0.37437,     0.37538,     0.37638,     0.37738,     0.37838,     0.37938,     0.38038,     0.38138,     0.38238,     0.38338,\n",
              "           0.38438,     0.38539,     0.38639,     0.38739,     0.38839,     0.38939,     0.39039,     0.39139,     0.39239,     0.39339,     0.39439,      0.3954,      0.3964,      0.3974,      0.3984,      0.3994,      0.4004,      0.4014,      0.4024,      0.4034,      0.4044,     0.40541,     0.40641,     0.40741,\n",
              "           0.40841,     0.40941,     0.41041,     0.41141,     0.41241,     0.41341,     0.41441,     0.41542,     0.41642,     0.41742,     0.41842,     0.41942,     0.42042,     0.42142,     0.42242,     0.42342,     0.42442,     0.42543,     0.42643,     0.42743,     0.42843,     0.42943,     0.43043,     0.43143,\n",
              "           0.43243,     0.43343,     0.43443,     0.43544,     0.43644,     0.43744,     0.43844,     0.43944,     0.44044,     0.44144,     0.44244,     0.44344,     0.44444,     0.44545,     0.44645,     0.44745,     0.44845,     0.44945,     0.45045,     0.45145,     0.45245,     0.45345,     0.45445,     0.45546,\n",
              "           0.45646,     0.45746,     0.45846,     0.45946,     0.46046,     0.46146,     0.46246,     0.46346,     0.46446,     0.46547,     0.46647,     0.46747,     0.46847,     0.46947,     0.47047,     0.47147,     0.47247,     0.47347,     0.47447,     0.47548,     0.47648,     0.47748,     0.47848,     0.47948,\n",
              "           0.48048,     0.48148,     0.48248,     0.48348,     0.48448,     0.48549,     0.48649,     0.48749,     0.48849,     0.48949,     0.49049,     0.49149,     0.49249,     0.49349,     0.49449,      0.4955,      0.4965,      0.4975,      0.4985,      0.4995,      0.5005,      0.5015,      0.5025,      0.5035,\n",
              "            0.5045,     0.50551,     0.50651,     0.50751,     0.50851,     0.50951,     0.51051,     0.51151,     0.51251,     0.51351,     0.51451,     0.51552,     0.51652,     0.51752,     0.51852,     0.51952,     0.52052,     0.52152,     0.52252,     0.52352,     0.52452,     0.52553,     0.52653,     0.52753,\n",
              "           0.52853,     0.52953,     0.53053,     0.53153,     0.53253,     0.53353,     0.53453,     0.53554,     0.53654,     0.53754,     0.53854,     0.53954,     0.54054,     0.54154,     0.54254,     0.54354,     0.54454,     0.54555,     0.54655,     0.54755,     0.54855,     0.54955,     0.55055,     0.55155,\n",
              "           0.55255,     0.55355,     0.55455,     0.55556,     0.55656,     0.55756,     0.55856,     0.55956,     0.56056,     0.56156,     0.56256,     0.56356,     0.56456,     0.56557,     0.56657,     0.56757,     0.56857,     0.56957,     0.57057,     0.57157,     0.57257,     0.57357,     0.57457,     0.57558,\n",
              "           0.57658,     0.57758,     0.57858,     0.57958,     0.58058,     0.58158,     0.58258,     0.58358,     0.58458,     0.58559,     0.58659,     0.58759,     0.58859,     0.58959,     0.59059,     0.59159,     0.59259,     0.59359,     0.59459,      0.5956,      0.5966,      0.5976,      0.5986,      0.5996,\n",
              "            0.6006,      0.6016,      0.6026,      0.6036,      0.6046,     0.60561,     0.60661,     0.60761,     0.60861,     0.60961,     0.61061,     0.61161,     0.61261,     0.61361,     0.61461,     0.61562,     0.61662,     0.61762,     0.61862,     0.61962,     0.62062,     0.62162,     0.62262,     0.62362,\n",
              "           0.62462,     0.62563,     0.62663,     0.62763,     0.62863,     0.62963,     0.63063,     0.63163,     0.63263,     0.63363,     0.63463,     0.63564,     0.63664,     0.63764,     0.63864,     0.63964,     0.64064,     0.64164,     0.64264,     0.64364,     0.64464,     0.64565,     0.64665,     0.64765,\n",
              "           0.64865,     0.64965,     0.65065,     0.65165,     0.65265,     0.65365,     0.65465,     0.65566,     0.65666,     0.65766,     0.65866,     0.65966,     0.66066,     0.66166,     0.66266,     0.66366,     0.66466,     0.66567,     0.66667,     0.66767,     0.66867,     0.66967,     0.67067,     0.67167,\n",
              "           0.67267,     0.67367,     0.67467,     0.67568,     0.67668,     0.67768,     0.67868,     0.67968,     0.68068,     0.68168,     0.68268,     0.68368,     0.68468,     0.68569,     0.68669,     0.68769,     0.68869,     0.68969,     0.69069,     0.69169,     0.69269,     0.69369,     0.69469,      0.6957,\n",
              "            0.6967,      0.6977,      0.6987,      0.6997,      0.7007,      0.7017,      0.7027,      0.7037,      0.7047,     0.70571,     0.70671,     0.70771,     0.70871,     0.70971,     0.71071,     0.71171,     0.71271,     0.71371,     0.71471,     0.71572,     0.71672,     0.71772,     0.71872,     0.71972,\n",
              "           0.72072,     0.72172,     0.72272,     0.72372,     0.72472,     0.72573,     0.72673,     0.72773,     0.72873,     0.72973,     0.73073,     0.73173,     0.73273,     0.73373,     0.73473,     0.73574,     0.73674,     0.73774,     0.73874,     0.73974,     0.74074,     0.74174,     0.74274,     0.74374,\n",
              "           0.74474,     0.74575,     0.74675,     0.74775,     0.74875,     0.74975,     0.75075,     0.75175,     0.75275,     0.75375,     0.75475,     0.75576,     0.75676,     0.75776,     0.75876,     0.75976,     0.76076,     0.76176,     0.76276,     0.76376,     0.76476,     0.76577,     0.76677,     0.76777,\n",
              "           0.76877,     0.76977,     0.77077,     0.77177,     0.77277,     0.77377,     0.77477,     0.77578,     0.77678,     0.77778,     0.77878,     0.77978,     0.78078,     0.78178,     0.78278,     0.78378,     0.78478,     0.78579,     0.78679,     0.78779,     0.78879,     0.78979,     0.79079,     0.79179,\n",
              "           0.79279,     0.79379,     0.79479,      0.7958,      0.7968,      0.7978,      0.7988,      0.7998,      0.8008,      0.8018,      0.8028,      0.8038,      0.8048,     0.80581,     0.80681,     0.80781,     0.80881,     0.80981,     0.81081,     0.81181,     0.81281,     0.81381,     0.81481,     0.81582,\n",
              "           0.81682,     0.81782,     0.81882,     0.81982,     0.82082,     0.82182,     0.82282,     0.82382,     0.82482,     0.82583,     0.82683,     0.82783,     0.82883,     0.82983,     0.83083,     0.83183,     0.83283,     0.83383,     0.83483,     0.83584,     0.83684,     0.83784,     0.83884,     0.83984,\n",
              "           0.84084,     0.84184,     0.84284,     0.84384,     0.84484,     0.84585,     0.84685,     0.84785,     0.84885,     0.84985,     0.85085,     0.85185,     0.85285,     0.85385,     0.85485,     0.85586,     0.85686,     0.85786,     0.85886,     0.85986,     0.86086,     0.86186,     0.86286,     0.86386,\n",
              "           0.86486,     0.86587,     0.86687,     0.86787,     0.86887,     0.86987,     0.87087,     0.87187,     0.87287,     0.87387,     0.87487,     0.87588,     0.87688,     0.87788,     0.87888,     0.87988,     0.88088,     0.88188,     0.88288,     0.88388,     0.88488,     0.88589,     0.88689,     0.88789,\n",
              "           0.88889,     0.88989,     0.89089,     0.89189,     0.89289,     0.89389,     0.89489,      0.8959,      0.8969,      0.8979,      0.8989,      0.8999,      0.9009,      0.9019,      0.9029,      0.9039,      0.9049,     0.90591,     0.90691,     0.90791,     0.90891,     0.90991,     0.91091,     0.91191,\n",
              "           0.91291,     0.91391,     0.91491,     0.91592,     0.91692,     0.91792,     0.91892,     0.91992,     0.92092,     0.92192,     0.92292,     0.92392,     0.92492,     0.92593,     0.92693,     0.92793,     0.92893,     0.92993,     0.93093,     0.93193,     0.93293,     0.93393,     0.93493,     0.93594,\n",
              "           0.93694,     0.93794,     0.93894,     0.93994,     0.94094,     0.94194,     0.94294,     0.94394,     0.94494,     0.94595,     0.94695,     0.94795,     0.94895,     0.94995,     0.95095,     0.95195,     0.95295,     0.95395,     0.95495,     0.95596,     0.95696,     0.95796,     0.95896,     0.95996,\n",
              "           0.96096,     0.96196,     0.96296,     0.96396,     0.96496,     0.96597,     0.96697,     0.96797,     0.96897,     0.96997,     0.97097,     0.97197,     0.97297,     0.97397,     0.97497,     0.97598,     0.97698,     0.97798,     0.97898,     0.97998,     0.98098,     0.98198,     0.98298,     0.98398,\n",
              "           0.98498,     0.98599,     0.98699,     0.98799,     0.98899,     0.98999,     0.99099,     0.99199,     0.99299,     0.99399,     0.99499,       0.996,       0.997,       0.998,       0.999,           1]), array([[    0.42852,     0.42852,     0.54809,     0.61551,      0.6629,     0.69504,     0.72267,     0.73993,     0.75855,     0.77366,     0.78496,     0.79552,     0.80445,     0.81201,     0.81883,     0.82082,     0.82601,     0.83135,     0.83445,     0.84004,     0.84602,     0.84957,      0.8528,\n",
              "             0.8566,      0.8594,     0.86201,     0.86443,      0.8667,      0.8691,     0.87118,     0.87398,     0.87621,     0.87874,     0.88225,     0.88345,     0.88467,      0.8865,     0.88856,     0.88959,     0.89141,     0.89231,     0.89257,     0.89381,     0.89544,     0.89638,     0.89773,\n",
              "            0.89831,     0.89889,      0.9015,     0.90304,     0.90365,     0.90341,     0.90393,     0.90506,     0.90533,     0.90575,     0.90731,     0.90815,      0.9093,     0.91033,     0.91135,      0.9119,     0.91184,     0.91202,     0.91299,     0.91401,     0.91423,     0.91447,     0.91591,\n",
              "            0.91632,     0.91741,     0.91855,     0.91928,     0.91974,     0.92048,     0.92094,     0.92148,     0.92184,     0.92207,     0.92245,     0.92308,     0.92422,     0.92485,     0.92498,      0.9251,     0.92635,     0.92655,     0.92718,     0.92769,     0.92791,     0.92799,     0.92807,\n",
              "            0.92863,     0.92903,     0.92967,     0.92973,     0.92979,     0.92986,     0.92979,     0.92972,     0.93009,     0.93046,      0.9306,     0.93146,     0.93174,     0.93184,     0.93224,     0.93277,     0.93294,     0.93328,     0.93353,     0.93364,     0.93401,     0.93412,     0.93423,\n",
              "             0.9346,     0.93471,      0.9347,     0.93562,     0.93578,     0.93611,     0.93617,     0.93624,      0.9363,     0.93575,     0.93624,     0.93617,      0.9361,     0.93603,     0.93596,     0.93602,     0.93611,     0.93621,     0.93631,     0.93641,     0.93705,     0.93719,      0.9374,\n",
              "            0.93754,     0.93758,     0.93762,     0.93766,      0.9377,     0.93774,     0.93778,     0.93804,     0.93856,     0.93826,     0.93802,     0.93834,      0.9388,     0.93907,     0.93963,     0.94037,     0.94089,     0.94102,     0.94115,     0.94141,      0.9415,     0.94158,     0.94166,\n",
              "            0.94189,     0.94198,     0.94203,     0.94208,     0.94213,     0.94218,     0.94234,      0.9425,     0.94256,     0.94262,     0.94268,     0.94274,     0.94276,     0.94279,     0.94282,     0.94285,     0.94287,      0.9429,     0.94293,     0.94296,     0.94298,     0.94282,     0.94282,\n",
              "            0.94297,     0.94333,     0.94342,     0.94351,     0.94362,     0.94373,     0.94384,     0.94396,      0.9441,     0.94484,     0.94488,     0.94493,     0.94497,     0.94501,     0.94506,      0.9451,     0.94556,     0.94573,     0.94588,     0.94618,     0.94625,     0.94632,     0.94639,\n",
              "            0.94651,     0.94753,     0.94773,     0.94782,     0.94788,     0.94793,     0.94798,     0.94803,     0.94869,     0.94887,     0.94894,     0.94901,     0.94908,     0.94942,     0.94949,     0.94955,     0.94962,     0.94969,     0.94974,      0.9498,     0.94985,     0.94991,     0.94989,\n",
              "            0.94975,     0.94967,     0.94977,     0.94986,     0.94958,     0.94951,     0.94944,     0.94937,     0.94935,     0.94944,     0.94954,     0.95008,     0.94997,     0.94987,     0.94994,     0.95011,      0.9502,      0.9503,     0.95033,      0.9501,     0.95022,     0.95064,     0.95073,\n",
              "            0.95082,     0.95119,     0.95128,     0.95137,     0.95134,     0.95114,     0.95158,     0.95172,      0.9518,     0.95189,     0.95197,     0.95203,     0.95209,     0.95215,     0.95221,     0.95237,     0.95253,     0.95272,     0.95278,     0.95281,     0.95283,     0.95286,     0.95288,\n",
              "            0.95291,     0.95293,     0.95296,     0.95298,     0.95301,     0.95303,      0.9531,     0.95319,     0.95328,     0.95342,     0.95359,     0.95366,     0.95372,     0.95379,     0.95385,     0.95378,      0.9537,     0.95362,     0.95325,     0.95315,     0.95306,     0.95296,     0.95338,\n",
              "            0.95378,     0.95381,     0.95384,     0.95386,     0.95389,     0.95392,     0.95395,     0.95397,       0.954,     0.95403,     0.95409,     0.95425,     0.95422,     0.95403,     0.95419,     0.95432,     0.95437,     0.95442,     0.95448,     0.95453,     0.95458,      0.9546,     0.95463,\n",
              "            0.95466,     0.95468,     0.95471,     0.95474,     0.95477,     0.95479,     0.95482,     0.95485,     0.95528,     0.95542,      0.9555,     0.95558,     0.95566,     0.95574,     0.95581,     0.95589,     0.95564,     0.95559,     0.95555,     0.95551,     0.95547,     0.95542,     0.95538,\n",
              "            0.95564,      0.9558,     0.95582,     0.95564,     0.95547,     0.95529,     0.95525,     0.95521,     0.95517,     0.95513,     0.95509,     0.95505,       0.955,     0.95496,     0.95492,     0.95488,     0.95483,     0.95479,     0.95475,     0.95471,     0.95487,     0.95472,     0.95482,\n",
              "            0.95464,     0.95447,     0.95402,     0.95397,     0.95391,     0.95386,      0.9538,     0.95375,     0.95348,     0.95355,     0.95363,      0.9537,     0.95393,     0.95387,     0.95382,     0.95376,     0.95371,     0.95374,      0.9539,     0.95399,     0.95404,     0.95408,     0.95413,\n",
              "            0.95418,     0.95392,     0.95389,     0.95386,     0.95383,     0.95379,     0.95376,     0.95373,      0.9537,     0.95366,     0.95363,     0.95359,     0.95355,     0.95351,     0.95347,     0.95343,     0.95339,     0.95335,     0.95298,     0.95282,     0.95237,     0.95221,     0.95209,\n",
              "            0.95205,     0.95201,     0.95197,     0.95193,     0.95189,     0.95185,     0.95181,     0.95196,      0.9518,     0.95188,     0.95201,     0.95193,     0.95186,     0.95178,     0.95172,     0.95173,     0.95174,     0.95175,     0.95176,     0.95177,     0.95178,     0.95179,      0.9518,\n",
              "             0.9518,     0.95181,     0.95182,     0.95183,     0.95184,     0.95185,     0.95186,     0.95187,     0.95188,     0.95189,      0.9519,     0.95191,     0.95192,     0.95193,     0.95194,     0.95195,     0.95196,     0.95197,     0.95198,     0.95199,     0.95202,     0.95209,     0.95217,\n",
              "            0.95224,     0.95247,     0.95231,     0.95215,       0.952,     0.95203,     0.95217,     0.95222,     0.95227,     0.95231,     0.95236,     0.95241,     0.95246,     0.95258,     0.95272,     0.95287,     0.95301,     0.95315,     0.95329,     0.95301,     0.95303,     0.95305,     0.95307,\n",
              "            0.95309,     0.95311,     0.95313,     0.95315,     0.95318,      0.9532,     0.95322,     0.95324,     0.95326,     0.95264,     0.95256,     0.95248,      0.9524,     0.95238,     0.95253,     0.95223,     0.95207,     0.95166,     0.95161,     0.95155,      0.9515,     0.95145,      0.9514,\n",
              "            0.95135,     0.95131,     0.95127,     0.95123,     0.95119,     0.95115,     0.95112,     0.95108,     0.95072,     0.95067,     0.95061,     0.95056,     0.95051,     0.95046,      0.9503,     0.95014,     0.94998,     0.94953,     0.94947,     0.94942,     0.94937,     0.94932,     0.94926,\n",
              "            0.94974,     0.94958,     0.94948,     0.94952,     0.94955,     0.94959,     0.94962,     0.94966,      0.9497,     0.94973,     0.94967,     0.94952,      0.9494,     0.94932,     0.94924,     0.94916,     0.94872,     0.94857,     0.94856,     0.94863,     0.94871,     0.94878,     0.94836,\n",
              "             0.9482,     0.94823,      0.9483,     0.94838,     0.94845,     0.94847,     0.94848,      0.9485,     0.94852,     0.94853,     0.94855,     0.94857,     0.94858,      0.9486,     0.94862,     0.94863,     0.94865,     0.94867,     0.94868,      0.9487,     0.94871,     0.94873,     0.94869,\n",
              "            0.94864,     0.94858,     0.94853,     0.94848,     0.94842,     0.94827,     0.94811,     0.94807,     0.94803,     0.94798,     0.94794,      0.9479,     0.94786,     0.94781,     0.94769,     0.94753,     0.94737,     0.94721,     0.94705,     0.94689,     0.94679,      0.9467,     0.94661,\n",
              "            0.94658,     0.94663,     0.94668,     0.94673,     0.94677,     0.94682,     0.94749,     0.94763,     0.94761,     0.94755,     0.94749,     0.94744,     0.94738,     0.94729,     0.94713,     0.94707,     0.94722,     0.94722,     0.94701,     0.94661,     0.94653,     0.94645,     0.94637,\n",
              "            0.94621,     0.94574,     0.94565,     0.94556,     0.94547,      0.9454,     0.94534,     0.94529,     0.94524,     0.94518,     0.94513,     0.94555,     0.94571,     0.94578,     0.94585,     0.94592,     0.94594,     0.94588,     0.94582,     0.94576,      0.9457,     0.94592,      0.9457,\n",
              "            0.94552,     0.94536,      0.9452,     0.94504,     0.94433,     0.94428,     0.94424,     0.94419,     0.94415,      0.9441,     0.94405,     0.94391,     0.94375,     0.94365,     0.94356,     0.94346,     0.94343,     0.94351,     0.94359,     0.94302,     0.94286,     0.94269,     0.94248,\n",
              "            0.94203,     0.94193,     0.94184,     0.94078,     0.94062,     0.94012,     0.93991,     0.93974,     0.93957,     0.93936,     0.93822,     0.93805,     0.93736,     0.93742,     0.93747,     0.93753,     0.93759,     0.93766,     0.93774,     0.93783,     0.93756,     0.93746,     0.93737,\n",
              "            0.93728,     0.93718,     0.93709,       0.937,     0.93627,     0.93621,     0.93614,     0.93608,     0.93601,     0.93587,     0.93566,     0.93569,     0.93573,     0.93576,     0.93579,     0.93583,     0.93586,      0.9359,     0.93593,     0.93587,     0.93578,     0.93568,      0.9356,\n",
              "            0.93552,     0.93545,     0.93538,     0.93531,     0.93483,     0.93466,      0.9338,     0.93358,     0.93305,     0.93295,     0.93286,     0.93277,     0.93259,     0.93237,     0.93215,     0.93201,      0.9319,     0.93179,     0.93159,     0.93137,     0.93115,     0.93098,     0.93081,\n",
              "            0.93027,     0.92945,     0.92934,     0.92923,     0.92874,     0.92819,     0.92797,     0.92781,      0.9277,     0.92759,     0.92741,     0.92721,      0.9271,     0.92699,     0.92521,     0.92499,     0.92444,     0.92389,     0.92367,      0.9234,     0.92317,     0.92295,     0.92311,\n",
              "              0.923,      0.9219,     0.92167,     0.92112,     0.92089,     0.92023,        0.92,     0.91978,     0.91955,     0.91933,     0.91844,     0.91722,     0.91699,     0.91677,     0.91617,     0.91554,     0.91531,     0.91508,     0.91419,     0.91396,     0.91362,     0.91339,     0.91316,\n",
              "            0.91293,     0.91271,     0.91207,     0.91207,     0.91219,     0.91196,     0.91193,     0.91199,     0.91205,      0.9121,     0.91216,     0.91174,     0.91163,     0.91151,     0.91119,     0.91062,     0.91034,     0.90971,     0.90948,     0.90779,     0.90756,     0.90726,      0.9063,\n",
              "            0.90572,     0.90505,     0.90482,     0.90465,     0.90451,     0.90432,      0.9044,      0.9046,     0.90481,     0.90465,     0.90301,     0.90266,     0.90168,     0.90144,     0.89938,      0.8973,     0.89716,     0.89702,     0.89641,     0.89613,     0.89483,      0.8932,     0.89338,\n",
              "            0.89315,     0.89178,     0.89135,     0.88994,     0.88828,     0.88694,     0.88552,      0.8841,     0.88338,     0.88236,     0.88212,     0.88069,     0.87918,     0.87881,     0.87809,       0.877,     0.87699,     0.87691,      0.8771,     0.87619,      0.8751,     0.87473,     0.87255,\n",
              "            0.87233,     0.87136,     0.86954,     0.86916,     0.86769,      0.8665,     0.86613,     0.86428,     0.86353,     0.86084,      0.8588,     0.85842,     0.85729,     0.85591,     0.85572,     0.85502,     0.85389,     0.85172,     0.84945,     0.84906,     0.84716,     0.84436,      0.8439,\n",
              "             0.8437,     0.84301,     0.83964,     0.83723,     0.83585,     0.83272,     0.82998,     0.82799,     0.82583,     0.82424,     0.81847,       0.816,     0.81223,     0.80817,      0.8051,     0.80418,     0.80201,      0.7985,     0.79588,     0.79288,     0.79036,     0.78763,     0.78407,\n",
              "            0.78127,     0.78063,     0.77462,     0.77052,     0.76676,     0.76366,     0.75833,     0.75561,     0.74966,     0.74688,      0.7431,     0.73683,     0.72981,     0.72921,     0.72186,     0.71745,     0.71316,     0.71117,     0.70208,     0.69496,     0.69325,     0.68632,     0.67504,\n",
              "            0.67224,     0.66508,     0.65737,     0.65288,     0.64259,     0.63642,      0.6321,     0.62066,     0.60513,     0.60159,     0.59093,     0.58054,     0.56999,     0.56369,     0.55047,     0.54314,     0.52013,     0.50866,      0.4996,     0.48781,     0.47247,     0.44855,     0.43894,\n",
              "            0.42972,     0.40644,     0.39904,      0.3692,      0.3591,     0.34668,     0.33229,     0.30777,     0.27738,     0.26349,      0.2388,     0.21511,       0.203,     0.18416,     0.17548,     0.16477,     0.14998,     0.12895,     0.10319,    0.092662,    0.082011,    0.073394,    0.064699,\n",
              "           0.053733,    0.049306,     0.04372,    0.041444,    0.033078,    0.024523,    0.019929,    0.016454,    0.013969,   0.0077813,   0.0069945,   0.0059037,   0.0029125,   0.0023191,           0,           0,           0,           0,           0,           0,           0,           0,           0,\n",
              "                  0,           0,           0,           0,           0,           0,           0,           0,           0,           0,           0]]), 'Confidence', 'F1'], [array([          0,    0.001001,    0.002002,    0.003003,    0.004004,    0.005005,    0.006006,    0.007007,    0.008008,    0.009009,     0.01001,    0.011011,    0.012012,    0.013013,    0.014014,    0.015015,    0.016016,    0.017017,    0.018018,    0.019019,     0.02002,    0.021021,    0.022022,    0.023023,\n",
              "          0.024024,    0.025025,    0.026026,    0.027027,    0.028028,    0.029029,     0.03003,    0.031031,    0.032032,    0.033033,    0.034034,    0.035035,    0.036036,    0.037037,    0.038038,    0.039039,     0.04004,    0.041041,    0.042042,    0.043043,    0.044044,    0.045045,    0.046046,    0.047047,\n",
              "          0.048048,    0.049049,     0.05005,    0.051051,    0.052052,    0.053053,    0.054054,    0.055055,    0.056056,    0.057057,    0.058058,    0.059059,     0.06006,    0.061061,    0.062062,    0.063063,    0.064064,    0.065065,    0.066066,    0.067067,    0.068068,    0.069069,     0.07007,    0.071071,\n",
              "          0.072072,    0.073073,    0.074074,    0.075075,    0.076076,    0.077077,    0.078078,    0.079079,     0.08008,    0.081081,    0.082082,    0.083083,    0.084084,    0.085085,    0.086086,    0.087087,    0.088088,    0.089089,     0.09009,    0.091091,    0.092092,    0.093093,    0.094094,    0.095095,\n",
              "          0.096096,    0.097097,    0.098098,    0.099099,      0.1001,      0.1011,      0.1021,      0.1031,      0.1041,     0.10511,     0.10611,     0.10711,     0.10811,     0.10911,     0.11011,     0.11111,     0.11211,     0.11311,     0.11411,     0.11512,     0.11612,     0.11712,     0.11812,     0.11912,\n",
              "           0.12012,     0.12112,     0.12212,     0.12312,     0.12412,     0.12513,     0.12613,     0.12713,     0.12813,     0.12913,     0.13013,     0.13113,     0.13213,     0.13313,     0.13413,     0.13514,     0.13614,     0.13714,     0.13814,     0.13914,     0.14014,     0.14114,     0.14214,     0.14314,\n",
              "           0.14414,     0.14515,     0.14615,     0.14715,     0.14815,     0.14915,     0.15015,     0.15115,     0.15215,     0.15315,     0.15415,     0.15516,     0.15616,     0.15716,     0.15816,     0.15916,     0.16016,     0.16116,     0.16216,     0.16316,     0.16416,     0.16517,     0.16617,     0.16717,\n",
              "           0.16817,     0.16917,     0.17017,     0.17117,     0.17217,     0.17317,     0.17417,     0.17518,     0.17618,     0.17718,     0.17818,     0.17918,     0.18018,     0.18118,     0.18218,     0.18318,     0.18418,     0.18519,     0.18619,     0.18719,     0.18819,     0.18919,     0.19019,     0.19119,\n",
              "           0.19219,     0.19319,     0.19419,      0.1952,      0.1962,      0.1972,      0.1982,      0.1992,      0.2002,      0.2012,      0.2022,      0.2032,      0.2042,     0.20521,     0.20621,     0.20721,     0.20821,     0.20921,     0.21021,     0.21121,     0.21221,     0.21321,     0.21421,     0.21522,\n",
              "           0.21622,     0.21722,     0.21822,     0.21922,     0.22022,     0.22122,     0.22222,     0.22322,     0.22422,     0.22523,     0.22623,     0.22723,     0.22823,     0.22923,     0.23023,     0.23123,     0.23223,     0.23323,     0.23423,     0.23524,     0.23624,     0.23724,     0.23824,     0.23924,\n",
              "           0.24024,     0.24124,     0.24224,     0.24324,     0.24424,     0.24525,     0.24625,     0.24725,     0.24825,     0.24925,     0.25025,     0.25125,     0.25225,     0.25325,     0.25425,     0.25526,     0.25626,     0.25726,     0.25826,     0.25926,     0.26026,     0.26126,     0.26226,     0.26326,\n",
              "           0.26426,     0.26527,     0.26627,     0.26727,     0.26827,     0.26927,     0.27027,     0.27127,     0.27227,     0.27327,     0.27427,     0.27528,     0.27628,     0.27728,     0.27828,     0.27928,     0.28028,     0.28128,     0.28228,     0.28328,     0.28428,     0.28529,     0.28629,     0.28729,\n",
              "           0.28829,     0.28929,     0.29029,     0.29129,     0.29229,     0.29329,     0.29429,      0.2953,      0.2963,      0.2973,      0.2983,      0.2993,      0.3003,      0.3013,      0.3023,      0.3033,      0.3043,     0.30531,     0.30631,     0.30731,     0.30831,     0.30931,     0.31031,     0.31131,\n",
              "           0.31231,     0.31331,     0.31431,     0.31532,     0.31632,     0.31732,     0.31832,     0.31932,     0.32032,     0.32132,     0.32232,     0.32332,     0.32432,     0.32533,     0.32633,     0.32733,     0.32833,     0.32933,     0.33033,     0.33133,     0.33233,     0.33333,     0.33433,     0.33534,\n",
              "           0.33634,     0.33734,     0.33834,     0.33934,     0.34034,     0.34134,     0.34234,     0.34334,     0.34434,     0.34535,     0.34635,     0.34735,     0.34835,     0.34935,     0.35035,     0.35135,     0.35235,     0.35335,     0.35435,     0.35536,     0.35636,     0.35736,     0.35836,     0.35936,\n",
              "           0.36036,     0.36136,     0.36236,     0.36336,     0.36436,     0.36537,     0.36637,     0.36737,     0.36837,     0.36937,     0.37037,     0.37137,     0.37237,     0.37337,     0.37437,     0.37538,     0.37638,     0.37738,     0.37838,     0.37938,     0.38038,     0.38138,     0.38238,     0.38338,\n",
              "           0.38438,     0.38539,     0.38639,     0.38739,     0.38839,     0.38939,     0.39039,     0.39139,     0.39239,     0.39339,     0.39439,      0.3954,      0.3964,      0.3974,      0.3984,      0.3994,      0.4004,      0.4014,      0.4024,      0.4034,      0.4044,     0.40541,     0.40641,     0.40741,\n",
              "           0.40841,     0.40941,     0.41041,     0.41141,     0.41241,     0.41341,     0.41441,     0.41542,     0.41642,     0.41742,     0.41842,     0.41942,     0.42042,     0.42142,     0.42242,     0.42342,     0.42442,     0.42543,     0.42643,     0.42743,     0.42843,     0.42943,     0.43043,     0.43143,\n",
              "           0.43243,     0.43343,     0.43443,     0.43544,     0.43644,     0.43744,     0.43844,     0.43944,     0.44044,     0.44144,     0.44244,     0.44344,     0.44444,     0.44545,     0.44645,     0.44745,     0.44845,     0.44945,     0.45045,     0.45145,     0.45245,     0.45345,     0.45445,     0.45546,\n",
              "           0.45646,     0.45746,     0.45846,     0.45946,     0.46046,     0.46146,     0.46246,     0.46346,     0.46446,     0.46547,     0.46647,     0.46747,     0.46847,     0.46947,     0.47047,     0.47147,     0.47247,     0.47347,     0.47447,     0.47548,     0.47648,     0.47748,     0.47848,     0.47948,\n",
              "           0.48048,     0.48148,     0.48248,     0.48348,     0.48448,     0.48549,     0.48649,     0.48749,     0.48849,     0.48949,     0.49049,     0.49149,     0.49249,     0.49349,     0.49449,      0.4955,      0.4965,      0.4975,      0.4985,      0.4995,      0.5005,      0.5015,      0.5025,      0.5035,\n",
              "            0.5045,     0.50551,     0.50651,     0.50751,     0.50851,     0.50951,     0.51051,     0.51151,     0.51251,     0.51351,     0.51451,     0.51552,     0.51652,     0.51752,     0.51852,     0.51952,     0.52052,     0.52152,     0.52252,     0.52352,     0.52452,     0.52553,     0.52653,     0.52753,\n",
              "           0.52853,     0.52953,     0.53053,     0.53153,     0.53253,     0.53353,     0.53453,     0.53554,     0.53654,     0.53754,     0.53854,     0.53954,     0.54054,     0.54154,     0.54254,     0.54354,     0.54454,     0.54555,     0.54655,     0.54755,     0.54855,     0.54955,     0.55055,     0.55155,\n",
              "           0.55255,     0.55355,     0.55455,     0.55556,     0.55656,     0.55756,     0.55856,     0.55956,     0.56056,     0.56156,     0.56256,     0.56356,     0.56456,     0.56557,     0.56657,     0.56757,     0.56857,     0.56957,     0.57057,     0.57157,     0.57257,     0.57357,     0.57457,     0.57558,\n",
              "           0.57658,     0.57758,     0.57858,     0.57958,     0.58058,     0.58158,     0.58258,     0.58358,     0.58458,     0.58559,     0.58659,     0.58759,     0.58859,     0.58959,     0.59059,     0.59159,     0.59259,     0.59359,     0.59459,      0.5956,      0.5966,      0.5976,      0.5986,      0.5996,\n",
              "            0.6006,      0.6016,      0.6026,      0.6036,      0.6046,     0.60561,     0.60661,     0.60761,     0.60861,     0.60961,     0.61061,     0.61161,     0.61261,     0.61361,     0.61461,     0.61562,     0.61662,     0.61762,     0.61862,     0.61962,     0.62062,     0.62162,     0.62262,     0.62362,\n",
              "           0.62462,     0.62563,     0.62663,     0.62763,     0.62863,     0.62963,     0.63063,     0.63163,     0.63263,     0.63363,     0.63463,     0.63564,     0.63664,     0.63764,     0.63864,     0.63964,     0.64064,     0.64164,     0.64264,     0.64364,     0.64464,     0.64565,     0.64665,     0.64765,\n",
              "           0.64865,     0.64965,     0.65065,     0.65165,     0.65265,     0.65365,     0.65465,     0.65566,     0.65666,     0.65766,     0.65866,     0.65966,     0.66066,     0.66166,     0.66266,     0.66366,     0.66466,     0.66567,     0.66667,     0.66767,     0.66867,     0.66967,     0.67067,     0.67167,\n",
              "           0.67267,     0.67367,     0.67467,     0.67568,     0.67668,     0.67768,     0.67868,     0.67968,     0.68068,     0.68168,     0.68268,     0.68368,     0.68468,     0.68569,     0.68669,     0.68769,     0.68869,     0.68969,     0.69069,     0.69169,     0.69269,     0.69369,     0.69469,      0.6957,\n",
              "            0.6967,      0.6977,      0.6987,      0.6997,      0.7007,      0.7017,      0.7027,      0.7037,      0.7047,     0.70571,     0.70671,     0.70771,     0.70871,     0.70971,     0.71071,     0.71171,     0.71271,     0.71371,     0.71471,     0.71572,     0.71672,     0.71772,     0.71872,     0.71972,\n",
              "           0.72072,     0.72172,     0.72272,     0.72372,     0.72472,     0.72573,     0.72673,     0.72773,     0.72873,     0.72973,     0.73073,     0.73173,     0.73273,     0.73373,     0.73473,     0.73574,     0.73674,     0.73774,     0.73874,     0.73974,     0.74074,     0.74174,     0.74274,     0.74374,\n",
              "           0.74474,     0.74575,     0.74675,     0.74775,     0.74875,     0.74975,     0.75075,     0.75175,     0.75275,     0.75375,     0.75475,     0.75576,     0.75676,     0.75776,     0.75876,     0.75976,     0.76076,     0.76176,     0.76276,     0.76376,     0.76476,     0.76577,     0.76677,     0.76777,\n",
              "           0.76877,     0.76977,     0.77077,     0.77177,     0.77277,     0.77377,     0.77477,     0.77578,     0.77678,     0.77778,     0.77878,     0.77978,     0.78078,     0.78178,     0.78278,     0.78378,     0.78478,     0.78579,     0.78679,     0.78779,     0.78879,     0.78979,     0.79079,     0.79179,\n",
              "           0.79279,     0.79379,     0.79479,      0.7958,      0.7968,      0.7978,      0.7988,      0.7998,      0.8008,      0.8018,      0.8028,      0.8038,      0.8048,     0.80581,     0.80681,     0.80781,     0.80881,     0.80981,     0.81081,     0.81181,     0.81281,     0.81381,     0.81481,     0.81582,\n",
              "           0.81682,     0.81782,     0.81882,     0.81982,     0.82082,     0.82182,     0.82282,     0.82382,     0.82482,     0.82583,     0.82683,     0.82783,     0.82883,     0.82983,     0.83083,     0.83183,     0.83283,     0.83383,     0.83483,     0.83584,     0.83684,     0.83784,     0.83884,     0.83984,\n",
              "           0.84084,     0.84184,     0.84284,     0.84384,     0.84484,     0.84585,     0.84685,     0.84785,     0.84885,     0.84985,     0.85085,     0.85185,     0.85285,     0.85385,     0.85485,     0.85586,     0.85686,     0.85786,     0.85886,     0.85986,     0.86086,     0.86186,     0.86286,     0.86386,\n",
              "           0.86486,     0.86587,     0.86687,     0.86787,     0.86887,     0.86987,     0.87087,     0.87187,     0.87287,     0.87387,     0.87487,     0.87588,     0.87688,     0.87788,     0.87888,     0.87988,     0.88088,     0.88188,     0.88288,     0.88388,     0.88488,     0.88589,     0.88689,     0.88789,\n",
              "           0.88889,     0.88989,     0.89089,     0.89189,     0.89289,     0.89389,     0.89489,      0.8959,      0.8969,      0.8979,      0.8989,      0.8999,      0.9009,      0.9019,      0.9029,      0.9039,      0.9049,     0.90591,     0.90691,     0.90791,     0.90891,     0.90991,     0.91091,     0.91191,\n",
              "           0.91291,     0.91391,     0.91491,     0.91592,     0.91692,     0.91792,     0.91892,     0.91992,     0.92092,     0.92192,     0.92292,     0.92392,     0.92492,     0.92593,     0.92693,     0.92793,     0.92893,     0.92993,     0.93093,     0.93193,     0.93293,     0.93393,     0.93493,     0.93594,\n",
              "           0.93694,     0.93794,     0.93894,     0.93994,     0.94094,     0.94194,     0.94294,     0.94394,     0.94494,     0.94595,     0.94695,     0.94795,     0.94895,     0.94995,     0.95095,     0.95195,     0.95295,     0.95395,     0.95495,     0.95596,     0.95696,     0.95796,     0.95896,     0.95996,\n",
              "           0.96096,     0.96196,     0.96296,     0.96396,     0.96496,     0.96597,     0.96697,     0.96797,     0.96897,     0.96997,     0.97097,     0.97197,     0.97297,     0.97397,     0.97497,     0.97598,     0.97698,     0.97798,     0.97898,     0.97998,     0.98098,     0.98198,     0.98298,     0.98398,\n",
              "           0.98498,     0.98599,     0.98699,     0.98799,     0.98899,     0.98999,     0.99099,     0.99199,     0.99299,     0.99399,     0.99499,       0.996,       0.997,       0.998,       0.999,           1]), array([[    0.27312,     0.27312,     0.37842,      0.4462,      0.4978,     0.53512,     0.56859,     0.59129,     0.61589,     0.63606,     0.65148,     0.66615,     0.67878,     0.69047,     0.70068,      0.7042,     0.71187,     0.71983,      0.7245,     0.73297,     0.74212,     0.74759,     0.75262,\n",
              "            0.75855,     0.76295,     0.76709,     0.77093,     0.77454,     0.77838,     0.78174,     0.78625,     0.78987,     0.79399,     0.80011,     0.80287,     0.80568,     0.80911,     0.81254,     0.81427,     0.81732,     0.81883,     0.81969,     0.82178,     0.82495,     0.82696,     0.82968,\n",
              "            0.83067,     0.83166,     0.83613,      0.8388,     0.83996,     0.84025,     0.84119,     0.84358,     0.84433,     0.84521,     0.84795,     0.84941,     0.85141,     0.85323,     0.85502,     0.85599,     0.85633,     0.85665,     0.85837,     0.86016,     0.86055,     0.86098,     0.86354,\n",
              "            0.86427,     0.86622,     0.86824,     0.86956,     0.87038,      0.8717,     0.87253,     0.87349,     0.87414,     0.87455,     0.87524,     0.87637,     0.87843,     0.87957,      0.8798,     0.88002,     0.88276,     0.88314,     0.88427,     0.88551,     0.88609,     0.88623,     0.88638,\n",
              "             0.8874,     0.88812,     0.88929,     0.88941,     0.88952,     0.88964,     0.88969,     0.88988,     0.89056,     0.89123,      0.8915,     0.89307,     0.89358,     0.89376,      0.8945,     0.89549,      0.8958,     0.89642,     0.89688,     0.89709,     0.89777,     0.89798,     0.89818,\n",
              "            0.89886,     0.89907,     0.89954,     0.90124,     0.90154,     0.90215,     0.90227,     0.90239,      0.9025,     0.90243,      0.9034,     0.90339,     0.90338,     0.90336,     0.90335,     0.90348,     0.90366,     0.90385,     0.90403,     0.90421,      0.9054,     0.90567,     0.90606,\n",
              "            0.90633,      0.9064,     0.90648,     0.90655,     0.90662,      0.9067,     0.90677,     0.90727,     0.90825,      0.9082,     0.90823,     0.90884,      0.9097,     0.91021,     0.91127,     0.91266,     0.91364,     0.91388,     0.91413,     0.91462,     0.91478,     0.91494,      0.9151,\n",
              "            0.91552,     0.91569,     0.91579,     0.91588,     0.91598,     0.91607,     0.91637,     0.91667,     0.91679,      0.9169,     0.91702,     0.91713,     0.91718,     0.91723,     0.91728,     0.91733,     0.91738,     0.91744,     0.91749,     0.91754,     0.91759,      0.9176,     0.91781,\n",
              "            0.91808,     0.91876,     0.91893,     0.91911,     0.91932,     0.91952,     0.91974,     0.91996,     0.92023,     0.92164,     0.92172,      0.9218,     0.92189,     0.92197,     0.92205,     0.92213,     0.92301,     0.92334,     0.92362,     0.92419,     0.92433,     0.92447,      0.9246,\n",
              "            0.92482,     0.92678,     0.92716,     0.92734,     0.92743,     0.92753,     0.92763,     0.92773,       0.929,     0.92935,     0.92948,     0.92961,     0.92974,     0.93039,     0.93052,     0.93065,     0.93078,      0.9309,     0.93101,     0.93112,     0.93122,     0.93133,     0.93139,\n",
              "            0.93138,     0.93141,      0.9316,     0.93178,     0.93184,     0.93183,     0.93182,     0.93181,     0.93187,     0.93205,     0.93224,     0.93336,     0.93335,     0.93334,     0.93354,     0.93388,     0.93406,     0.93424,     0.93437,     0.93435,     0.93463,     0.93544,     0.93562,\n",
              "             0.9358,     0.93651,     0.93669,     0.93687,     0.93696,     0.93694,     0.93781,     0.93808,     0.93824,     0.93841,     0.93856,     0.93868,      0.9388,     0.93892,     0.93904,     0.93934,     0.93966,     0.94003,     0.94015,      0.9402,     0.94025,      0.9403,     0.94034,\n",
              "            0.94039,     0.94044,     0.94049,     0.94054,     0.94059,     0.94063,     0.94078,     0.94094,     0.94111,      0.9414,     0.94173,     0.94186,     0.94199,     0.94211,     0.94224,     0.94223,     0.94223,     0.94222,     0.94218,     0.94217,     0.94216,     0.94214,     0.94297,\n",
              "            0.94376,     0.94382,     0.94387,     0.94392,     0.94398,     0.94403,     0.94408,     0.94414,     0.94419,     0.94425,     0.94436,     0.94467,     0.94481,     0.94481,     0.94513,     0.94537,     0.94547,     0.94558,     0.94568,     0.94579,     0.94588,     0.94593,     0.94599,\n",
              "            0.94604,     0.94609,     0.94614,      0.9462,     0.94625,      0.9463,     0.94635,     0.94641,     0.94726,     0.94753,     0.94769,     0.94785,     0.94801,     0.94816,     0.94831,     0.94845,     0.94854,     0.94854,     0.94853,     0.94853,     0.94852,     0.94852,     0.94852,\n",
              "             0.9491,     0.94942,     0.94959,     0.94958,     0.94956,     0.94954,     0.94954,     0.94953,     0.94953,     0.94953,     0.94952,     0.94952,     0.94951,     0.94951,     0.94951,      0.9495,      0.9495,     0.94949,     0.94949,     0.94948,     0.95002,        0.95,     0.95054,\n",
              "            0.95052,      0.9505,     0.95046,     0.95045,     0.95045,     0.95044,     0.95044,     0.95043,      0.9505,     0.95065,      0.9508,     0.95095,      0.9515,     0.95149,     0.95149,     0.95148,     0.95148,     0.95159,     0.95192,     0.95209,     0.95219,     0.95228,     0.95238,\n",
              "            0.95248,     0.95255,     0.95254,     0.95254,     0.95254,     0.95253,     0.95253,     0.95253,     0.95253,     0.95252,     0.95252,     0.95252,     0.95251,     0.95251,     0.95251,      0.9525,      0.9525,     0.95249,     0.95246,     0.95245,      0.9524,     0.95239,     0.95238,\n",
              "            0.95238,     0.95237,     0.95237,     0.95237,     0.95236,     0.95236,     0.95235,      0.9529,     0.95288,     0.95367,     0.95396,     0.95396,     0.95395,     0.95394,     0.95394,     0.95396,     0.95398,       0.954,     0.95402,     0.95404,     0.95406,     0.95408,     0.95409,\n",
              "            0.95411,     0.95413,     0.95415,     0.95417,     0.95419,     0.95421,     0.95423,     0.95425,     0.95427,     0.95429,     0.95431,     0.95433,     0.95435,     0.95437,     0.95438,      0.9544,     0.95442,     0.95444,     0.95446,     0.95448,     0.95455,      0.9547,     0.95484,\n",
              "            0.95498,      0.9556,     0.95559,     0.95557,     0.95556,     0.95573,     0.95602,     0.95671,     0.95681,      0.9569,       0.957,      0.9571,     0.95719,     0.95744,     0.95773,     0.95802,     0.95831,      0.9586,     0.95889,     0.95891,     0.95895,     0.95899,     0.95904,\n",
              "            0.95908,     0.95912,     0.95916,      0.9592,     0.95924,     0.95928,     0.95932,     0.95937,     0.95941,     0.95939,     0.95938,     0.95937,     0.95937,     0.96002,     0.96031,     0.96044,     0.96043,      0.9604,      0.9604,     0.96039,     0.96039,     0.96038,     0.96038,\n",
              "            0.96038,     0.96037,     0.96037,     0.96037,     0.96036,     0.96036,     0.96036,     0.96036,     0.96033,     0.96032,     0.96032,     0.96032,     0.96031,     0.96031,      0.9603,     0.96028,     0.96027,     0.96024,     0.96023,     0.96023,     0.96022,     0.96022,     0.96022,\n",
              "            0.96135,     0.96134,     0.96135,     0.96143,      0.9615,     0.96157,     0.96165,     0.96172,     0.96179,     0.96187,      0.9619,     0.96189,     0.96188,     0.96187,     0.96187,     0.96186,     0.96183,     0.96182,     0.96191,     0.96206,     0.96221,     0.96235,     0.96236,\n",
              "            0.96235,     0.96246,     0.96261,     0.96276,     0.96291,     0.96295,     0.96298,     0.96302,     0.96305,     0.96308,     0.96312,     0.96315,     0.96319,     0.96322,     0.96325,     0.96329,     0.96332,     0.96335,     0.96339,     0.96342,     0.96346,     0.96349,     0.96349,\n",
              "            0.96349,     0.96348,     0.96348,     0.96348,     0.96347,     0.96346,     0.96345,     0.96345,     0.96345,     0.96344,     0.96344,     0.96344,     0.96343,     0.96343,     0.96342,     0.96341,      0.9634,     0.96339,     0.96338,     0.96336,     0.96336,     0.96335,     0.96334,\n",
              "            0.96339,     0.96349,     0.96358,     0.96368,     0.96378,     0.96388,     0.96526,     0.96556,     0.96622,     0.96622,     0.96621,     0.96621,     0.96621,      0.9662,     0.96619,     0.96628,     0.96658,     0.96676,     0.96675,     0.96672,     0.96672,     0.96671,     0.96671,\n",
              "             0.9667,     0.96667,     0.96666,     0.96665,     0.96665,     0.96664,     0.96664,     0.96664,     0.96663,     0.96663,     0.96663,     0.96753,     0.96785,       0.968,     0.96815,      0.9683,     0.96839,     0.96838,     0.96838,     0.96838,     0.96837,     0.96896,     0.96895,\n",
              "            0.96893,     0.96892,     0.96892,     0.96891,     0.96886,     0.96886,     0.96886,     0.96885,     0.96885,     0.96885,     0.96885,     0.96884,     0.96883,     0.96882,     0.96882,     0.96881,     0.96947,     0.96964,     0.96982,     0.96994,     0.96993,     0.96992,     0.96991,\n",
              "            0.96988,     0.96987,     0.96987,     0.96981,      0.9698,     0.96977,     0.96976,     0.96974,     0.96974,     0.96972,     0.96966,     0.96965,     0.96966,     0.96979,     0.96991,     0.97003,     0.97016,     0.97031,     0.97049,     0.97066,     0.97079,     0.97078,     0.97078,\n",
              "            0.97077,     0.97077,     0.97076,     0.97076,     0.97072,     0.97071,     0.97071,      0.9707,      0.9707,     0.97069,     0.97068,     0.97075,     0.97083,      0.9709,     0.97097,     0.97105,     0.97112,     0.97119,     0.97127,     0.97128,     0.97128,     0.97127,     0.97127,\n",
              "            0.97126,     0.97126,     0.97125,     0.97125,     0.97122,     0.97121,     0.97117,     0.97115,     0.97112,     0.97112,     0.97111,     0.97111,      0.9711,     0.97109,     0.97107,     0.97106,     0.97106,     0.97105,     0.97104,     0.97103,     0.97102,     0.97101,       0.971,\n",
              "            0.97097,     0.97092,     0.97091,     0.97091,     0.97088,     0.97085,     0.97084,     0.97083,     0.97082,     0.97081,      0.9708,     0.97079,     0.97079,     0.97078,     0.97068,     0.97067,     0.97063,      0.9706,     0.97059,     0.97118,     0.97117,     0.97115,     0.97177,\n",
              "            0.97176,      0.9717,     0.97169,     0.97166,     0.97165,     0.97161,      0.9716,     0.97159,     0.97157,     0.97156,     0.97151,     0.97144,     0.97143,     0.97142,     0.97139,     0.97135,     0.97134,     0.97132,     0.97127,     0.97126,     0.97124,     0.97123,     0.97122,\n",
              "             0.9712,     0.97119,     0.97115,     0.97142,     0.97178,     0.97177,     0.97186,     0.97199,     0.97212,     0.97225,     0.97238,     0.97238,     0.97238,     0.97237,     0.97235,     0.97232,     0.97231,     0.97227,     0.97226,     0.97217,     0.97215,     0.97214,     0.97209,\n",
              "            0.97205,     0.97202,       0.972,     0.97199,     0.97199,     0.97198,     0.97274,     0.97318,     0.97445,     0.97454,     0.97446,     0.97444,     0.97439,     0.97438,     0.97427,     0.97417,     0.97416,     0.97415,     0.97412,     0.97411,     0.97404,     0.97407,     0.97462,\n",
              "            0.97461,     0.97454,     0.97518,     0.97511,     0.97503,     0.97496,     0.97489,     0.97482,     0.97478,     0.97473,     0.97472,     0.97465,     0.97525,     0.97523,     0.97519,     0.97514,      0.9759,     0.97656,     0.97704,     0.97715,      0.9771,     0.97708,     0.97698,\n",
              "            0.97752,     0.97762,     0.97754,     0.97752,     0.97746,      0.9781,     0.97809,     0.97801,     0.97797,     0.97857,     0.97848,     0.97846,     0.97841,     0.97835,     0.97834,     0.97831,     0.97827,      0.9789,      0.9788,     0.97878,      0.9787,     0.97858,     0.97856,\n",
              "             0.9792,     0.97926,     0.97987,     0.98011,     0.98047,     0.98035,     0.98024,     0.98016,     0.98007,     0.98001,     0.97977,     0.97967,     0.97951,     0.97934,     0.97921,     0.97918,     0.97908,     0.97893,     0.97882,     0.97869,     0.97858,     0.97846,      0.9783,\n",
              "            0.97818,     0.97815,     0.97788,     0.97769,     0.98013,        0.98,     0.98245,     0.98235,     0.98305,     0.98295,     0.98281,     0.98258,     0.98328,     0.98326,     0.98299,     0.98283,     0.98268,      0.9826,     0.98226,     0.98198,     0.98192,     0.98164,     0.98118,\n",
              "            0.98107,     0.98077,     0.98044,     0.98137,     0.98209,     0.98302,     0.98286,      0.9824,     0.98176,     0.98161,     0.98114,     0.98067,     0.98018,     0.98128,     0.98066,     0.98031,     0.97914,     0.97852,     0.97801,     0.97731,     0.97636,     0.97475,     0.97599,\n",
              "            0.97535,     0.98003,     0.97958,     0.98244,     0.98185,     0.98372,     0.98288,     0.98128,      0.9789,     0.97764,     0.97911,     0.97655,     0.97503,     0.97767,     0.97648,     0.97485,     0.97222,      0.9754,     0.96904,     0.96546,     0.96094,     0.95636,     0.95058,\n",
              "            0.94077,     0.95614,     0.95067,     0.94805,     0.95259,     0.95534,     0.94547,     0.93459,     0.92377,     0.87025,     0.85804,           1,           1,           1,           1,           1,           1,           1,           1,           1,           1,           1,           1,\n",
              "                  1,           1,           1,           1,           1,           1,           1,           1,           1,           1,           1]]), 'Confidence', 'Precision'], [array([          0,    0.001001,    0.002002,    0.003003,    0.004004,    0.005005,    0.006006,    0.007007,    0.008008,    0.009009,     0.01001,    0.011011,    0.012012,    0.013013,    0.014014,    0.015015,    0.016016,    0.017017,    0.018018,    0.019019,     0.02002,    0.021021,    0.022022,    0.023023,\n",
              "          0.024024,    0.025025,    0.026026,    0.027027,    0.028028,    0.029029,     0.03003,    0.031031,    0.032032,    0.033033,    0.034034,    0.035035,    0.036036,    0.037037,    0.038038,    0.039039,     0.04004,    0.041041,    0.042042,    0.043043,    0.044044,    0.045045,    0.046046,    0.047047,\n",
              "          0.048048,    0.049049,     0.05005,    0.051051,    0.052052,    0.053053,    0.054054,    0.055055,    0.056056,    0.057057,    0.058058,    0.059059,     0.06006,    0.061061,    0.062062,    0.063063,    0.064064,    0.065065,    0.066066,    0.067067,    0.068068,    0.069069,     0.07007,    0.071071,\n",
              "          0.072072,    0.073073,    0.074074,    0.075075,    0.076076,    0.077077,    0.078078,    0.079079,     0.08008,    0.081081,    0.082082,    0.083083,    0.084084,    0.085085,    0.086086,    0.087087,    0.088088,    0.089089,     0.09009,    0.091091,    0.092092,    0.093093,    0.094094,    0.095095,\n",
              "          0.096096,    0.097097,    0.098098,    0.099099,      0.1001,      0.1011,      0.1021,      0.1031,      0.1041,     0.10511,     0.10611,     0.10711,     0.10811,     0.10911,     0.11011,     0.11111,     0.11211,     0.11311,     0.11411,     0.11512,     0.11612,     0.11712,     0.11812,     0.11912,\n",
              "           0.12012,     0.12112,     0.12212,     0.12312,     0.12412,     0.12513,     0.12613,     0.12713,     0.12813,     0.12913,     0.13013,     0.13113,     0.13213,     0.13313,     0.13413,     0.13514,     0.13614,     0.13714,     0.13814,     0.13914,     0.14014,     0.14114,     0.14214,     0.14314,\n",
              "           0.14414,     0.14515,     0.14615,     0.14715,     0.14815,     0.14915,     0.15015,     0.15115,     0.15215,     0.15315,     0.15415,     0.15516,     0.15616,     0.15716,     0.15816,     0.15916,     0.16016,     0.16116,     0.16216,     0.16316,     0.16416,     0.16517,     0.16617,     0.16717,\n",
              "           0.16817,     0.16917,     0.17017,     0.17117,     0.17217,     0.17317,     0.17417,     0.17518,     0.17618,     0.17718,     0.17818,     0.17918,     0.18018,     0.18118,     0.18218,     0.18318,     0.18418,     0.18519,     0.18619,     0.18719,     0.18819,     0.18919,     0.19019,     0.19119,\n",
              "           0.19219,     0.19319,     0.19419,      0.1952,      0.1962,      0.1972,      0.1982,      0.1992,      0.2002,      0.2012,      0.2022,      0.2032,      0.2042,     0.20521,     0.20621,     0.20721,     0.20821,     0.20921,     0.21021,     0.21121,     0.21221,     0.21321,     0.21421,     0.21522,\n",
              "           0.21622,     0.21722,     0.21822,     0.21922,     0.22022,     0.22122,     0.22222,     0.22322,     0.22422,     0.22523,     0.22623,     0.22723,     0.22823,     0.22923,     0.23023,     0.23123,     0.23223,     0.23323,     0.23423,     0.23524,     0.23624,     0.23724,     0.23824,     0.23924,\n",
              "           0.24024,     0.24124,     0.24224,     0.24324,     0.24424,     0.24525,     0.24625,     0.24725,     0.24825,     0.24925,     0.25025,     0.25125,     0.25225,     0.25325,     0.25425,     0.25526,     0.25626,     0.25726,     0.25826,     0.25926,     0.26026,     0.26126,     0.26226,     0.26326,\n",
              "           0.26426,     0.26527,     0.26627,     0.26727,     0.26827,     0.26927,     0.27027,     0.27127,     0.27227,     0.27327,     0.27427,     0.27528,     0.27628,     0.27728,     0.27828,     0.27928,     0.28028,     0.28128,     0.28228,     0.28328,     0.28428,     0.28529,     0.28629,     0.28729,\n",
              "           0.28829,     0.28929,     0.29029,     0.29129,     0.29229,     0.29329,     0.29429,      0.2953,      0.2963,      0.2973,      0.2983,      0.2993,      0.3003,      0.3013,      0.3023,      0.3033,      0.3043,     0.30531,     0.30631,     0.30731,     0.30831,     0.30931,     0.31031,     0.31131,\n",
              "           0.31231,     0.31331,     0.31431,     0.31532,     0.31632,     0.31732,     0.31832,     0.31932,     0.32032,     0.32132,     0.32232,     0.32332,     0.32432,     0.32533,     0.32633,     0.32733,     0.32833,     0.32933,     0.33033,     0.33133,     0.33233,     0.33333,     0.33433,     0.33534,\n",
              "           0.33634,     0.33734,     0.33834,     0.33934,     0.34034,     0.34134,     0.34234,     0.34334,     0.34434,     0.34535,     0.34635,     0.34735,     0.34835,     0.34935,     0.35035,     0.35135,     0.35235,     0.35335,     0.35435,     0.35536,     0.35636,     0.35736,     0.35836,     0.35936,\n",
              "           0.36036,     0.36136,     0.36236,     0.36336,     0.36436,     0.36537,     0.36637,     0.36737,     0.36837,     0.36937,     0.37037,     0.37137,     0.37237,     0.37337,     0.37437,     0.37538,     0.37638,     0.37738,     0.37838,     0.37938,     0.38038,     0.38138,     0.38238,     0.38338,\n",
              "           0.38438,     0.38539,     0.38639,     0.38739,     0.38839,     0.38939,     0.39039,     0.39139,     0.39239,     0.39339,     0.39439,      0.3954,      0.3964,      0.3974,      0.3984,      0.3994,      0.4004,      0.4014,      0.4024,      0.4034,      0.4044,     0.40541,     0.40641,     0.40741,\n",
              "           0.40841,     0.40941,     0.41041,     0.41141,     0.41241,     0.41341,     0.41441,     0.41542,     0.41642,     0.41742,     0.41842,     0.41942,     0.42042,     0.42142,     0.42242,     0.42342,     0.42442,     0.42543,     0.42643,     0.42743,     0.42843,     0.42943,     0.43043,     0.43143,\n",
              "           0.43243,     0.43343,     0.43443,     0.43544,     0.43644,     0.43744,     0.43844,     0.43944,     0.44044,     0.44144,     0.44244,     0.44344,     0.44444,     0.44545,     0.44645,     0.44745,     0.44845,     0.44945,     0.45045,     0.45145,     0.45245,     0.45345,     0.45445,     0.45546,\n",
              "           0.45646,     0.45746,     0.45846,     0.45946,     0.46046,     0.46146,     0.46246,     0.46346,     0.46446,     0.46547,     0.46647,     0.46747,     0.46847,     0.46947,     0.47047,     0.47147,     0.47247,     0.47347,     0.47447,     0.47548,     0.47648,     0.47748,     0.47848,     0.47948,\n",
              "           0.48048,     0.48148,     0.48248,     0.48348,     0.48448,     0.48549,     0.48649,     0.48749,     0.48849,     0.48949,     0.49049,     0.49149,     0.49249,     0.49349,     0.49449,      0.4955,      0.4965,      0.4975,      0.4985,      0.4995,      0.5005,      0.5015,      0.5025,      0.5035,\n",
              "            0.5045,     0.50551,     0.50651,     0.50751,     0.50851,     0.50951,     0.51051,     0.51151,     0.51251,     0.51351,     0.51451,     0.51552,     0.51652,     0.51752,     0.51852,     0.51952,     0.52052,     0.52152,     0.52252,     0.52352,     0.52452,     0.52553,     0.52653,     0.52753,\n",
              "           0.52853,     0.52953,     0.53053,     0.53153,     0.53253,     0.53353,     0.53453,     0.53554,     0.53654,     0.53754,     0.53854,     0.53954,     0.54054,     0.54154,     0.54254,     0.54354,     0.54454,     0.54555,     0.54655,     0.54755,     0.54855,     0.54955,     0.55055,     0.55155,\n",
              "           0.55255,     0.55355,     0.55455,     0.55556,     0.55656,     0.55756,     0.55856,     0.55956,     0.56056,     0.56156,     0.56256,     0.56356,     0.56456,     0.56557,     0.56657,     0.56757,     0.56857,     0.56957,     0.57057,     0.57157,     0.57257,     0.57357,     0.57457,     0.57558,\n",
              "           0.57658,     0.57758,     0.57858,     0.57958,     0.58058,     0.58158,     0.58258,     0.58358,     0.58458,     0.58559,     0.58659,     0.58759,     0.58859,     0.58959,     0.59059,     0.59159,     0.59259,     0.59359,     0.59459,      0.5956,      0.5966,      0.5976,      0.5986,      0.5996,\n",
              "            0.6006,      0.6016,      0.6026,      0.6036,      0.6046,     0.60561,     0.60661,     0.60761,     0.60861,     0.60961,     0.61061,     0.61161,     0.61261,     0.61361,     0.61461,     0.61562,     0.61662,     0.61762,     0.61862,     0.61962,     0.62062,     0.62162,     0.62262,     0.62362,\n",
              "           0.62462,     0.62563,     0.62663,     0.62763,     0.62863,     0.62963,     0.63063,     0.63163,     0.63263,     0.63363,     0.63463,     0.63564,     0.63664,     0.63764,     0.63864,     0.63964,     0.64064,     0.64164,     0.64264,     0.64364,     0.64464,     0.64565,     0.64665,     0.64765,\n",
              "           0.64865,     0.64965,     0.65065,     0.65165,     0.65265,     0.65365,     0.65465,     0.65566,     0.65666,     0.65766,     0.65866,     0.65966,     0.66066,     0.66166,     0.66266,     0.66366,     0.66466,     0.66567,     0.66667,     0.66767,     0.66867,     0.66967,     0.67067,     0.67167,\n",
              "           0.67267,     0.67367,     0.67467,     0.67568,     0.67668,     0.67768,     0.67868,     0.67968,     0.68068,     0.68168,     0.68268,     0.68368,     0.68468,     0.68569,     0.68669,     0.68769,     0.68869,     0.68969,     0.69069,     0.69169,     0.69269,     0.69369,     0.69469,      0.6957,\n",
              "            0.6967,      0.6977,      0.6987,      0.6997,      0.7007,      0.7017,      0.7027,      0.7037,      0.7047,     0.70571,     0.70671,     0.70771,     0.70871,     0.70971,     0.71071,     0.71171,     0.71271,     0.71371,     0.71471,     0.71572,     0.71672,     0.71772,     0.71872,     0.71972,\n",
              "           0.72072,     0.72172,     0.72272,     0.72372,     0.72472,     0.72573,     0.72673,     0.72773,     0.72873,     0.72973,     0.73073,     0.73173,     0.73273,     0.73373,     0.73473,     0.73574,     0.73674,     0.73774,     0.73874,     0.73974,     0.74074,     0.74174,     0.74274,     0.74374,\n",
              "           0.74474,     0.74575,     0.74675,     0.74775,     0.74875,     0.74975,     0.75075,     0.75175,     0.75275,     0.75375,     0.75475,     0.75576,     0.75676,     0.75776,     0.75876,     0.75976,     0.76076,     0.76176,     0.76276,     0.76376,     0.76476,     0.76577,     0.76677,     0.76777,\n",
              "           0.76877,     0.76977,     0.77077,     0.77177,     0.77277,     0.77377,     0.77477,     0.77578,     0.77678,     0.77778,     0.77878,     0.77978,     0.78078,     0.78178,     0.78278,     0.78378,     0.78478,     0.78579,     0.78679,     0.78779,     0.78879,     0.78979,     0.79079,     0.79179,\n",
              "           0.79279,     0.79379,     0.79479,      0.7958,      0.7968,      0.7978,      0.7988,      0.7998,      0.8008,      0.8018,      0.8028,      0.8038,      0.8048,     0.80581,     0.80681,     0.80781,     0.80881,     0.80981,     0.81081,     0.81181,     0.81281,     0.81381,     0.81481,     0.81582,\n",
              "           0.81682,     0.81782,     0.81882,     0.81982,     0.82082,     0.82182,     0.82282,     0.82382,     0.82482,     0.82583,     0.82683,     0.82783,     0.82883,     0.82983,     0.83083,     0.83183,     0.83283,     0.83383,     0.83483,     0.83584,     0.83684,     0.83784,     0.83884,     0.83984,\n",
              "           0.84084,     0.84184,     0.84284,     0.84384,     0.84484,     0.84585,     0.84685,     0.84785,     0.84885,     0.84985,     0.85085,     0.85185,     0.85285,     0.85385,     0.85485,     0.85586,     0.85686,     0.85786,     0.85886,     0.85986,     0.86086,     0.86186,     0.86286,     0.86386,\n",
              "           0.86486,     0.86587,     0.86687,     0.86787,     0.86887,     0.86987,     0.87087,     0.87187,     0.87287,     0.87387,     0.87487,     0.87588,     0.87688,     0.87788,     0.87888,     0.87988,     0.88088,     0.88188,     0.88288,     0.88388,     0.88488,     0.88589,     0.88689,     0.88789,\n",
              "           0.88889,     0.88989,     0.89089,     0.89189,     0.89289,     0.89389,     0.89489,      0.8959,      0.8969,      0.8979,      0.8989,      0.8999,      0.9009,      0.9019,      0.9029,      0.9039,      0.9049,     0.90591,     0.90691,     0.90791,     0.90891,     0.90991,     0.91091,     0.91191,\n",
              "           0.91291,     0.91391,     0.91491,     0.91592,     0.91692,     0.91792,     0.91892,     0.91992,     0.92092,     0.92192,     0.92292,     0.92392,     0.92492,     0.92593,     0.92693,     0.92793,     0.92893,     0.92993,     0.93093,     0.93193,     0.93293,     0.93393,     0.93493,     0.93594,\n",
              "           0.93694,     0.93794,     0.93894,     0.93994,     0.94094,     0.94194,     0.94294,     0.94394,     0.94494,     0.94595,     0.94695,     0.94795,     0.94895,     0.94995,     0.95095,     0.95195,     0.95295,     0.95395,     0.95495,     0.95596,     0.95696,     0.95796,     0.95896,     0.95996,\n",
              "           0.96096,     0.96196,     0.96296,     0.96396,     0.96496,     0.96597,     0.96697,     0.96797,     0.96897,     0.96997,     0.97097,     0.97197,     0.97297,     0.97397,     0.97497,     0.97598,     0.97698,     0.97798,     0.97898,     0.97998,     0.98098,     0.98198,     0.98298,     0.98398,\n",
              "           0.98498,     0.98599,     0.98699,     0.98799,     0.98899,     0.98999,     0.99099,     0.99199,     0.99299,     0.99399,     0.99499,       0.996,       0.997,       0.998,       0.999,           1]), array([[     0.9942,      0.9942,     0.99362,     0.99187,     0.99187,     0.99129,     0.99129,     0.98839,     0.98723,     0.98723,     0.98723,     0.98723,     0.98723,     0.98549,     0.98491,     0.98375,     0.98375,     0.98375,     0.98375,     0.98375,     0.98375,     0.98375,     0.98375,\n",
              "            0.98375,     0.98375,     0.98375,     0.98375,     0.98375,     0.98375,     0.98375,     0.98375,     0.98375,     0.98375,     0.98317,     0.98201,     0.98085,     0.98027,     0.98027,     0.98027,     0.98027,     0.98027,     0.97969,     0.97969,     0.97911,     0.97853,     0.97795,\n",
              "            0.97795,     0.97795,     0.97795,     0.97795,      0.9778,     0.97684,     0.97678,      0.9762,     0.97584,     0.97562,     0.97562,     0.97562,     0.97562,     0.97562,     0.97562,     0.97562,     0.97504,     0.97504,     0.97504,     0.97504,     0.97504,     0.97504,     0.97504,\n",
              "            0.97504,     0.97504,     0.97504,     0.97504,     0.97504,     0.97504,     0.97504,     0.97504,     0.97504,     0.97504,     0.97504,     0.97504,     0.97504,     0.97504,     0.97504,     0.97504,     0.97446,     0.97446,     0.97446,     0.97409,     0.97388,     0.97388,     0.97388,\n",
              "            0.97388,     0.97388,     0.97388,     0.97388,     0.97388,     0.97388,     0.97367,      0.9733,      0.9733,      0.9733,      0.9733,      0.9733,      0.9733,      0.9733,      0.9733,      0.9733,      0.9733,      0.9733,      0.9733,      0.9733,      0.9733,      0.9733,      0.9733,\n",
              "             0.9733,      0.9733,     0.97272,     0.97272,     0.97272,     0.97272,     0.97272,     0.97272,     0.97272,     0.97162,     0.97156,     0.97142,     0.97129,     0.97115,     0.97102,     0.97098,     0.97098,     0.97098,     0.97098,     0.97098,     0.97098,     0.97098,     0.97098,\n",
              "            0.97098,     0.97098,     0.97098,     0.97098,     0.97098,     0.97098,     0.97098,     0.97098,     0.97096,     0.97037,     0.96982,     0.96982,     0.96982,     0.96982,     0.96982,     0.96982,     0.96982,     0.96982,     0.96982,     0.96982,     0.96982,     0.96982,     0.96982,\n",
              "            0.96982,     0.96982,     0.96982,     0.96982,     0.96982,     0.96982,     0.96982,     0.96982,     0.96982,     0.96982,     0.96982,     0.96982,     0.96982,     0.96982,     0.96982,     0.96982,     0.96982,     0.96982,     0.96982,     0.96982,     0.96982,     0.96947,     0.96924,\n",
              "            0.96924,     0.96924,     0.96924,     0.96924,     0.96924,     0.96924,     0.96924,     0.96924,     0.96924,     0.96924,     0.96924,     0.96924,     0.96924,     0.96924,     0.96924,     0.96924,     0.96924,     0.96924,     0.96924,     0.96924,     0.96924,     0.96924,     0.96924,\n",
              "            0.96924,     0.96924,     0.96924,     0.96924,     0.96924,     0.96924,     0.96924,     0.96924,     0.96924,     0.96924,     0.96924,     0.96924,     0.96924,     0.96924,     0.96924,     0.96924,     0.96924,     0.96924,     0.96924,     0.96924,     0.96924,     0.96924,     0.96914,\n",
              "            0.96886,     0.96866,     0.96866,     0.96866,     0.96801,     0.96787,     0.96773,     0.96759,      0.9675,      0.9675,      0.9675,      0.9674,      0.9672,       0.967,     0.96692,     0.96692,     0.96692,     0.96692,     0.96683,      0.9664,     0.96634,     0.96634,     0.96634,\n",
              "            0.96634,     0.96634,     0.96634,     0.96634,     0.96617,     0.96577,     0.96576,     0.96576,     0.96576,     0.96576,     0.96576,     0.96576,     0.96576,     0.96576,     0.96576,     0.96576,     0.96576,     0.96576,     0.96576,     0.96576,     0.96576,     0.96576,     0.96576,\n",
              "            0.96576,     0.96576,     0.96576,     0.96576,     0.96576,     0.96576,     0.96576,     0.96576,     0.96576,     0.96576,     0.96576,     0.96576,     0.96576,     0.96576,     0.96576,     0.96561,     0.96546,     0.96531,     0.96458,     0.96439,     0.96421,     0.96403,     0.96402,\n",
              "            0.96402,     0.96402,     0.96402,     0.96402,     0.96402,     0.96402,     0.96402,     0.96402,     0.96402,     0.96402,     0.96402,     0.96402,     0.96381,     0.96344,     0.96344,     0.96344,     0.96344,     0.96344,     0.96344,     0.96344,     0.96344,     0.96344,     0.96344,\n",
              "            0.96344,     0.96344,     0.96344,     0.96344,     0.96344,     0.96344,     0.96344,     0.96344,     0.96344,     0.96344,     0.96344,     0.96344,     0.96344,     0.96344,     0.96344,     0.96344,     0.96284,     0.96276,     0.96267,     0.96259,     0.96251,     0.96243,     0.96235,\n",
              "            0.96228,     0.96228,     0.96213,     0.96179,     0.96145,     0.96111,     0.96103,     0.96096,     0.96088,      0.9608,     0.96072,     0.96064,     0.96056,     0.96048,      0.9604,     0.96031,     0.96023,     0.96015,     0.96007,     0.95998,     0.95977,     0.95947,     0.95915,\n",
              "            0.95881,     0.95847,     0.95761,      0.9575,      0.9574,      0.9573,     0.95719,     0.95709,     0.95647,     0.95647,     0.95647,     0.95647,     0.95637,     0.95627,     0.95616,     0.95606,     0.95596,     0.95589,     0.95589,     0.95589,     0.95589,     0.95589,     0.95589,\n",
              "            0.95589,     0.95531,     0.95524,     0.95518,     0.95512,     0.95506,     0.95499,     0.95493,     0.95487,     0.95481,     0.95474,     0.95467,     0.95459,     0.95452,     0.95444,     0.95436,     0.95429,     0.95421,      0.9535,      0.9532,     0.95233,     0.95203,      0.9518,\n",
              "            0.95173,     0.95165,     0.95157,      0.9515,     0.95142,     0.95134,     0.95127,     0.95102,     0.95072,     0.95009,     0.95007,     0.94992,     0.94977,     0.94962,     0.94951,     0.94951,     0.94951,     0.94951,     0.94951,     0.94951,     0.94951,     0.94951,     0.94951,\n",
              "            0.94951,     0.94951,     0.94951,     0.94951,     0.94951,     0.94951,     0.94951,     0.94951,     0.94951,     0.94951,     0.94951,     0.94951,     0.94951,     0.94951,     0.94951,     0.94951,     0.94951,     0.94951,     0.94951,     0.94951,     0.94951,     0.94951,     0.94951,\n",
              "            0.94951,     0.94935,     0.94905,     0.94876,     0.94846,     0.94835,     0.94835,     0.94777,     0.94777,     0.94777,     0.94777,     0.94777,     0.94777,     0.94777,     0.94777,     0.94777,     0.94777,     0.94777,     0.94777,     0.94719,     0.94719,     0.94719,     0.94719,\n",
              "            0.94719,     0.94719,     0.94719,     0.94719,     0.94719,     0.94719,     0.94719,     0.94719,     0.94719,     0.94598,     0.94583,     0.94568,     0.94553,     0.94486,     0.94486,     0.94415,     0.94385,     0.94307,     0.94297,     0.94287,     0.94278,     0.94268,     0.94258,\n",
              "            0.94249,     0.94242,     0.94235,     0.94227,      0.9422,     0.94212,     0.94205,     0.94197,      0.9413,      0.9412,      0.9411,       0.941,      0.9409,      0.9408,     0.94051,     0.94021,     0.93991,     0.93905,     0.93895,     0.93885,     0.93875,     0.93865,     0.93856,\n",
              "            0.93841,     0.93811,      0.9379,      0.9379,      0.9379,      0.9379,      0.9379,      0.9379,      0.9379,      0.9379,     0.93776,     0.93746,     0.93724,     0.93709,     0.93694,     0.93679,     0.93597,     0.93568,     0.93558,     0.93558,     0.93558,     0.93558,     0.93477,\n",
              "            0.93447,     0.93442,     0.93442,     0.93442,     0.93442,     0.93442,     0.93442,     0.93442,     0.93442,     0.93442,     0.93442,     0.93442,     0.93442,     0.93442,     0.93442,     0.93442,     0.93442,     0.93442,     0.93442,     0.93442,     0.93442,     0.93442,     0.93433,\n",
              "            0.93423,     0.93413,     0.93404,     0.93394,     0.93384,     0.93354,     0.93325,     0.93317,     0.93309,     0.93301,     0.93294,     0.93286,     0.93278,      0.9327,     0.93246,     0.93216,     0.93187,     0.93157,     0.93127,     0.93097,     0.93079,     0.93062,     0.93045,\n",
              "            0.93035,     0.93035,     0.93035,     0.93035,     0.93035,     0.93035,     0.93035,     0.93035,      0.9297,      0.9296,     0.92949,     0.92938,     0.92927,     0.92911,     0.92881,     0.92861,     0.92861,     0.92846,     0.92807,     0.92732,     0.92717,     0.92702,     0.92687,\n",
              "            0.92657,      0.9257,     0.92553,     0.92536,     0.92519,     0.92507,     0.92497,     0.92487,     0.92477,     0.92467,     0.92457,     0.92455,     0.92455,     0.92455,     0.92455,     0.92455,      0.9245,      0.9244,     0.92429,     0.92418,     0.92407,     0.92394,     0.92355,\n",
              "            0.92321,     0.92291,     0.92262,     0.92232,     0.92101,     0.92092,     0.92084,     0.92075,     0.92067,     0.92058,      0.9205,     0.92023,     0.91993,     0.91975,     0.91958,     0.91941,     0.91875,     0.91875,     0.91875,     0.91756,     0.91726,     0.91695,     0.91655,\n",
              "            0.91573,     0.91556,     0.91539,     0.91345,     0.91315,     0.91224,     0.91184,     0.91153,     0.91123,     0.91085,     0.90875,     0.90845,     0.90714,     0.90714,     0.90714,     0.90714,     0.90714,     0.90714,     0.90714,     0.90714,     0.90653,     0.90636,     0.90619,\n",
              "            0.90602,     0.90585,     0.90568,     0.90551,     0.90419,     0.90408,     0.90396,     0.90384,     0.90372,     0.90347,     0.90308,     0.90308,     0.90308,     0.90308,     0.90308,     0.90308,     0.90308,     0.90308,     0.90308,     0.90295,     0.90278,     0.90261,     0.90245,\n",
              "            0.90232,     0.90219,     0.90206,     0.90193,     0.90106,     0.90076,     0.89921,     0.89881,     0.89785,     0.89768,     0.89751,     0.89734,     0.89702,     0.89663,     0.89623,     0.89597,     0.89577,     0.89558,     0.89522,     0.89483,     0.89443,     0.89412,     0.89382,\n",
              "            0.89285,     0.89138,     0.89118,     0.89099,     0.89011,     0.88913,     0.88873,     0.88845,     0.88825,     0.88806,     0.88773,     0.88737,     0.88717,     0.88697,     0.88382,     0.88342,     0.88245,     0.88147,     0.88107,      0.8801,      0.8797,      0.8793,     0.87909,\n",
              "            0.87889,     0.87695,     0.87655,     0.87558,     0.87516,     0.87401,     0.87361,     0.87322,     0.87282,     0.87242,     0.87087,     0.86873,     0.86833,     0.86794,     0.86689,     0.86579,     0.86539,       0.865,     0.86344,     0.86304,     0.86245,     0.86205,     0.86166,\n",
              "            0.86126,     0.86086,     0.85977,     0.85955,     0.85948,     0.85909,     0.85897,     0.85897,     0.85897,     0.85897,     0.85897,     0.85822,     0.85802,     0.85783,     0.85727,     0.85628,     0.85579,     0.85471,     0.85431,      0.8514,     0.85101,      0.8505,     0.84886,\n",
              "            0.84786,     0.84671,     0.84632,     0.84603,     0.84579,     0.84546,     0.84504,     0.84504,     0.84446,     0.84412,     0.84133,     0.84073,     0.83906,     0.83866,     0.83517,     0.83168,     0.83145,     0.83121,     0.83018,     0.82971,     0.82754,     0.82472,     0.82465,\n",
              "            0.82425,     0.82197,     0.82079,     0.81846,      0.8157,      0.8135,     0.81116,     0.80882,     0.80765,     0.80598,     0.80558,     0.80325,     0.80034,     0.79974,     0.79857,     0.79681,     0.79629,     0.79571,     0.79571,     0.79414,     0.79238,     0.79179,     0.78829,\n",
              "            0.78758,     0.78594,     0.78303,     0.78243,     0.78009,     0.77776,     0.77716,     0.77425,     0.77307,      0.7684,     0.76521,     0.76461,     0.76286,      0.7607,      0.7604,     0.75933,     0.75758,     0.75379,     0.75029,      0.7497,     0.74678,     0.74252,     0.74182,\n",
              "            0.74115,     0.74005,     0.73452,      0.7307,     0.72841,     0.72374,     0.71966,     0.71672,     0.71354,      0.7112,     0.70277,     0.69919,     0.69375,     0.68793,     0.68356,     0.68224,     0.67918,     0.67423,     0.67055,     0.66637,     0.66287,     0.65908,     0.65418,\n",
              "            0.65035,     0.64948,     0.64132,      0.6358,     0.62969,     0.62557,     0.61747,      0.6139,     0.60583,     0.60224,     0.59739,     0.58941,     0.58024,     0.57949,     0.57034,     0.56492,     0.55967,     0.55724,     0.54626,     0.53777,     0.53575,      0.5276,     0.51451,\n",
              "            0.51129,     0.50314,     0.49444,     0.48915,     0.47751,     0.47052,     0.46585,     0.45363,     0.43735,     0.43369,     0.42278,     0.41231,     0.40183,     0.39542,     0.38262,     0.37563,     0.35412,     0.34365,     0.33549,     0.32502,     0.31164,      0.2913,     0.28314,\n",
              "            0.27557,     0.25639,     0.25055,     0.22731,     0.21973,     0.21042,     0.19994,      0.1825,     0.16158,     0.15226,     0.13599,     0.12087,     0.11329,     0.10166,    0.096403,     0.08999,    0.081255,    0.069038,    0.054499,    0.048666,    0.042833,    0.038161,    0.033489,\n",
              "           0.027656,    0.025306,    0.022375,    0.021185,    0.016831,    0.012421,     0.01007,   0.0083002,   0.0070375,   0.0039081,   0.0035115,   0.0029606,   0.0014584,   0.0011609,           0,           0,           0,           0,           0,           0,           0,           0,           0,\n",
              "                  0,           0,           0,           0,           0,           0,           0,           0,           0,           0,           0]]), 'Confidence', 'Recall']]\n",
              "fitness: 0.8177227168734692\n",
              "keys: ['metrics/precision(B)', 'metrics/recall(B)', 'metrics/mAP50(B)', 'metrics/mAP50-95(B)']\n",
              "maps: array([     0.8009,      0.8009,      0.8009,      0.8009,      0.8009,      0.8009,      0.8009,      0.8009,      0.8009,      0.8009,      0.8009,      0.8009,      0.8009,      0.8009,      0.8009,      0.8009,      0.8009,      0.8009,      0.8009,      0.8009,      0.8009,      0.8009,      0.8009,      0.8009,\n",
              "            0.8009,      0.8009,      0.8009,      0.8009,      0.8009,      0.8009,      0.8009,      0.8009,      0.8009,      0.8009,      0.8009,      0.8009,      0.8009,      0.8009,      0.8009,      0.8009,      0.8009,      0.8009,      0.8009,      0.8009,      0.8009,      0.8009,      0.8009,      0.8009,\n",
              "            0.8009,      0.8009,      0.8009,      0.8009,      0.8009,      0.8009,      0.8009,      0.8009,      0.8009,      0.8009,      0.8009,      0.8009,      0.8009,      0.8009,      0.8009,      0.8009,      0.8009,      0.8009,      0.8009,      0.8009,      0.8009,      0.8009,      0.8009,      0.8009,\n",
              "            0.8009,      0.8009,      0.8009,      0.8009,      0.8009,      0.8009,      0.8009,      0.8009,      0.8009,      0.8009,      0.8009,      0.8009,      0.8009])\n",
              "names: {0: 'Danger Ahead', 1: 'Give Way', 2: 'Go Left or Straight', 3: 'Go Straight', 4: 'Huddle Road', 5: 'Left Sharp Curve', 6: 'No Entry', 7: 'No Over Taking Trucks', 8: 'No Stopping', 9: 'No Waiting', 10: 'Pedestrian', 11: 'Right Sharp Curve', 12: 'RoundAbout', 13: 'Speed Limit 20', 14: 'Speed Limit 30', 15: 'Speed Limit 50', 16: 'Speed Limit 60', 17: 'Speed Limit 70', 18: 'Stop', 19: 'Truck Sign', 20: 'Turn Left', 21: 'Turn Right', 22: 'bicycle', 23: 'broken_white_line', 24: 'bus_stop', 25: 'children', 26: 'continuous_white_line', 27: 'crossing', 28: 'crosswalk', 29: 'do_not_enter', 30: 'do_not_stop', 31: 'do_not_turn_left', 32: 'do_not_turn_right', 33: 'do_not_u_turn', 34: 'double_yellow_line', 35: 'enter_left_lane', 36: 'give_way', 37: 'green_light', 38: 'lanes_merging', 39: 'left_lane_enter', 40: 'left_right_lane', 41: 'left_sharp_curve', 42: 'left_turn', 43: 'light_traffic', 44: 'narrow_road', 45: 'no_entry', 46: 'no_left_turn', 47: 'no_overtaking', 48: 'no_overtaking_truck', 49: 'no_parking', 50: 'no_passing', 51: 'no_right_turn', 52: 'no_stop', 53: 'no_waiting', 54: 'parking', 55: 'ped_crossing', 56: 'ped_zebra_cross', 57: 'pedestrain_crossing_prohibition', 58: 'railway_crossing', 59: 'red_light', 60: 'refueling', 61: 'right_sharp_curve', 62: 'right_turn', 63: 'road_main', 64: 'road_work', 65: 'school_nearby', 66: 'speed_bump', 67: 'speed_limit_100', 68: 'speed_limit_120', 69: 'speed_limit_20', 70: 'speed_limit_30', 71: 'speed_limit_40', 72: 'speed_limit_50', 73: 'speed_limit_60', 74: 'speed_limit_70', 75: 'speed_limit_80', 76: 'stop', 77: 't_intersection_l', 78: 'traffic_light', 79: 'truck', 80: 'u-turn_ahead', 81: 'u_turn', 82: 'warning', 83: 'yellow_box', 84: 'yellow_light'}\n",
              "plot: True\n",
              "results_dict: {'metrics/precision(B)': 0.9495580767051023, 'metrics/recall(B)': 0.9614513775860265, 'metrics/mAP50(B)': 0.9691130349607212, 'metrics/mAP50-95(B)': 0.8009015704193301, 'fitness': 0.8177227168734692}\n",
              "save_dir: PosixPath('runs/detect/train3')\n",
              "speed: {'preprocess': 0.2306672946485893, 'inference': 2.792279871683272, 'loss': 0.00020167814991461537, 'postprocess': 3.840521845237288}\n",
              "task: 'detect'"
            ]
          },
          "metadata": {},
          "execution_count": 1
        }
      ]
    },
    {
      "cell_type": "code",
      "source": [
        "model = YOLO('/content/runs/detect/train3/weights/best.pt')"
      ],
      "metadata": {
        "id": "g5YmGxN1Nkfb"
      },
      "execution_count": 3,
      "outputs": []
    },
    {
      "cell_type": "code",
      "source": [
        "model.val(data=\"/content/Traffic-Sign-Detection-3/data.yaml\", split='test')"
      ],
      "metadata": {
        "colab": {
          "base_uri": "https://localhost:8080/"
        },
        "id": "YZxCSqoTNry0",
        "outputId": "7a4007ea-1e00-4578-edfc-ee4cba6442b3"
      },
      "execution_count": 4,
      "outputs": [
        {
          "output_type": "stream",
          "name": "stdout",
          "text": [
            "Ultralytics YOLOv8.0.219 🚀 Python-3.10.12 torch-2.1.0+cu118 CUDA:0 (Tesla T4, 15102MiB)\n",
            "Model summary (fused): 168 layers, 3196859 parameters, 0 gradients, 8.9 GFLOPs\n"
          ]
        },
        {
          "output_type": "stream",
          "name": "stderr",
          "text": [
            "\u001b[34m\u001b[1mval: \u001b[0mScanning /content/Traffic-Sign-Detection-3/test/labels... 866 images, 4 backgrounds, 0 corrupt: 100%|██████████| 866/866 [00:01<00:00, 700.53it/s]"
          ]
        },
        {
          "output_type": "stream",
          "name": "stdout",
          "text": [
            "\u001b[34m\u001b[1mval: \u001b[0mNew cache created: /content/Traffic-Sign-Detection-3/test/labels.cache\n",
            "WARNING ⚠️ Box and segment counts should be equal, but got len(segments) = 1, len(boxes) = 975. To resolve this only boxes will be used and all segments will be removed. To avoid this please supply either a detect or segment dataset, not a detect-segment mixed dataset.\n"
          ]
        },
        {
          "output_type": "stream",
          "name": "stderr",
          "text": [
            "\n",
            "                 Class     Images  Instances      Box(P          R      mAP50  mAP50-95): 100%|██████████| 55/55 [00:14<00:00,  3.82it/s]\n"
          ]
        },
        {
          "output_type": "stream",
          "name": "stdout",
          "text": [
            "                   all        866        975      0.938      0.952      0.954      0.791\n",
            "          Danger Ahead        866        975      0.938      0.952      0.954      0.791\n",
            "Speed: 0.4ms preprocess, 5.0ms inference, 0.0ms loss, 2.4ms postprocess per image\n",
            "Results saved to \u001b[1mruns/detect/val\u001b[0m\n"
          ]
        },
        {
          "output_type": "execute_result",
          "data": {
            "text/plain": [
              "ultralytics.utils.metrics.DetMetrics object with attributes:\n",
              "\n",
              "ap_class_index: array([0])\n",
              "box: ultralytics.utils.metrics.Metric object\n",
              "confusion_matrix: <ultralytics.utils.metrics.ConfusionMatrix object at 0x7ff78e7719f0>\n",
              "curves: ['Precision-Recall(B)', 'F1-Confidence(B)', 'Precision-Confidence(B)', 'Recall-Confidence(B)']\n",
              "curves_results: [[array([          0,    0.001001,    0.002002,    0.003003,    0.004004,    0.005005,    0.006006,    0.007007,    0.008008,    0.009009,     0.01001,    0.011011,    0.012012,    0.013013,    0.014014,    0.015015,    0.016016,    0.017017,    0.018018,    0.019019,     0.02002,    0.021021,    0.022022,    0.023023,\n",
              "          0.024024,    0.025025,    0.026026,    0.027027,    0.028028,    0.029029,     0.03003,    0.031031,    0.032032,    0.033033,    0.034034,    0.035035,    0.036036,    0.037037,    0.038038,    0.039039,     0.04004,    0.041041,    0.042042,    0.043043,    0.044044,    0.045045,    0.046046,    0.047047,\n",
              "          0.048048,    0.049049,     0.05005,    0.051051,    0.052052,    0.053053,    0.054054,    0.055055,    0.056056,    0.057057,    0.058058,    0.059059,     0.06006,    0.061061,    0.062062,    0.063063,    0.064064,    0.065065,    0.066066,    0.067067,    0.068068,    0.069069,     0.07007,    0.071071,\n",
              "          0.072072,    0.073073,    0.074074,    0.075075,    0.076076,    0.077077,    0.078078,    0.079079,     0.08008,    0.081081,    0.082082,    0.083083,    0.084084,    0.085085,    0.086086,    0.087087,    0.088088,    0.089089,     0.09009,    0.091091,    0.092092,    0.093093,    0.094094,    0.095095,\n",
              "          0.096096,    0.097097,    0.098098,    0.099099,      0.1001,      0.1011,      0.1021,      0.1031,      0.1041,     0.10511,     0.10611,     0.10711,     0.10811,     0.10911,     0.11011,     0.11111,     0.11211,     0.11311,     0.11411,     0.11512,     0.11612,     0.11712,     0.11812,     0.11912,\n",
              "           0.12012,     0.12112,     0.12212,     0.12312,     0.12412,     0.12513,     0.12613,     0.12713,     0.12813,     0.12913,     0.13013,     0.13113,     0.13213,     0.13313,     0.13413,     0.13514,     0.13614,     0.13714,     0.13814,     0.13914,     0.14014,     0.14114,     0.14214,     0.14314,\n",
              "           0.14414,     0.14515,     0.14615,     0.14715,     0.14815,     0.14915,     0.15015,     0.15115,     0.15215,     0.15315,     0.15415,     0.15516,     0.15616,     0.15716,     0.15816,     0.15916,     0.16016,     0.16116,     0.16216,     0.16316,     0.16416,     0.16517,     0.16617,     0.16717,\n",
              "           0.16817,     0.16917,     0.17017,     0.17117,     0.17217,     0.17317,     0.17417,     0.17518,     0.17618,     0.17718,     0.17818,     0.17918,     0.18018,     0.18118,     0.18218,     0.18318,     0.18418,     0.18519,     0.18619,     0.18719,     0.18819,     0.18919,     0.19019,     0.19119,\n",
              "           0.19219,     0.19319,     0.19419,      0.1952,      0.1962,      0.1972,      0.1982,      0.1992,      0.2002,      0.2012,      0.2022,      0.2032,      0.2042,     0.20521,     0.20621,     0.20721,     0.20821,     0.20921,     0.21021,     0.21121,     0.21221,     0.21321,     0.21421,     0.21522,\n",
              "           0.21622,     0.21722,     0.21822,     0.21922,     0.22022,     0.22122,     0.22222,     0.22322,     0.22422,     0.22523,     0.22623,     0.22723,     0.22823,     0.22923,     0.23023,     0.23123,     0.23223,     0.23323,     0.23423,     0.23524,     0.23624,     0.23724,     0.23824,     0.23924,\n",
              "           0.24024,     0.24124,     0.24224,     0.24324,     0.24424,     0.24525,     0.24625,     0.24725,     0.24825,     0.24925,     0.25025,     0.25125,     0.25225,     0.25325,     0.25425,     0.25526,     0.25626,     0.25726,     0.25826,     0.25926,     0.26026,     0.26126,     0.26226,     0.26326,\n",
              "           0.26426,     0.26527,     0.26627,     0.26727,     0.26827,     0.26927,     0.27027,     0.27127,     0.27227,     0.27327,     0.27427,     0.27528,     0.27628,     0.27728,     0.27828,     0.27928,     0.28028,     0.28128,     0.28228,     0.28328,     0.28428,     0.28529,     0.28629,     0.28729,\n",
              "           0.28829,     0.28929,     0.29029,     0.29129,     0.29229,     0.29329,     0.29429,      0.2953,      0.2963,      0.2973,      0.2983,      0.2993,      0.3003,      0.3013,      0.3023,      0.3033,      0.3043,     0.30531,     0.30631,     0.30731,     0.30831,     0.30931,     0.31031,     0.31131,\n",
              "           0.31231,     0.31331,     0.31431,     0.31532,     0.31632,     0.31732,     0.31832,     0.31932,     0.32032,     0.32132,     0.32232,     0.32332,     0.32432,     0.32533,     0.32633,     0.32733,     0.32833,     0.32933,     0.33033,     0.33133,     0.33233,     0.33333,     0.33433,     0.33534,\n",
              "           0.33634,     0.33734,     0.33834,     0.33934,     0.34034,     0.34134,     0.34234,     0.34334,     0.34434,     0.34535,     0.34635,     0.34735,     0.34835,     0.34935,     0.35035,     0.35135,     0.35235,     0.35335,     0.35435,     0.35536,     0.35636,     0.35736,     0.35836,     0.35936,\n",
              "           0.36036,     0.36136,     0.36236,     0.36336,     0.36436,     0.36537,     0.36637,     0.36737,     0.36837,     0.36937,     0.37037,     0.37137,     0.37237,     0.37337,     0.37437,     0.37538,     0.37638,     0.37738,     0.37838,     0.37938,     0.38038,     0.38138,     0.38238,     0.38338,\n",
              "           0.38438,     0.38539,     0.38639,     0.38739,     0.38839,     0.38939,     0.39039,     0.39139,     0.39239,     0.39339,     0.39439,      0.3954,      0.3964,      0.3974,      0.3984,      0.3994,      0.4004,      0.4014,      0.4024,      0.4034,      0.4044,     0.40541,     0.40641,     0.40741,\n",
              "           0.40841,     0.40941,     0.41041,     0.41141,     0.41241,     0.41341,     0.41441,     0.41542,     0.41642,     0.41742,     0.41842,     0.41942,     0.42042,     0.42142,     0.42242,     0.42342,     0.42442,     0.42543,     0.42643,     0.42743,     0.42843,     0.42943,     0.43043,     0.43143,\n",
              "           0.43243,     0.43343,     0.43443,     0.43544,     0.43644,     0.43744,     0.43844,     0.43944,     0.44044,     0.44144,     0.44244,     0.44344,     0.44444,     0.44545,     0.44645,     0.44745,     0.44845,     0.44945,     0.45045,     0.45145,     0.45245,     0.45345,     0.45445,     0.45546,\n",
              "           0.45646,     0.45746,     0.45846,     0.45946,     0.46046,     0.46146,     0.46246,     0.46346,     0.46446,     0.46547,     0.46647,     0.46747,     0.46847,     0.46947,     0.47047,     0.47147,     0.47247,     0.47347,     0.47447,     0.47548,     0.47648,     0.47748,     0.47848,     0.47948,\n",
              "           0.48048,     0.48148,     0.48248,     0.48348,     0.48448,     0.48549,     0.48649,     0.48749,     0.48849,     0.48949,     0.49049,     0.49149,     0.49249,     0.49349,     0.49449,      0.4955,      0.4965,      0.4975,      0.4985,      0.4995,      0.5005,      0.5015,      0.5025,      0.5035,\n",
              "            0.5045,     0.50551,     0.50651,     0.50751,     0.50851,     0.50951,     0.51051,     0.51151,     0.51251,     0.51351,     0.51451,     0.51552,     0.51652,     0.51752,     0.51852,     0.51952,     0.52052,     0.52152,     0.52252,     0.52352,     0.52452,     0.52553,     0.52653,     0.52753,\n",
              "           0.52853,     0.52953,     0.53053,     0.53153,     0.53253,     0.53353,     0.53453,     0.53554,     0.53654,     0.53754,     0.53854,     0.53954,     0.54054,     0.54154,     0.54254,     0.54354,     0.54454,     0.54555,     0.54655,     0.54755,     0.54855,     0.54955,     0.55055,     0.55155,\n",
              "           0.55255,     0.55355,     0.55455,     0.55556,     0.55656,     0.55756,     0.55856,     0.55956,     0.56056,     0.56156,     0.56256,     0.56356,     0.56456,     0.56557,     0.56657,     0.56757,     0.56857,     0.56957,     0.57057,     0.57157,     0.57257,     0.57357,     0.57457,     0.57558,\n",
              "           0.57658,     0.57758,     0.57858,     0.57958,     0.58058,     0.58158,     0.58258,     0.58358,     0.58458,     0.58559,     0.58659,     0.58759,     0.58859,     0.58959,     0.59059,     0.59159,     0.59259,     0.59359,     0.59459,      0.5956,      0.5966,      0.5976,      0.5986,      0.5996,\n",
              "            0.6006,      0.6016,      0.6026,      0.6036,      0.6046,     0.60561,     0.60661,     0.60761,     0.60861,     0.60961,     0.61061,     0.61161,     0.61261,     0.61361,     0.61461,     0.61562,     0.61662,     0.61762,     0.61862,     0.61962,     0.62062,     0.62162,     0.62262,     0.62362,\n",
              "           0.62462,     0.62563,     0.62663,     0.62763,     0.62863,     0.62963,     0.63063,     0.63163,     0.63263,     0.63363,     0.63463,     0.63564,     0.63664,     0.63764,     0.63864,     0.63964,     0.64064,     0.64164,     0.64264,     0.64364,     0.64464,     0.64565,     0.64665,     0.64765,\n",
              "           0.64865,     0.64965,     0.65065,     0.65165,     0.65265,     0.65365,     0.65465,     0.65566,     0.65666,     0.65766,     0.65866,     0.65966,     0.66066,     0.66166,     0.66266,     0.66366,     0.66466,     0.66567,     0.66667,     0.66767,     0.66867,     0.66967,     0.67067,     0.67167,\n",
              "           0.67267,     0.67367,     0.67467,     0.67568,     0.67668,     0.67768,     0.67868,     0.67968,     0.68068,     0.68168,     0.68268,     0.68368,     0.68468,     0.68569,     0.68669,     0.68769,     0.68869,     0.68969,     0.69069,     0.69169,     0.69269,     0.69369,     0.69469,      0.6957,\n",
              "            0.6967,      0.6977,      0.6987,      0.6997,      0.7007,      0.7017,      0.7027,      0.7037,      0.7047,     0.70571,     0.70671,     0.70771,     0.70871,     0.70971,     0.71071,     0.71171,     0.71271,     0.71371,     0.71471,     0.71572,     0.71672,     0.71772,     0.71872,     0.71972,\n",
              "           0.72072,     0.72172,     0.72272,     0.72372,     0.72472,     0.72573,     0.72673,     0.72773,     0.72873,     0.72973,     0.73073,     0.73173,     0.73273,     0.73373,     0.73473,     0.73574,     0.73674,     0.73774,     0.73874,     0.73974,     0.74074,     0.74174,     0.74274,     0.74374,\n",
              "           0.74474,     0.74575,     0.74675,     0.74775,     0.74875,     0.74975,     0.75075,     0.75175,     0.75275,     0.75375,     0.75475,     0.75576,     0.75676,     0.75776,     0.75876,     0.75976,     0.76076,     0.76176,     0.76276,     0.76376,     0.76476,     0.76577,     0.76677,     0.76777,\n",
              "           0.76877,     0.76977,     0.77077,     0.77177,     0.77277,     0.77377,     0.77477,     0.77578,     0.77678,     0.77778,     0.77878,     0.77978,     0.78078,     0.78178,     0.78278,     0.78378,     0.78478,     0.78579,     0.78679,     0.78779,     0.78879,     0.78979,     0.79079,     0.79179,\n",
              "           0.79279,     0.79379,     0.79479,      0.7958,      0.7968,      0.7978,      0.7988,      0.7998,      0.8008,      0.8018,      0.8028,      0.8038,      0.8048,     0.80581,     0.80681,     0.80781,     0.80881,     0.80981,     0.81081,     0.81181,     0.81281,     0.81381,     0.81481,     0.81582,\n",
              "           0.81682,     0.81782,     0.81882,     0.81982,     0.82082,     0.82182,     0.82282,     0.82382,     0.82482,     0.82583,     0.82683,     0.82783,     0.82883,     0.82983,     0.83083,     0.83183,     0.83283,     0.83383,     0.83483,     0.83584,     0.83684,     0.83784,     0.83884,     0.83984,\n",
              "           0.84084,     0.84184,     0.84284,     0.84384,     0.84484,     0.84585,     0.84685,     0.84785,     0.84885,     0.84985,     0.85085,     0.85185,     0.85285,     0.85385,     0.85485,     0.85586,     0.85686,     0.85786,     0.85886,     0.85986,     0.86086,     0.86186,     0.86286,     0.86386,\n",
              "           0.86486,     0.86587,     0.86687,     0.86787,     0.86887,     0.86987,     0.87087,     0.87187,     0.87287,     0.87387,     0.87487,     0.87588,     0.87688,     0.87788,     0.87888,     0.87988,     0.88088,     0.88188,     0.88288,     0.88388,     0.88488,     0.88589,     0.88689,     0.88789,\n",
              "           0.88889,     0.88989,     0.89089,     0.89189,     0.89289,     0.89389,     0.89489,      0.8959,      0.8969,      0.8979,      0.8989,      0.8999,      0.9009,      0.9019,      0.9029,      0.9039,      0.9049,     0.90591,     0.90691,     0.90791,     0.90891,     0.90991,     0.91091,     0.91191,\n",
              "           0.91291,     0.91391,     0.91491,     0.91592,     0.91692,     0.91792,     0.91892,     0.91992,     0.92092,     0.92192,     0.92292,     0.92392,     0.92492,     0.92593,     0.92693,     0.92793,     0.92893,     0.92993,     0.93093,     0.93193,     0.93293,     0.93393,     0.93493,     0.93594,\n",
              "           0.93694,     0.93794,     0.93894,     0.93994,     0.94094,     0.94194,     0.94294,     0.94394,     0.94494,     0.94595,     0.94695,     0.94795,     0.94895,     0.94995,     0.95095,     0.95195,     0.95295,     0.95395,     0.95495,     0.95596,     0.95696,     0.95796,     0.95896,     0.95996,\n",
              "           0.96096,     0.96196,     0.96296,     0.96396,     0.96496,     0.96597,     0.96697,     0.96797,     0.96897,     0.96997,     0.97097,     0.97197,     0.97297,     0.97397,     0.97497,     0.97598,     0.97698,     0.97798,     0.97898,     0.97998,     0.98098,     0.98198,     0.98298,     0.98398,\n",
              "           0.98498,     0.98599,     0.98699,     0.98799,     0.98899,     0.98999,     0.99099,     0.99199,     0.99299,     0.99399,     0.99499,       0.996,       0.997,       0.998,       0.999,           1]), array([[          1,           1,           1,           1,           1,           1,           1,           1,           1,           1,           1,           1,           1,           1,     0.97685,     0.97685,     0.97685,     0.97685,     0.97685,     0.97685,     0.97685,     0.97685,     0.97685,\n",
              "            0.97685,     0.97685,     0.97685,     0.97685,     0.97685,     0.97685,     0.97685,     0.97685,     0.97685,     0.97685,     0.97685,     0.97685,     0.97685,     0.97685,     0.97685,     0.97685,     0.97685,     0.97685,     0.97685,     0.97685,     0.97685,     0.97685,     0.97685,\n",
              "            0.97685,     0.97685,     0.97685,     0.97685,     0.97685,     0.97685,     0.97685,     0.97685,     0.97685,     0.97685,     0.97685,     0.97685,     0.97685,     0.97685,     0.97685,     0.97685,     0.97685,     0.97685,     0.97685,     0.97685,     0.97685,     0.97685,     0.97685,\n",
              "            0.97685,     0.97685,     0.97685,     0.97685,     0.97685,     0.97685,     0.97685,     0.97685,     0.97685,     0.97685,     0.97685,     0.97685,     0.97685,     0.97685,     0.97685,     0.97685,     0.97685,     0.97685,     0.97685,     0.97685,     0.97685,     0.97685,     0.97685,\n",
              "            0.97685,     0.97685,     0.97685,     0.97685,     0.97685,     0.97685,     0.97685,     0.97685,     0.97685,     0.97685,     0.97685,     0.97685,     0.97685,     0.97685,     0.97685,     0.97685,     0.97685,     0.97685,     0.97685,     0.97685,     0.97685,     0.97685,     0.97685,\n",
              "            0.97685,     0.97685,     0.97685,     0.97685,     0.97685,     0.97685,     0.97685,     0.97685,     0.97685,     0.97685,     0.97685,     0.97685,     0.97685,     0.97685,     0.97685,     0.97685,     0.97685,     0.97685,     0.97685,     0.97685,     0.97685,     0.97685,     0.97685,\n",
              "            0.97685,     0.97685,     0.97685,     0.97685,     0.97685,     0.97685,     0.97685,     0.97685,     0.97685,     0.97685,     0.97685,     0.97685,     0.97685,     0.97685,     0.97685,     0.97685,     0.97685,     0.97685,     0.97685,     0.97685,     0.97685,     0.97685,     0.97685,\n",
              "            0.97685,     0.97685,     0.97685,     0.97685,     0.97685,     0.97685,     0.97685,     0.97685,     0.97685,     0.97685,     0.97685,     0.97685,     0.97685,     0.97685,     0.97685,     0.97685,     0.97685,     0.97685,     0.97685,     0.97685,     0.97685,     0.97685,     0.97685,\n",
              "            0.97685,     0.97685,     0.97685,     0.97685,     0.97685,     0.97685,     0.97685,     0.97685,     0.97685,     0.97685,     0.97685,     0.97685,     0.97685,     0.97685,     0.97685,     0.97685,     0.97685,     0.97685,     0.97685,     0.97685,     0.97685,     0.97685,     0.97685,\n",
              "            0.97685,     0.97685,     0.97685,     0.97685,     0.97685,     0.97685,     0.97685,     0.97685,     0.97685,     0.97685,     0.97685,     0.97685,     0.97685,     0.97685,     0.97685,     0.97685,     0.97685,     0.97685,     0.97685,     0.97685,     0.97685,     0.97685,     0.97685,\n",
              "            0.97685,     0.97685,     0.97685,     0.97685,     0.97685,     0.97685,     0.97685,     0.97685,     0.97685,     0.97685,     0.97685,     0.97685,     0.97685,     0.97685,     0.97685,     0.97685,     0.97685,     0.97685,     0.97685,     0.97685,     0.97685,     0.97685,     0.97685,\n",
              "            0.97685,     0.97685,     0.97685,     0.97685,     0.97685,     0.97685,     0.97685,     0.97685,     0.97685,     0.97685,     0.97685,     0.97685,     0.97685,     0.97685,     0.97685,     0.97685,     0.97685,     0.97685,     0.97685,     0.97685,     0.97685,     0.97685,     0.97685,\n",
              "            0.97685,     0.97685,     0.97685,     0.97685,     0.97685,     0.97685,     0.97685,     0.97685,     0.97685,     0.97685,     0.97685,     0.97685,     0.97685,     0.97685,     0.97685,     0.97685,     0.97685,     0.97685,     0.97685,     0.97685,     0.97685,     0.97685,     0.97685,\n",
              "            0.97685,     0.97685,     0.97685,     0.97685,     0.97685,     0.97685,     0.97685,     0.97685,     0.97685,     0.97685,     0.97685,     0.97685,     0.97685,     0.97685,     0.97685,     0.97685,     0.97685,     0.97685,     0.97685,     0.97685,     0.97685,     0.97685,     0.97685,\n",
              "            0.97685,     0.97685,     0.97685,     0.97685,     0.97685,     0.97685,     0.97685,     0.97685,     0.97685,     0.97685,     0.97685,     0.97685,     0.97685,     0.97685,     0.97685,     0.97685,     0.97685,     0.97685,     0.97685,     0.97685,     0.97685,     0.97685,     0.97685,\n",
              "            0.97685,     0.97685,     0.97685,     0.97685,     0.97685,     0.97685,     0.97685,     0.97685,     0.97685,     0.97685,     0.97685,     0.97685,     0.97685,     0.97685,     0.97685,     0.97685,     0.97685,     0.97685,     0.97685,     0.97685,     0.97685,     0.97685,     0.97685,\n",
              "            0.97685,     0.97685,     0.97685,     0.97685,     0.97685,     0.97685,     0.97685,     0.97685,     0.97685,     0.97685,     0.97685,     0.97685,     0.97685,     0.97685,     0.97685,     0.97685,     0.97685,     0.97685,     0.97685,     0.97685,     0.97685,     0.97685,     0.97685,\n",
              "            0.97685,     0.97685,     0.97685,     0.97685,     0.97685,     0.97685,     0.97685,     0.97685,     0.97685,     0.97685,     0.97685,     0.97685,     0.97685,     0.97685,     0.97685,     0.97685,     0.97685,     0.97685,     0.97685,     0.97685,     0.97685,     0.97685,     0.97685,\n",
              "            0.97685,     0.97685,     0.97685,     0.97685,     0.97685,     0.97685,     0.97685,     0.97685,     0.97685,     0.97685,     0.97685,     0.97685,     0.97685,     0.97685,     0.97685,     0.97685,     0.97685,     0.97685,     0.97685,     0.97593,     0.97593,     0.97593,     0.97593,\n",
              "            0.97593,     0.97593,     0.97593,     0.97593,     0.97593,     0.97593,     0.97593,     0.97593,     0.97593,     0.97593,     0.97593,     0.97593,     0.97593,     0.97593,     0.97593,     0.97593,     0.97593,     0.97593,     0.97593,     0.97593,     0.97576,     0.97576,     0.97576,\n",
              "            0.97576,     0.97576,     0.97576,     0.97576,     0.97576,     0.97576,     0.97576,     0.97576,     0.97576,     0.97576,     0.97576,     0.97576,     0.97576,     0.97576,     0.97576,     0.97576,     0.97576,     0.97576,     0.97576,     0.97576,     0.97576,     0.97576,     0.97576,\n",
              "            0.97576,     0.97576,     0.97576,     0.97576,     0.97576,     0.97576,     0.97576,     0.97576,     0.97576,     0.97576,     0.97576,     0.97576,     0.97436,     0.97436,     0.97436,     0.97436,     0.97436,     0.97436,     0.97436,     0.97436,     0.97436,     0.97436,     0.97436,\n",
              "            0.97436,     0.97266,     0.97266,     0.97266,     0.97266,     0.97248,     0.97248,     0.97248,     0.97248,     0.97248,     0.97248,     0.97248,     0.97248,     0.97248,     0.97248,     0.97248,     0.97248,     0.97248,     0.97248,     0.97248,     0.97248,     0.97248,     0.97248,\n",
              "            0.97248,     0.97248,     0.97248,     0.97248,     0.97248,     0.97248,     0.97248,     0.97248,     0.97248,     0.97248,     0.97248,     0.97248,     0.97248,     0.97248,     0.97248,     0.97237,     0.97237,     0.97237,     0.97237,     0.97237,     0.97237,     0.97237,     0.97237,\n",
              "            0.97237,     0.97237,     0.97237,     0.97237,     0.97237,     0.97237,     0.97237,     0.97237,     0.97237,     0.97237,     0.97237,     0.97237,     0.97237,     0.97237,     0.97237,     0.97237,     0.97237,     0.97237,     0.97237,     0.97237,     0.97237,     0.97237,     0.97237,\n",
              "            0.97237,     0.97237,     0.97099,     0.97099,     0.97099,     0.97099,     0.97099,     0.97099,     0.97099,     0.96817,     0.96817,     0.96817,     0.96817,     0.96817,     0.96817,     0.96817,     0.96817,     0.96817,     0.96817,     0.96817,     0.96817,     0.96817,     0.96817,\n",
              "            0.96817,     0.96817,     0.96817,     0.96817,     0.96817,     0.96817,     0.96817,     0.96817,     0.96817,     0.96817,     0.96817,     0.96817,     0.96817,     0.96817,     0.96817,     0.96817,     0.96817,     0.96817,     0.96817,     0.96817,     0.96817,     0.96817,     0.96817,\n",
              "            0.96817,     0.96817,     0.96817,     0.96817,     0.96817,     0.96817,     0.96817,     0.96817,     0.96817,     0.96817,     0.96817,     0.96817,     0.96817,     0.96817,     0.96817,     0.96817,     0.96817,     0.96817,     0.96817,     0.96817,     0.96817,     0.96817,     0.96817,\n",
              "            0.96817,     0.96817,     0.96817,     0.96817,     0.96817,     0.96817,     0.96817,     0.96817,     0.96817,     0.96817,     0.96817,     0.96817,     0.96817,     0.96817,     0.96817,     0.96817,     0.96817,     0.96817,     0.96817,     0.96817,     0.96817,     0.96817,     0.96817,\n",
              "            0.96817,     0.96817,     0.96817,     0.96817,     0.96817,     0.96817,     0.96817,     0.96817,     0.96817,     0.96817,     0.96817,     0.96817,     0.96817,     0.96817,     0.96817,     0.96817,     0.96817,     0.96817,     0.96817,     0.96817,     0.96817,     0.96817,     0.96817,\n",
              "            0.96817,     0.96817,     0.96817,     0.96817,     0.96817,     0.96817,     0.96817,     0.96817,     0.96817,     0.96817,     0.96817,     0.96817,     0.96817,     0.96817,     0.96817,     0.96817,     0.96817,     0.96817,     0.96817,     0.96817,     0.96817,     0.96817,     0.96817,\n",
              "            0.96817,     0.96817,     0.96817,     0.96817,     0.96817,     0.96817,     0.96817,     0.96817,     0.96817,     0.96817,     0.96817,     0.96817,     0.96817,     0.96817,     0.96817,     0.96817,     0.96817,     0.96817,     0.96817,     0.96817,     0.96817,     0.96817,     0.96817,\n",
              "            0.96817,     0.96817,     0.96817,     0.96817,     0.96817,     0.96817,     0.96817,     0.96817,     0.96817,     0.96817,     0.96817,     0.96817,      0.9657,      0.9657,      0.9657,     0.96461,     0.96461,     0.96461,     0.96461,     0.96348,     0.96348,     0.96348,     0.96348,\n",
              "            0.96348,     0.96348,     0.96348,     0.96348,     0.96348,     0.96348,     0.96348,     0.96348,     0.96348,     0.96348,     0.96348,     0.96348,     0.96348,     0.96348,     0.96348,     0.96348,     0.96348,     0.96348,     0.96348,     0.96348,     0.96348,     0.96348,     0.96348,\n",
              "            0.96348,     0.96348,     0.96163,     0.96163,     0.96163,     0.96163,     0.96163,     0.96163,     0.96163,     0.96163,     0.96163,     0.96163,     0.96163,     0.96163,     0.96163,     0.96154,     0.96154,     0.96154,     0.96154,     0.96154,     0.96154,     0.96154,     0.96154,\n",
              "            0.96154,     0.96154,     0.96154,     0.96154,     0.96154,     0.96154,     0.96154,     0.96154,     0.96154,     0.96154,     0.96154,     0.96154,     0.96154,     0.96154,     0.96154,     0.96154,     0.96154,     0.96154,     0.96154,     0.96154,     0.96154,     0.96154,     0.96154,\n",
              "            0.96154,     0.96154,     0.96154,     0.96154,     0.96154,     0.96154,     0.96154,     0.96154,     0.96154,     0.96154,     0.96154,     0.96154,     0.96154,     0.96154,     0.96154,     0.96154,     0.96154,     0.96154,     0.96154,     0.96154,     0.96154,     0.96154,     0.96154,\n",
              "            0.96154,     0.96154,     0.96154,     0.96154,     0.96154,     0.96154,     0.96154,     0.96154,     0.96154,     0.96154,     0.96154,     0.96154,     0.96154,     0.96154,     0.96154,     0.96154,     0.96154,     0.96154,     0.96154,     0.96154,     0.96081,     0.96081,     0.96081,\n",
              "            0.96081,     0.96081,     0.96081,     0.96081,     0.96081,     0.96081,     0.95991,     0.95991,     0.95991,     0.95991,     0.95939,     0.95939,     0.95939,     0.95939,     0.95939,     0.95939,     0.95939,     0.95939,     0.95939,     0.95939,     0.95939,     0.95939,     0.95856,\n",
              "            0.95856,     0.95856,     0.95856,     0.95856,     0.95756,     0.95685,     0.95685,     0.95685,     0.95685,     0.95685,     0.95685,     0.95685,     0.95601,     0.95601,     0.95601,     0.95601,     0.95537,     0.95537,     0.95537,     0.95537,     0.95537,     0.95537,     0.95537,\n",
              "            0.95537,     0.95537,      0.9545,      0.9545,      0.9545,     0.95364,     0.95364,     0.95364,     0.95104,     0.95104,     0.95104,     0.95104,     0.95104,     0.95104,     0.95104,     0.95104,     0.94731,     0.94731,     0.94731,     0.94731,     0.94547,     0.94547,     0.94479,\n",
              "            0.94479,     0.94479,     0.94479,     0.94479,     0.94196,     0.94106,     0.93832,     0.93832,     0.93744,     0.93467,     0.93307,     0.93307,     0.93307,     0.93307,     0.92666,     0.92666,     0.92582,     0.92498,      0.9233,      0.9233,     0.92247,     0.91805,     0.91545,\n",
              "            0.87966,     0.86223,     0.86223,     0.83348,     0.81638,     0.79731,     0.77979,     0.77551,     0.76202,     0.74259,     0.74106,     0.70614,     0.66182,     0.66113,     0.57134,     0.56754,     0.53516,     0.36377,     0.32821,     0.32293,     0.32015,     0.23806,     0.21822,\n",
              "            0.19838,     0.17855,     0.15871,     0.13887,     0.11903,    0.099192,    0.079354,    0.059515,    0.039677,    0.019838,           0]]), 'Recall', 'Precision'], [array([          0,    0.001001,    0.002002,    0.003003,    0.004004,    0.005005,    0.006006,    0.007007,    0.008008,    0.009009,     0.01001,    0.011011,    0.012012,    0.013013,    0.014014,    0.015015,    0.016016,    0.017017,    0.018018,    0.019019,     0.02002,    0.021021,    0.022022,    0.023023,\n",
              "          0.024024,    0.025025,    0.026026,    0.027027,    0.028028,    0.029029,     0.03003,    0.031031,    0.032032,    0.033033,    0.034034,    0.035035,    0.036036,    0.037037,    0.038038,    0.039039,     0.04004,    0.041041,    0.042042,    0.043043,    0.044044,    0.045045,    0.046046,    0.047047,\n",
              "          0.048048,    0.049049,     0.05005,    0.051051,    0.052052,    0.053053,    0.054054,    0.055055,    0.056056,    0.057057,    0.058058,    0.059059,     0.06006,    0.061061,    0.062062,    0.063063,    0.064064,    0.065065,    0.066066,    0.067067,    0.068068,    0.069069,     0.07007,    0.071071,\n",
              "          0.072072,    0.073073,    0.074074,    0.075075,    0.076076,    0.077077,    0.078078,    0.079079,     0.08008,    0.081081,    0.082082,    0.083083,    0.084084,    0.085085,    0.086086,    0.087087,    0.088088,    0.089089,     0.09009,    0.091091,    0.092092,    0.093093,    0.094094,    0.095095,\n",
              "          0.096096,    0.097097,    0.098098,    0.099099,      0.1001,      0.1011,      0.1021,      0.1031,      0.1041,     0.10511,     0.10611,     0.10711,     0.10811,     0.10911,     0.11011,     0.11111,     0.11211,     0.11311,     0.11411,     0.11512,     0.11612,     0.11712,     0.11812,     0.11912,\n",
              "           0.12012,     0.12112,     0.12212,     0.12312,     0.12412,     0.12513,     0.12613,     0.12713,     0.12813,     0.12913,     0.13013,     0.13113,     0.13213,     0.13313,     0.13413,     0.13514,     0.13614,     0.13714,     0.13814,     0.13914,     0.14014,     0.14114,     0.14214,     0.14314,\n",
              "           0.14414,     0.14515,     0.14615,     0.14715,     0.14815,     0.14915,     0.15015,     0.15115,     0.15215,     0.15315,     0.15415,     0.15516,     0.15616,     0.15716,     0.15816,     0.15916,     0.16016,     0.16116,     0.16216,     0.16316,     0.16416,     0.16517,     0.16617,     0.16717,\n",
              "           0.16817,     0.16917,     0.17017,     0.17117,     0.17217,     0.17317,     0.17417,     0.17518,     0.17618,     0.17718,     0.17818,     0.17918,     0.18018,     0.18118,     0.18218,     0.18318,     0.18418,     0.18519,     0.18619,     0.18719,     0.18819,     0.18919,     0.19019,     0.19119,\n",
              "           0.19219,     0.19319,     0.19419,      0.1952,      0.1962,      0.1972,      0.1982,      0.1992,      0.2002,      0.2012,      0.2022,      0.2032,      0.2042,     0.20521,     0.20621,     0.20721,     0.20821,     0.20921,     0.21021,     0.21121,     0.21221,     0.21321,     0.21421,     0.21522,\n",
              "           0.21622,     0.21722,     0.21822,     0.21922,     0.22022,     0.22122,     0.22222,     0.22322,     0.22422,     0.22523,     0.22623,     0.22723,     0.22823,     0.22923,     0.23023,     0.23123,     0.23223,     0.23323,     0.23423,     0.23524,     0.23624,     0.23724,     0.23824,     0.23924,\n",
              "           0.24024,     0.24124,     0.24224,     0.24324,     0.24424,     0.24525,     0.24625,     0.24725,     0.24825,     0.24925,     0.25025,     0.25125,     0.25225,     0.25325,     0.25425,     0.25526,     0.25626,     0.25726,     0.25826,     0.25926,     0.26026,     0.26126,     0.26226,     0.26326,\n",
              "           0.26426,     0.26527,     0.26627,     0.26727,     0.26827,     0.26927,     0.27027,     0.27127,     0.27227,     0.27327,     0.27427,     0.27528,     0.27628,     0.27728,     0.27828,     0.27928,     0.28028,     0.28128,     0.28228,     0.28328,     0.28428,     0.28529,     0.28629,     0.28729,\n",
              "           0.28829,     0.28929,     0.29029,     0.29129,     0.29229,     0.29329,     0.29429,      0.2953,      0.2963,      0.2973,      0.2983,      0.2993,      0.3003,      0.3013,      0.3023,      0.3033,      0.3043,     0.30531,     0.30631,     0.30731,     0.30831,     0.30931,     0.31031,     0.31131,\n",
              "           0.31231,     0.31331,     0.31431,     0.31532,     0.31632,     0.31732,     0.31832,     0.31932,     0.32032,     0.32132,     0.32232,     0.32332,     0.32432,     0.32533,     0.32633,     0.32733,     0.32833,     0.32933,     0.33033,     0.33133,     0.33233,     0.33333,     0.33433,     0.33534,\n",
              "           0.33634,     0.33734,     0.33834,     0.33934,     0.34034,     0.34134,     0.34234,     0.34334,     0.34434,     0.34535,     0.34635,     0.34735,     0.34835,     0.34935,     0.35035,     0.35135,     0.35235,     0.35335,     0.35435,     0.35536,     0.35636,     0.35736,     0.35836,     0.35936,\n",
              "           0.36036,     0.36136,     0.36236,     0.36336,     0.36436,     0.36537,     0.36637,     0.36737,     0.36837,     0.36937,     0.37037,     0.37137,     0.37237,     0.37337,     0.37437,     0.37538,     0.37638,     0.37738,     0.37838,     0.37938,     0.38038,     0.38138,     0.38238,     0.38338,\n",
              "           0.38438,     0.38539,     0.38639,     0.38739,     0.38839,     0.38939,     0.39039,     0.39139,     0.39239,     0.39339,     0.39439,      0.3954,      0.3964,      0.3974,      0.3984,      0.3994,      0.4004,      0.4014,      0.4024,      0.4034,      0.4044,     0.40541,     0.40641,     0.40741,\n",
              "           0.40841,     0.40941,     0.41041,     0.41141,     0.41241,     0.41341,     0.41441,     0.41542,     0.41642,     0.41742,     0.41842,     0.41942,     0.42042,     0.42142,     0.42242,     0.42342,     0.42442,     0.42543,     0.42643,     0.42743,     0.42843,     0.42943,     0.43043,     0.43143,\n",
              "           0.43243,     0.43343,     0.43443,     0.43544,     0.43644,     0.43744,     0.43844,     0.43944,     0.44044,     0.44144,     0.44244,     0.44344,     0.44444,     0.44545,     0.44645,     0.44745,     0.44845,     0.44945,     0.45045,     0.45145,     0.45245,     0.45345,     0.45445,     0.45546,\n",
              "           0.45646,     0.45746,     0.45846,     0.45946,     0.46046,     0.46146,     0.46246,     0.46346,     0.46446,     0.46547,     0.46647,     0.46747,     0.46847,     0.46947,     0.47047,     0.47147,     0.47247,     0.47347,     0.47447,     0.47548,     0.47648,     0.47748,     0.47848,     0.47948,\n",
              "           0.48048,     0.48148,     0.48248,     0.48348,     0.48448,     0.48549,     0.48649,     0.48749,     0.48849,     0.48949,     0.49049,     0.49149,     0.49249,     0.49349,     0.49449,      0.4955,      0.4965,      0.4975,      0.4985,      0.4995,      0.5005,      0.5015,      0.5025,      0.5035,\n",
              "            0.5045,     0.50551,     0.50651,     0.50751,     0.50851,     0.50951,     0.51051,     0.51151,     0.51251,     0.51351,     0.51451,     0.51552,     0.51652,     0.51752,     0.51852,     0.51952,     0.52052,     0.52152,     0.52252,     0.52352,     0.52452,     0.52553,     0.52653,     0.52753,\n",
              "           0.52853,     0.52953,     0.53053,     0.53153,     0.53253,     0.53353,     0.53453,     0.53554,     0.53654,     0.53754,     0.53854,     0.53954,     0.54054,     0.54154,     0.54254,     0.54354,     0.54454,     0.54555,     0.54655,     0.54755,     0.54855,     0.54955,     0.55055,     0.55155,\n",
              "           0.55255,     0.55355,     0.55455,     0.55556,     0.55656,     0.55756,     0.55856,     0.55956,     0.56056,     0.56156,     0.56256,     0.56356,     0.56456,     0.56557,     0.56657,     0.56757,     0.56857,     0.56957,     0.57057,     0.57157,     0.57257,     0.57357,     0.57457,     0.57558,\n",
              "           0.57658,     0.57758,     0.57858,     0.57958,     0.58058,     0.58158,     0.58258,     0.58358,     0.58458,     0.58559,     0.58659,     0.58759,     0.58859,     0.58959,     0.59059,     0.59159,     0.59259,     0.59359,     0.59459,      0.5956,      0.5966,      0.5976,      0.5986,      0.5996,\n",
              "            0.6006,      0.6016,      0.6026,      0.6036,      0.6046,     0.60561,     0.60661,     0.60761,     0.60861,     0.60961,     0.61061,     0.61161,     0.61261,     0.61361,     0.61461,     0.61562,     0.61662,     0.61762,     0.61862,     0.61962,     0.62062,     0.62162,     0.62262,     0.62362,\n",
              "           0.62462,     0.62563,     0.62663,     0.62763,     0.62863,     0.62963,     0.63063,     0.63163,     0.63263,     0.63363,     0.63463,     0.63564,     0.63664,     0.63764,     0.63864,     0.63964,     0.64064,     0.64164,     0.64264,     0.64364,     0.64464,     0.64565,     0.64665,     0.64765,\n",
              "           0.64865,     0.64965,     0.65065,     0.65165,     0.65265,     0.65365,     0.65465,     0.65566,     0.65666,     0.65766,     0.65866,     0.65966,     0.66066,     0.66166,     0.66266,     0.66366,     0.66466,     0.66567,     0.66667,     0.66767,     0.66867,     0.66967,     0.67067,     0.67167,\n",
              "           0.67267,     0.67367,     0.67467,     0.67568,     0.67668,     0.67768,     0.67868,     0.67968,     0.68068,     0.68168,     0.68268,     0.68368,     0.68468,     0.68569,     0.68669,     0.68769,     0.68869,     0.68969,     0.69069,     0.69169,     0.69269,     0.69369,     0.69469,      0.6957,\n",
              "            0.6967,      0.6977,      0.6987,      0.6997,      0.7007,      0.7017,      0.7027,      0.7037,      0.7047,     0.70571,     0.70671,     0.70771,     0.70871,     0.70971,     0.71071,     0.71171,     0.71271,     0.71371,     0.71471,     0.71572,     0.71672,     0.71772,     0.71872,     0.71972,\n",
              "           0.72072,     0.72172,     0.72272,     0.72372,     0.72472,     0.72573,     0.72673,     0.72773,     0.72873,     0.72973,     0.73073,     0.73173,     0.73273,     0.73373,     0.73473,     0.73574,     0.73674,     0.73774,     0.73874,     0.73974,     0.74074,     0.74174,     0.74274,     0.74374,\n",
              "           0.74474,     0.74575,     0.74675,     0.74775,     0.74875,     0.74975,     0.75075,     0.75175,     0.75275,     0.75375,     0.75475,     0.75576,     0.75676,     0.75776,     0.75876,     0.75976,     0.76076,     0.76176,     0.76276,     0.76376,     0.76476,     0.76577,     0.76677,     0.76777,\n",
              "           0.76877,     0.76977,     0.77077,     0.77177,     0.77277,     0.77377,     0.77477,     0.77578,     0.77678,     0.77778,     0.77878,     0.77978,     0.78078,     0.78178,     0.78278,     0.78378,     0.78478,     0.78579,     0.78679,     0.78779,     0.78879,     0.78979,     0.79079,     0.79179,\n",
              "           0.79279,     0.79379,     0.79479,      0.7958,      0.7968,      0.7978,      0.7988,      0.7998,      0.8008,      0.8018,      0.8028,      0.8038,      0.8048,     0.80581,     0.80681,     0.80781,     0.80881,     0.80981,     0.81081,     0.81181,     0.81281,     0.81381,     0.81481,     0.81582,\n",
              "           0.81682,     0.81782,     0.81882,     0.81982,     0.82082,     0.82182,     0.82282,     0.82382,     0.82482,     0.82583,     0.82683,     0.82783,     0.82883,     0.82983,     0.83083,     0.83183,     0.83283,     0.83383,     0.83483,     0.83584,     0.83684,     0.83784,     0.83884,     0.83984,\n",
              "           0.84084,     0.84184,     0.84284,     0.84384,     0.84484,     0.84585,     0.84685,     0.84785,     0.84885,     0.84985,     0.85085,     0.85185,     0.85285,     0.85385,     0.85485,     0.85586,     0.85686,     0.85786,     0.85886,     0.85986,     0.86086,     0.86186,     0.86286,     0.86386,\n",
              "           0.86486,     0.86587,     0.86687,     0.86787,     0.86887,     0.86987,     0.87087,     0.87187,     0.87287,     0.87387,     0.87487,     0.87588,     0.87688,     0.87788,     0.87888,     0.87988,     0.88088,     0.88188,     0.88288,     0.88388,     0.88488,     0.88589,     0.88689,     0.88789,\n",
              "           0.88889,     0.88989,     0.89089,     0.89189,     0.89289,     0.89389,     0.89489,      0.8959,      0.8969,      0.8979,      0.8989,      0.8999,      0.9009,      0.9019,      0.9029,      0.9039,      0.9049,     0.90591,     0.90691,     0.90791,     0.90891,     0.90991,     0.91091,     0.91191,\n",
              "           0.91291,     0.91391,     0.91491,     0.91592,     0.91692,     0.91792,     0.91892,     0.91992,     0.92092,     0.92192,     0.92292,     0.92392,     0.92492,     0.92593,     0.92693,     0.92793,     0.92893,     0.92993,     0.93093,     0.93193,     0.93293,     0.93393,     0.93493,     0.93594,\n",
              "           0.93694,     0.93794,     0.93894,     0.93994,     0.94094,     0.94194,     0.94294,     0.94394,     0.94494,     0.94595,     0.94695,     0.94795,     0.94895,     0.94995,     0.95095,     0.95195,     0.95295,     0.95395,     0.95495,     0.95596,     0.95696,     0.95796,     0.95896,     0.95996,\n",
              "           0.96096,     0.96196,     0.96296,     0.96396,     0.96496,     0.96597,     0.96697,     0.96797,     0.96897,     0.96997,     0.97097,     0.97197,     0.97297,     0.97397,     0.97497,     0.97598,     0.97698,     0.97798,     0.97898,     0.97998,     0.98098,     0.98198,     0.98298,     0.98398,\n",
              "           0.98498,     0.98599,     0.98699,     0.98799,     0.98899,     0.98999,     0.99099,     0.99199,     0.99299,     0.99399,     0.99499,       0.996,       0.997,       0.998,       0.999,           1]), array([[    0.39122,     0.39122,     0.51796,     0.60079,     0.65479,     0.69467,      0.7188,     0.73685,     0.75473,     0.76814,     0.78027,     0.78978,     0.79839,     0.80797,     0.81579,     0.82319,     0.82912,     0.83511,     0.83876,     0.84301,     0.84778,      0.8507,     0.85545,\n",
              "            0.85787,     0.86194,     0.86526,      0.8668,     0.87122,     0.87242,     0.87361,     0.87581,     0.87765,      0.8802,     0.88108,     0.88161,     0.88281,     0.88423,     0.88602,     0.88678,     0.88721,     0.89025,     0.89134,     0.89161,     0.89314,     0.89478,     0.89639,\n",
              "             0.8966,     0.89653,     0.89626,     0.89743,     0.89989,     0.90038,     0.90092,     0.90205,     0.90352,     0.90405,     0.90429,     0.90527,     0.90546,     0.90586,     0.90668,     0.90729,     0.90769,     0.90819,     0.91008,     0.91091,     0.91175,     0.91224,     0.91235,\n",
              "            0.91246,     0.91257,     0.91194,     0.91291,     0.91309,     0.91327,      0.9147,     0.91495,     0.91538,       0.916,      0.9166,     0.91709,     0.91827,     0.91854,       0.919,     0.91958,     0.91971,     0.91983,     0.91996,     0.92041,     0.92133,     0.92105,     0.92083,\n",
              "            0.92089,     0.92094,       0.921,     0.92105,     0.92111,     0.92117,     0.92122,     0.92129,     0.92146,     0.92163,     0.92192,     0.92225,     0.92243,     0.92262,     0.92359,     0.92397,     0.92451,     0.92458,     0.92465,     0.92473,      0.9248,     0.92488,      0.9251,\n",
              "            0.92546,     0.92592,     0.92606,     0.92619,     0.92631,      0.9264,      0.9265,     0.92659,     0.92669,      0.9271,     0.92727,     0.92739,     0.92751,     0.92775,     0.92868,     0.92891,     0.92905,     0.92915,     0.92924,     0.92934,     0.92943,      0.9295,     0.92955,\n",
              "             0.9296,     0.92966,     0.92971,     0.92977,     0.92982,     0.92987,     0.92999,     0.93028,      0.9307,     0.93146,     0.93169,     0.93185,     0.93199,     0.93213,     0.93237,     0.93316,     0.93336,     0.93356,     0.93395,     0.93474,     0.93504,     0.93542,     0.93639,\n",
              "             0.9367,     0.93743,     0.93768,     0.93784,     0.93795,     0.93805,     0.93816,     0.93825,     0.93828,     0.93831,     0.93834,     0.93837,      0.9384,     0.93843,     0.93846,      0.9385,     0.93853,     0.93856,     0.93859,     0.93862,     0.93865,     0.93868,     0.93871,\n",
              "             0.9389,     0.93914,     0.93925,     0.93933,      0.9394,     0.93948,     0.93956,     0.93964,     0.94011,     0.93963,     0.94011,     0.94016,     0.94021,     0.94026,     0.94031,     0.94036,     0.94041,     0.94046,     0.94051,     0.94059,     0.94068,     0.94077,     0.94086,\n",
              "            0.94095,     0.94093,     0.94077,      0.9406,     0.94064,     0.94098,     0.94104,     0.94109,     0.94115,     0.94121,     0.94127,     0.94132,     0.94138,     0.94143,     0.94147,      0.9415,     0.94154,     0.94158,     0.94162,     0.94165,     0.94169,     0.94173,     0.94177,\n",
              "             0.9418,     0.94184,     0.94188,     0.94236,     0.94238,     0.94239,     0.94241,     0.94242,     0.94244,     0.94245,     0.94247,     0.94248,      0.9425,     0.94251,     0.94253,     0.94254,     0.94256,     0.94257,     0.94259,      0.9426,     0.94262,     0.94263,     0.94265,\n",
              "            0.94266,     0.94268,     0.94269,     0.94271,     0.94272,     0.94274,     0.94275,     0.94277,     0.94278,      0.9428,     0.94281,     0.94283,     0.94245,      0.9427,     0.94257,     0.94228,     0.94211,     0.94197,     0.94182,     0.94219,     0.94222,     0.94226,     0.94229,\n",
              "            0.94233,     0.94236,      0.9424,     0.94243,     0.94246,      0.9425,     0.94253,     0.94257,      0.9426,     0.94263,     0.94256,     0.94229,     0.94228,     0.94223,     0.94214,     0.94222,      0.9423,     0.94238,     0.94246,     0.94254,     0.94202,     0.94221,     0.94241,\n",
              "            0.94257,      0.9427,     0.94283,     0.94297,     0.94311,     0.94325,      0.9434,     0.94352,     0.94364,     0.94376,     0.94388,     0.94396,     0.94402,     0.94409,     0.94415,     0.94422,     0.94428,     0.94434,      0.9444,     0.94445,     0.94449,     0.94454,     0.94459,\n",
              "            0.94463,     0.94468,     0.94472,     0.94477,     0.94482,     0.94486,     0.94528,     0.94512,     0.94496,     0.94481,     0.94475,      0.9447,     0.94464,     0.94459,     0.94453,     0.94448,     0.94442,     0.94437,     0.94431,     0.94358,     0.94321,     0.94325,      0.9433,\n",
              "            0.94334,     0.94338,     0.94342,     0.94346,      0.9435,     0.94354,     0.94358,     0.94362,     0.94366,     0.94376,     0.94389,     0.94402,     0.94415,     0.94406,     0.94396,     0.94385,     0.94375,     0.94364,      0.9441,     0.94428,     0.94446,     0.94461,     0.94469,\n",
              "            0.94476,     0.94484,     0.94492,       0.945,     0.94502,     0.94461,      0.9448,     0.94401,     0.94445,     0.94461,     0.94476,     0.94493,     0.94522,     0.94536,     0.94531,     0.94527,     0.94522,     0.94517,     0.94513,     0.94508,     0.94503,     0.94499,     0.94494,\n",
              "            0.94489,     0.94485,     0.94498,     0.94512,     0.94527,     0.94525,     0.94514,     0.94502,     0.94491,      0.9448,     0.94484,      0.9449,     0.94496,     0.94502,     0.94508,     0.94514,      0.9452,     0.94526,     0.94612,     0.94613,       0.946,     0.94586,     0.94572,\n",
              "            0.94512,     0.94507,     0.94502,     0.94497,     0.94493,     0.94488,     0.94483,     0.94478,     0.94474,     0.94469,     0.94464,      0.9446,     0.94456,     0.94452,     0.94448,     0.94444,      0.9444,     0.94436,     0.94432,     0.94428,     0.94424,      0.9442,     0.94416,\n",
              "            0.94412,     0.94408,     0.94388,     0.94362,     0.94367,     0.94387,       0.944,     0.94393,     0.94386,     0.94379,     0.94372,     0.94365,     0.94358,     0.94351,     0.94341,     0.94327,     0.94314,       0.943,     0.94296,     0.94301,     0.94307,     0.94312,     0.94318,\n",
              "            0.94323,     0.94329,     0.94334,      0.9434,     0.94345,      0.9435,     0.94356,     0.94361,     0.94366,     0.94371,     0.94376,     0.94381,     0.94386,     0.94375,     0.94332,      0.9432,     0.94307,     0.94295,     0.94282,     0.94224,     0.94218,     0.94213,     0.94207,\n",
              "            0.94202,     0.94196,     0.94191,     0.94186,      0.9418,     0.94175,     0.94181,     0.94196,     0.94211,      0.9423,     0.94257,     0.94322,     0.94329,     0.94336,     0.94343,      0.9435,     0.94357,     0.94364,     0.94363,     0.94356,     0.94349,     0.94342,     0.94335,\n",
              "            0.94328,     0.94321,     0.94314,     0.94201,     0.94194,     0.94187,      0.9418,     0.94173,     0.94166,     0.94159,     0.94152,     0.94138,     0.94117,     0.94097,     0.94083,      0.9407,     0.94057,     0.94044,     0.94013,     0.93978,     0.93962,     0.93947,     0.93932,\n",
              "            0.93978,     0.93987,     0.93995,     0.94004,     0.94013,     0.94022,     0.94029,     0.94034,      0.9404,     0.94045,     0.94051,     0.94056,     0.94061,     0.94067,     0.94072,     0.94038,     0.94012,     0.94002,     0.93992,     0.93982,     0.93972,     0.93922,     0.93953,\n",
              "            0.93945,     0.93936,     0.93928,     0.93919,     0.93911,     0.93902,     0.93891,     0.93881,      0.9387,      0.9386,     0.93849,     0.93843,     0.93836,      0.9383,     0.93824,     0.93818,     0.93812,     0.93806,       0.938,     0.93794,      0.9382,     0.93827,     0.93792,\n",
              "             0.9378,     0.93773,     0.93765,     0.93758,     0.93751,     0.93743,     0.93736,     0.93718,     0.93672,     0.93658,     0.93644,      0.9363,      0.9361,     0.93571,     0.93559,     0.93554,     0.93548,     0.93543,     0.93538,     0.93532,     0.93527,     0.93522,     0.93516,\n",
              "            0.93511,     0.93506,       0.935,     0.93495,      0.9349,     0.93485,      0.9348,     0.93475,      0.9347,     0.93465,      0.9346,     0.93455,     0.93449,     0.93442,     0.93435,     0.93428,      0.9342,     0.93413,     0.93406,     0.93399,     0.93404,     0.93415,     0.93426,\n",
              "            0.93437,     0.93388,     0.93382,     0.93377,     0.93371,     0.93365,      0.9336,     0.93354,     0.93348,     0.93343,     0.93337,     0.93325,     0.93303,     0.93281,     0.93275,     0.93271,     0.93268,     0.93265,     0.93262,     0.93258,     0.93255,     0.93252,     0.93249,\n",
              "            0.93246,     0.93242,     0.93239,     0.93236,     0.93233,     0.93229,     0.93226,     0.93223,     0.93236,     0.93267,     0.93253,     0.93235,     0.93216,     0.93201,     0.93186,     0.93172,     0.93155,      0.9309,     0.93029,      0.9296,     0.92926,     0.92916,     0.92905,\n",
              "            0.92894,     0.92883,     0.92881,     0.92894,     0.92907,      0.9292,     0.92911,      0.9289,     0.92872,     0.92884,     0.92801,     0.92783,     0.92765,     0.92747,     0.92714,     0.92687,     0.92677,     0.92666,     0.92656,     0.92645,     0.92634,     0.92642,      0.9265,\n",
              "            0.92659,     0.92667,     0.92675,     0.92682,     0.92674,     0.92666,     0.92658,      0.9265,     0.92642,     0.92634,     0.92626,      0.9259,     0.92544,      0.9251,     0.92506,     0.92501,     0.92497,     0.92493,     0.92489,     0.92484,      0.9248,     0.92476,     0.92472,\n",
              "            0.92467,     0.92463,     0.92459,     0.92448,     0.92392,      0.9238,     0.92368,     0.92357,     0.92345,     0.92318,      0.9223,     0.92218,     0.92209,     0.92201,     0.92193,     0.92185,     0.92176,     0.92166,     0.92105,     0.92087,      0.9207,     0.92051,     0.92013,\n",
              "            0.92031,     0.91988,     0.91919,     0.91891,     0.91853,     0.91817,     0.91824,     0.91832,     0.91839,     0.91847,     0.91854,     0.91862,     0.91826,     0.91687,     0.91673,     0.91659,     0.91645,     0.91629,      0.9155,     0.91477,       0.914,     0.91422,     0.91446,\n",
              "             0.9138,     0.91361,     0.91343,     0.91323,     0.91297,     0.91272,      0.9123,     0.91056,     0.91032,     0.91026,      0.9102,     0.91014,     0.91008,     0.91002,     0.90996,      0.9099,     0.90983,     0.90975,     0.90945,     0.90913,     0.90876,     0.90722,     0.90662,\n",
              "             0.9054,     0.90445,     0.90422,     0.90399,     0.90318,     0.90292,     0.90267,     0.90196,     0.90183,     0.90169,     0.90155,       0.901,     0.90015,     0.89989,     0.89956,      0.8986,     0.89833,     0.89817,     0.89802,     0.89795,     0.89806,     0.89768,     0.89575,\n",
              "            0.89513,     0.89491,     0.89467,     0.89437,     0.89403,     0.89356,     0.89291,     0.89248,     0.89185,     0.89144,     0.89111,     0.89038,     0.89001,     0.88945,     0.88725,     0.88691,     0.88516,     0.88517,     0.88419,      0.8829,     0.88272,     0.88253,     0.88208,\n",
              "            0.88147,     0.88118,     0.87988,     0.87928,     0.87781,     0.87602,     0.87477,     0.87362,      0.8727,     0.87167,     0.87127,     0.87136,      0.8712,     0.87031,     0.86878,     0.86635,     0.86565,     0.86495,     0.86452,     0.86433,     0.86268,     0.86238,      0.8618,\n",
              "            0.85974,     0.85921,     0.85637,     0.85601,     0.85504,     0.85452,     0.85362,     0.85266,      0.8518,     0.85127,     0.84695,     0.84598,     0.84657,      0.8442,     0.84273,     0.84198,     0.84103,     0.84062,     0.83987,      0.8366,     0.83593,     0.83483,     0.83322,\n",
              "            0.83011,     0.82828,     0.82781,     0.82733,     0.82568,     0.82371,     0.81913,     0.81707,     0.81552,     0.81498,     0.81201,     0.80612,     0.79753,     0.79335,     0.79146,     0.78959,      0.7877,     0.78676,     0.78264,     0.78027,     0.77965,     0.77833,     0.77332,\n",
              "            0.77022,     0.76517,     0.76369,     0.76256,     0.75925,     0.75279,     0.74951,     0.74413,     0.74129,     0.73892,     0.73378,     0.72826,     0.72506,     0.72335,     0.72007,     0.71341,     0.71056,     0.70383,     0.69567,     0.68859,     0.68184,     0.67784,     0.67175,\n",
              "            0.66968,     0.66191,     0.65808,     0.65346,     0.64787,     0.64025,     0.63723,     0.62424,     0.61855,     0.60385,     0.59907,      0.5933,      0.5857,     0.57441,     0.56681,     0.55706,     0.54451,     0.53254,     0.51877,     0.50563,     0.46749,     0.45223,     0.43835,\n",
              "            0.42486,     0.40928,     0.40344,       0.391,     0.36724,     0.34994,     0.32939,     0.30923,     0.30289,     0.27996,     0.26221,     0.23924,     0.22127,     0.20358,     0.19434,     0.18927,     0.17569,     0.15488,     0.13751,     0.12121,     0.10949,    0.098311,    0.080164,\n",
              "           0.071707,    0.063995,    0.056414,    0.046911,    0.033907,    0.030604,    0.026293,    0.026311,    0.024535,   0.0080654,   0.0070316,   0.0060931,   0.0057791,    0.005465,   0.0051508,   0.0048366,   0.0045222,   0.0042077,           0,           0,           0,           0,           0,\n",
              "                  0,           0,           0,           0,           0,           0,           0,           0,           0,           0,           0]]), 'Confidence', 'F1'], [array([          0,    0.001001,    0.002002,    0.003003,    0.004004,    0.005005,    0.006006,    0.007007,    0.008008,    0.009009,     0.01001,    0.011011,    0.012012,    0.013013,    0.014014,    0.015015,    0.016016,    0.017017,    0.018018,    0.019019,     0.02002,    0.021021,    0.022022,    0.023023,\n",
              "          0.024024,    0.025025,    0.026026,    0.027027,    0.028028,    0.029029,     0.03003,    0.031031,    0.032032,    0.033033,    0.034034,    0.035035,    0.036036,    0.037037,    0.038038,    0.039039,     0.04004,    0.041041,    0.042042,    0.043043,    0.044044,    0.045045,    0.046046,    0.047047,\n",
              "          0.048048,    0.049049,     0.05005,    0.051051,    0.052052,    0.053053,    0.054054,    0.055055,    0.056056,    0.057057,    0.058058,    0.059059,     0.06006,    0.061061,    0.062062,    0.063063,    0.064064,    0.065065,    0.066066,    0.067067,    0.068068,    0.069069,     0.07007,    0.071071,\n",
              "          0.072072,    0.073073,    0.074074,    0.075075,    0.076076,    0.077077,    0.078078,    0.079079,     0.08008,    0.081081,    0.082082,    0.083083,    0.084084,    0.085085,    0.086086,    0.087087,    0.088088,    0.089089,     0.09009,    0.091091,    0.092092,    0.093093,    0.094094,    0.095095,\n",
              "          0.096096,    0.097097,    0.098098,    0.099099,      0.1001,      0.1011,      0.1021,      0.1031,      0.1041,     0.10511,     0.10611,     0.10711,     0.10811,     0.10911,     0.11011,     0.11111,     0.11211,     0.11311,     0.11411,     0.11512,     0.11612,     0.11712,     0.11812,     0.11912,\n",
              "           0.12012,     0.12112,     0.12212,     0.12312,     0.12412,     0.12513,     0.12613,     0.12713,     0.12813,     0.12913,     0.13013,     0.13113,     0.13213,     0.13313,     0.13413,     0.13514,     0.13614,     0.13714,     0.13814,     0.13914,     0.14014,     0.14114,     0.14214,     0.14314,\n",
              "           0.14414,     0.14515,     0.14615,     0.14715,     0.14815,     0.14915,     0.15015,     0.15115,     0.15215,     0.15315,     0.15415,     0.15516,     0.15616,     0.15716,     0.15816,     0.15916,     0.16016,     0.16116,     0.16216,     0.16316,     0.16416,     0.16517,     0.16617,     0.16717,\n",
              "           0.16817,     0.16917,     0.17017,     0.17117,     0.17217,     0.17317,     0.17417,     0.17518,     0.17618,     0.17718,     0.17818,     0.17918,     0.18018,     0.18118,     0.18218,     0.18318,     0.18418,     0.18519,     0.18619,     0.18719,     0.18819,     0.18919,     0.19019,     0.19119,\n",
              "           0.19219,     0.19319,     0.19419,      0.1952,      0.1962,      0.1972,      0.1982,      0.1992,      0.2002,      0.2012,      0.2022,      0.2032,      0.2042,     0.20521,     0.20621,     0.20721,     0.20821,     0.20921,     0.21021,     0.21121,     0.21221,     0.21321,     0.21421,     0.21522,\n",
              "           0.21622,     0.21722,     0.21822,     0.21922,     0.22022,     0.22122,     0.22222,     0.22322,     0.22422,     0.22523,     0.22623,     0.22723,     0.22823,     0.22923,     0.23023,     0.23123,     0.23223,     0.23323,     0.23423,     0.23524,     0.23624,     0.23724,     0.23824,     0.23924,\n",
              "           0.24024,     0.24124,     0.24224,     0.24324,     0.24424,     0.24525,     0.24625,     0.24725,     0.24825,     0.24925,     0.25025,     0.25125,     0.25225,     0.25325,     0.25425,     0.25526,     0.25626,     0.25726,     0.25826,     0.25926,     0.26026,     0.26126,     0.26226,     0.26326,\n",
              "           0.26426,     0.26527,     0.26627,     0.26727,     0.26827,     0.26927,     0.27027,     0.27127,     0.27227,     0.27327,     0.27427,     0.27528,     0.27628,     0.27728,     0.27828,     0.27928,     0.28028,     0.28128,     0.28228,     0.28328,     0.28428,     0.28529,     0.28629,     0.28729,\n",
              "           0.28829,     0.28929,     0.29029,     0.29129,     0.29229,     0.29329,     0.29429,      0.2953,      0.2963,      0.2973,      0.2983,      0.2993,      0.3003,      0.3013,      0.3023,      0.3033,      0.3043,     0.30531,     0.30631,     0.30731,     0.30831,     0.30931,     0.31031,     0.31131,\n",
              "           0.31231,     0.31331,     0.31431,     0.31532,     0.31632,     0.31732,     0.31832,     0.31932,     0.32032,     0.32132,     0.32232,     0.32332,     0.32432,     0.32533,     0.32633,     0.32733,     0.32833,     0.32933,     0.33033,     0.33133,     0.33233,     0.33333,     0.33433,     0.33534,\n",
              "           0.33634,     0.33734,     0.33834,     0.33934,     0.34034,     0.34134,     0.34234,     0.34334,     0.34434,     0.34535,     0.34635,     0.34735,     0.34835,     0.34935,     0.35035,     0.35135,     0.35235,     0.35335,     0.35435,     0.35536,     0.35636,     0.35736,     0.35836,     0.35936,\n",
              "           0.36036,     0.36136,     0.36236,     0.36336,     0.36436,     0.36537,     0.36637,     0.36737,     0.36837,     0.36937,     0.37037,     0.37137,     0.37237,     0.37337,     0.37437,     0.37538,     0.37638,     0.37738,     0.37838,     0.37938,     0.38038,     0.38138,     0.38238,     0.38338,\n",
              "           0.38438,     0.38539,     0.38639,     0.38739,     0.38839,     0.38939,     0.39039,     0.39139,     0.39239,     0.39339,     0.39439,      0.3954,      0.3964,      0.3974,      0.3984,      0.3994,      0.4004,      0.4014,      0.4024,      0.4034,      0.4044,     0.40541,     0.40641,     0.40741,\n",
              "           0.40841,     0.40941,     0.41041,     0.41141,     0.41241,     0.41341,     0.41441,     0.41542,     0.41642,     0.41742,     0.41842,     0.41942,     0.42042,     0.42142,     0.42242,     0.42342,     0.42442,     0.42543,     0.42643,     0.42743,     0.42843,     0.42943,     0.43043,     0.43143,\n",
              "           0.43243,     0.43343,     0.43443,     0.43544,     0.43644,     0.43744,     0.43844,     0.43944,     0.44044,     0.44144,     0.44244,     0.44344,     0.44444,     0.44545,     0.44645,     0.44745,     0.44845,     0.44945,     0.45045,     0.45145,     0.45245,     0.45345,     0.45445,     0.45546,\n",
              "           0.45646,     0.45746,     0.45846,     0.45946,     0.46046,     0.46146,     0.46246,     0.46346,     0.46446,     0.46547,     0.46647,     0.46747,     0.46847,     0.46947,     0.47047,     0.47147,     0.47247,     0.47347,     0.47447,     0.47548,     0.47648,     0.47748,     0.47848,     0.47948,\n",
              "           0.48048,     0.48148,     0.48248,     0.48348,     0.48448,     0.48549,     0.48649,     0.48749,     0.48849,     0.48949,     0.49049,     0.49149,     0.49249,     0.49349,     0.49449,      0.4955,      0.4965,      0.4975,      0.4985,      0.4995,      0.5005,      0.5015,      0.5025,      0.5035,\n",
              "            0.5045,     0.50551,     0.50651,     0.50751,     0.50851,     0.50951,     0.51051,     0.51151,     0.51251,     0.51351,     0.51451,     0.51552,     0.51652,     0.51752,     0.51852,     0.51952,     0.52052,     0.52152,     0.52252,     0.52352,     0.52452,     0.52553,     0.52653,     0.52753,\n",
              "           0.52853,     0.52953,     0.53053,     0.53153,     0.53253,     0.53353,     0.53453,     0.53554,     0.53654,     0.53754,     0.53854,     0.53954,     0.54054,     0.54154,     0.54254,     0.54354,     0.54454,     0.54555,     0.54655,     0.54755,     0.54855,     0.54955,     0.55055,     0.55155,\n",
              "           0.55255,     0.55355,     0.55455,     0.55556,     0.55656,     0.55756,     0.55856,     0.55956,     0.56056,     0.56156,     0.56256,     0.56356,     0.56456,     0.56557,     0.56657,     0.56757,     0.56857,     0.56957,     0.57057,     0.57157,     0.57257,     0.57357,     0.57457,     0.57558,\n",
              "           0.57658,     0.57758,     0.57858,     0.57958,     0.58058,     0.58158,     0.58258,     0.58358,     0.58458,     0.58559,     0.58659,     0.58759,     0.58859,     0.58959,     0.59059,     0.59159,     0.59259,     0.59359,     0.59459,      0.5956,      0.5966,      0.5976,      0.5986,      0.5996,\n",
              "            0.6006,      0.6016,      0.6026,      0.6036,      0.6046,     0.60561,     0.60661,     0.60761,     0.60861,     0.60961,     0.61061,     0.61161,     0.61261,     0.61361,     0.61461,     0.61562,     0.61662,     0.61762,     0.61862,     0.61962,     0.62062,     0.62162,     0.62262,     0.62362,\n",
              "           0.62462,     0.62563,     0.62663,     0.62763,     0.62863,     0.62963,     0.63063,     0.63163,     0.63263,     0.63363,     0.63463,     0.63564,     0.63664,     0.63764,     0.63864,     0.63964,     0.64064,     0.64164,     0.64264,     0.64364,     0.64464,     0.64565,     0.64665,     0.64765,\n",
              "           0.64865,     0.64965,     0.65065,     0.65165,     0.65265,     0.65365,     0.65465,     0.65566,     0.65666,     0.65766,     0.65866,     0.65966,     0.66066,     0.66166,     0.66266,     0.66366,     0.66466,     0.66567,     0.66667,     0.66767,     0.66867,     0.66967,     0.67067,     0.67167,\n",
              "           0.67267,     0.67367,     0.67467,     0.67568,     0.67668,     0.67768,     0.67868,     0.67968,     0.68068,     0.68168,     0.68268,     0.68368,     0.68468,     0.68569,     0.68669,     0.68769,     0.68869,     0.68969,     0.69069,     0.69169,     0.69269,     0.69369,     0.69469,      0.6957,\n",
              "            0.6967,      0.6977,      0.6987,      0.6997,      0.7007,      0.7017,      0.7027,      0.7037,      0.7047,     0.70571,     0.70671,     0.70771,     0.70871,     0.70971,     0.71071,     0.71171,     0.71271,     0.71371,     0.71471,     0.71572,     0.71672,     0.71772,     0.71872,     0.71972,\n",
              "           0.72072,     0.72172,     0.72272,     0.72372,     0.72472,     0.72573,     0.72673,     0.72773,     0.72873,     0.72973,     0.73073,     0.73173,     0.73273,     0.73373,     0.73473,     0.73574,     0.73674,     0.73774,     0.73874,     0.73974,     0.74074,     0.74174,     0.74274,     0.74374,\n",
              "           0.74474,     0.74575,     0.74675,     0.74775,     0.74875,     0.74975,     0.75075,     0.75175,     0.75275,     0.75375,     0.75475,     0.75576,     0.75676,     0.75776,     0.75876,     0.75976,     0.76076,     0.76176,     0.76276,     0.76376,     0.76476,     0.76577,     0.76677,     0.76777,\n",
              "           0.76877,     0.76977,     0.77077,     0.77177,     0.77277,     0.77377,     0.77477,     0.77578,     0.77678,     0.77778,     0.77878,     0.77978,     0.78078,     0.78178,     0.78278,     0.78378,     0.78478,     0.78579,     0.78679,     0.78779,     0.78879,     0.78979,     0.79079,     0.79179,\n",
              "           0.79279,     0.79379,     0.79479,      0.7958,      0.7968,      0.7978,      0.7988,      0.7998,      0.8008,      0.8018,      0.8028,      0.8038,      0.8048,     0.80581,     0.80681,     0.80781,     0.80881,     0.80981,     0.81081,     0.81181,     0.81281,     0.81381,     0.81481,     0.81582,\n",
              "           0.81682,     0.81782,     0.81882,     0.81982,     0.82082,     0.82182,     0.82282,     0.82382,     0.82482,     0.82583,     0.82683,     0.82783,     0.82883,     0.82983,     0.83083,     0.83183,     0.83283,     0.83383,     0.83483,     0.83584,     0.83684,     0.83784,     0.83884,     0.83984,\n",
              "           0.84084,     0.84184,     0.84284,     0.84384,     0.84484,     0.84585,     0.84685,     0.84785,     0.84885,     0.84985,     0.85085,     0.85185,     0.85285,     0.85385,     0.85485,     0.85586,     0.85686,     0.85786,     0.85886,     0.85986,     0.86086,     0.86186,     0.86286,     0.86386,\n",
              "           0.86486,     0.86587,     0.86687,     0.86787,     0.86887,     0.86987,     0.87087,     0.87187,     0.87287,     0.87387,     0.87487,     0.87588,     0.87688,     0.87788,     0.87888,     0.87988,     0.88088,     0.88188,     0.88288,     0.88388,     0.88488,     0.88589,     0.88689,     0.88789,\n",
              "           0.88889,     0.88989,     0.89089,     0.89189,     0.89289,     0.89389,     0.89489,      0.8959,      0.8969,      0.8979,      0.8989,      0.8999,      0.9009,      0.9019,      0.9029,      0.9039,      0.9049,     0.90591,     0.90691,     0.90791,     0.90891,     0.90991,     0.91091,     0.91191,\n",
              "           0.91291,     0.91391,     0.91491,     0.91592,     0.91692,     0.91792,     0.91892,     0.91992,     0.92092,     0.92192,     0.92292,     0.92392,     0.92492,     0.92593,     0.92693,     0.92793,     0.92893,     0.92993,     0.93093,     0.93193,     0.93293,     0.93393,     0.93493,     0.93594,\n",
              "           0.93694,     0.93794,     0.93894,     0.93994,     0.94094,     0.94194,     0.94294,     0.94394,     0.94494,     0.94595,     0.94695,     0.94795,     0.94895,     0.94995,     0.95095,     0.95195,     0.95295,     0.95395,     0.95495,     0.95596,     0.95696,     0.95796,     0.95896,     0.95996,\n",
              "           0.96096,     0.96196,     0.96296,     0.96396,     0.96496,     0.96597,     0.96697,     0.96797,     0.96897,     0.96997,     0.97097,     0.97197,     0.97297,     0.97397,     0.97497,     0.97598,     0.97698,     0.97798,     0.97898,     0.97998,     0.98098,     0.98198,     0.98298,     0.98398,\n",
              "           0.98498,     0.98599,     0.98699,     0.98799,     0.98899,     0.98999,     0.99099,     0.99199,     0.99299,     0.99399,     0.99499,       0.996,       0.997,       0.998,       0.999,           1]), array([[    0.24392,     0.24392,     0.35141,     0.43247,     0.49074,     0.53725,     0.56668,     0.59018,     0.61346,     0.63139,     0.64795,     0.66176,     0.67429,     0.68807,      0.6995,     0.71099,     0.71988,     0.72897,     0.73455,     0.74167,      0.7497,     0.75428,     0.76178,\n",
              "            0.76627,     0.77278,     0.77879,     0.78195,     0.78917,     0.79115,      0.7931,     0.79674,     0.80048,     0.80474,     0.80621,     0.80709,     0.80912,     0.81149,     0.81453,      0.8158,     0.81727,     0.82244,      0.8243,     0.82476,     0.82738,      0.8302,     0.83298,\n",
              "            0.83333,     0.83344,     0.83336,     0.83553,     0.83981,     0.84066,      0.8416,     0.84357,     0.84615,     0.84709,      0.8475,     0.84923,     0.84957,     0.85027,     0.85171,      0.8528,     0.85351,     0.85438,     0.85774,     0.85921,     0.86071,     0.86157,     0.86177,\n",
              "            0.86197,     0.86217,     0.86267,      0.8644,     0.86473,     0.86506,     0.86762,     0.86807,     0.86885,     0.86997,     0.87104,     0.87193,     0.87407,     0.87456,     0.87539,     0.87644,     0.87668,     0.87691,     0.87714,     0.87796,     0.87966,      0.8796,     0.87957,\n",
              "            0.87967,     0.87977,     0.87988,     0.87998,     0.88008,     0.88018,     0.88028,     0.88041,     0.88071,     0.88102,     0.88155,     0.88217,      0.8825,     0.88283,     0.88462,     0.88531,      0.8863,     0.88644,     0.88657,     0.88671,     0.88685,     0.88698,      0.8874,\n",
              "            0.88806,     0.88891,     0.88916,     0.88941,     0.88962,     0.88979,     0.88997,     0.89014,     0.89032,     0.89108,      0.8914,     0.89162,     0.89184,     0.89228,     0.89401,     0.89443,      0.8947,     0.89487,     0.89505,     0.89523,      0.8954,     0.89552,     0.89562,\n",
              "            0.89572,     0.89582,     0.89592,     0.89602,     0.89612,     0.89622,     0.89644,     0.89698,     0.89776,     0.89917,      0.8996,      0.8999,     0.90017,     0.90043,     0.90086,     0.90234,     0.90272,      0.9031,     0.90383,      0.9053,     0.90587,     0.90658,     0.90841,\n",
              "            0.90898,     0.91037,     0.91083,     0.91114,     0.91134,     0.91154,     0.91174,     0.91192,     0.91197,     0.91203,     0.91209,     0.91215,      0.9122,     0.91226,     0.91232,     0.91238,     0.91243,     0.91249,     0.91255,     0.91261,     0.91266,     0.91272,     0.91278,\n",
              "            0.91315,     0.91359,      0.9138,     0.91395,      0.9141,     0.91425,      0.9144,     0.91455,     0.91543,     0.91538,     0.91635,     0.91645,     0.91654,     0.91664,     0.91674,     0.91683,     0.91693,     0.91702,     0.91712,     0.91727,     0.91744,     0.91761,     0.91778,\n",
              "            0.91795,     0.91804,     0.91801,     0.91799,     0.91829,     0.91894,     0.91905,     0.91916,     0.91927,     0.91938,     0.91949,      0.9196,     0.91971,      0.9198,     0.91987,     0.91994,     0.92001,     0.92009,     0.92016,     0.92023,      0.9203,     0.92037,     0.92044,\n",
              "            0.92052,     0.92059,     0.92066,     0.92158,     0.92161,     0.92164,     0.92167,      0.9217,     0.92172,     0.92175,     0.92178,     0.92181,     0.92184,     0.92187,      0.9219,     0.92192,     0.92195,     0.92198,     0.92201,     0.92204,     0.92207,      0.9221,     0.92212,\n",
              "            0.92215,     0.92218,     0.92221,     0.92224,     0.92227,      0.9223,     0.92232,     0.92235,     0.92238,     0.92241,     0.92244,     0.92247,     0.92268,     0.92317,     0.92327,     0.92323,     0.92321,     0.92319,     0.92317,     0.92408,     0.92414,     0.92421,     0.92428,\n",
              "            0.92434,     0.92441,     0.92447,     0.92454,      0.9246,     0.92467,     0.92474,      0.9248,     0.92487,     0.92493,     0.92496,     0.92492,      0.9252,     0.92577,     0.92588,     0.92604,     0.92619,     0.92635,      0.9265,     0.92666,     0.92661,     0.92699,     0.92736,\n",
              "            0.92767,     0.92793,     0.92819,     0.92845,     0.92873,       0.929,     0.92928,     0.92952,     0.92976,     0.92999,     0.93022,     0.93037,      0.9305,     0.93062,     0.93075,     0.93087,       0.931,     0.93112,     0.93123,     0.93132,     0.93141,      0.9315,     0.93159,\n",
              "            0.93168,     0.93177,     0.93186,     0.93195,     0.93204,     0.93213,     0.93306,     0.93304,     0.93302,       0.933,     0.93299,     0.93299,     0.93298,     0.93297,     0.93297,     0.93296,     0.93295,     0.93294,     0.93294,     0.93285,     0.93281,     0.93289,     0.93297,\n",
              "            0.93306,     0.93314,     0.93322,      0.9333,     0.93338,     0.93346,     0.93354,     0.93362,      0.9337,     0.93388,     0.93414,     0.93439,     0.93465,     0.93466,     0.93465,     0.93464,     0.93462,     0.93461,     0.93554,      0.9359,     0.93625,     0.93654,     0.93669,\n",
              "            0.93684,     0.93699,     0.93715,      0.9373,     0.93743,     0.93754,      0.9383,      0.9382,     0.93922,     0.93953,     0.93983,     0.94017,     0.94075,     0.94105,     0.94105,     0.94104,     0.94104,     0.94103,     0.94103,     0.94102,     0.94102,     0.94101,     0.94101,\n",
              "              0.941,       0.941,     0.94126,     0.94155,     0.94185,     0.94195,     0.94193,     0.94192,     0.94191,      0.9419,       0.942,     0.94212,     0.94224,     0.94236,     0.94248,      0.9426,     0.94272,     0.94284,     0.94456,     0.94477,     0.94476,     0.94475,     0.94473,\n",
              "            0.94467,     0.94466,     0.94466,     0.94465,     0.94465,     0.94464,     0.94464,     0.94463,     0.94463,     0.94462,     0.94462,     0.94461,     0.94461,     0.94461,      0.9446,      0.9446,     0.94459,     0.94459,     0.94458,     0.94458,     0.94458,     0.94457,     0.94457,\n",
              "            0.94456,     0.94456,     0.94454,     0.94451,     0.94478,     0.94519,     0.94547,     0.94546,     0.94546,     0.94545,     0.94544,     0.94544,     0.94543,     0.94542,     0.94541,      0.9454,     0.94538,     0.94537,     0.94541,     0.94552,     0.94564,     0.94575,     0.94586,\n",
              "            0.94597,     0.94608,     0.94619,     0.94631,     0.94641,     0.94652,     0.94662,     0.94672,     0.94683,     0.94693,     0.94703,     0.94714,     0.94724,      0.9473,     0.94726,     0.94724,     0.94723,     0.94722,     0.94721,     0.94715,     0.94714,     0.94714,     0.94713,\n",
              "            0.94713,     0.94712,     0.94711,     0.94711,      0.9471,      0.9471,     0.94727,     0.94757,     0.94787,     0.94826,     0.94882,     0.95013,     0.95027,     0.95041,     0.95056,      0.9507,     0.95084,     0.95098,     0.95104,     0.95103,     0.95102,     0.95102,     0.95101,\n",
              "            0.95101,       0.951,     0.95099,     0.95089,     0.95088,     0.95087,     0.95087,     0.95086,     0.95085,     0.95085,     0.95084,     0.95083,     0.95081,     0.95079,     0.95078,     0.95076,     0.95075,     0.95074,     0.95071,     0.95068,     0.95066,     0.95065,     0.95063,\n",
              "            0.95164,     0.95182,       0.952,     0.95218,     0.95237,     0.95255,     0.95269,      0.9528,     0.95291,     0.95303,     0.95314,     0.95325,     0.95336,     0.95347,     0.95358,      0.9536,     0.95358,     0.95357,     0.95356,     0.95355,     0.95354,     0.95375,     0.95449,\n",
              "            0.95449,     0.95448,     0.95447,     0.95446,     0.95446,     0.95445,     0.95444,     0.95443,     0.95442,     0.95441,      0.9544,      0.9544,     0.95439,     0.95439,     0.95438,     0.95438,     0.95437,     0.95436,     0.95436,     0.95435,     0.95492,     0.95535,     0.95532,\n",
              "            0.95531,     0.95531,      0.9553,      0.9553,     0.95529,     0.95528,     0.95528,     0.95526,     0.95522,     0.95521,      0.9552,     0.95519,     0.95517,     0.95513,     0.95512,     0.95512,     0.95512,     0.95511,     0.95511,      0.9551,      0.9551,     0.95509,     0.95509,\n",
              "            0.95508,     0.95508,     0.95507,     0.95507,     0.95507,     0.95506,     0.95506,     0.95505,     0.95505,     0.95504,     0.95504,     0.95503,     0.95503,     0.95502,     0.95502,     0.95501,       0.955,       0.955,     0.95499,     0.95499,     0.95514,     0.95537,      0.9556,\n",
              "            0.95584,     0.95596,     0.95596,     0.95595,     0.95595,     0.95594,     0.95594,     0.95593,     0.95593,     0.95592,     0.95592,     0.95591,     0.95589,     0.95587,     0.95586,     0.95586,     0.95586,     0.95586,     0.95585,     0.95585,     0.95585,     0.95585,     0.95584,\n",
              "            0.95584,     0.95584,     0.95583,     0.95583,     0.95583,     0.95583,     0.95582,     0.95582,     0.95613,     0.95679,     0.95684,     0.95682,      0.9568,     0.95679,     0.95678,     0.95677,     0.95675,      0.9567,     0.95665,     0.95659,     0.95656,     0.95655,     0.95655,\n",
              "            0.95654,     0.95653,     0.95662,      0.9569,     0.95718,     0.95746,     0.95755,     0.95753,     0.95759,     0.95853,     0.95847,     0.95845,     0.95844,     0.95842,      0.9584,     0.95838,     0.95837,     0.95836,     0.95835,     0.95834,     0.95833,      0.9585,     0.95868,\n",
              "            0.95886,     0.95904,     0.95922,     0.95938,     0.95938,     0.95937,     0.95937,     0.95936,     0.95935,     0.95935,     0.95934,     0.95931,     0.95928,     0.95925,     0.95925,     0.95924,     0.95924,     0.95924,     0.95923,     0.95923,     0.95923,     0.95922,     0.95922,\n",
              "            0.95922,     0.95921,     0.95921,      0.9592,     0.95916,     0.95915,     0.95914,     0.95913,     0.95912,      0.9591,     0.95903,     0.95902,     0.95901,     0.95901,       0.959,     0.95899,     0.95899,     0.95898,     0.95893,     0.95892,      0.9589,     0.95889,     0.95921,\n",
              "             0.9599,     0.95987,     0.95981,     0.95979,     0.95976,     0.95979,     0.95996,     0.96012,     0.96029,     0.96045,     0.96062,     0.96078,     0.96078,     0.96067,     0.96066,     0.96065,     0.96064,     0.96063,     0.96057,     0.96051,     0.96045,     0.96099,     0.96154,\n",
              "            0.96149,     0.96147,     0.96146,     0.96145,     0.96143,     0.96141,     0.96138,     0.96125,     0.96123,     0.96122,     0.96122,     0.96121,     0.96121,     0.96121,      0.9612,      0.9612,     0.96119,     0.96119,     0.96116,     0.96114,     0.96111,     0.96099,     0.96095,\n",
              "            0.96086,     0.96078,     0.96077,     0.96075,     0.96069,     0.96067,     0.96065,     0.96059,     0.96058,     0.96057,     0.96056,     0.96052,     0.96046,     0.96044,     0.96041,     0.96034,     0.96032,      0.9603,     0.96029,     0.96046,     0.96138,     0.96135,     0.96121,\n",
              "            0.96116,     0.96114,     0.96113,      0.9611,     0.96108,     0.96104,     0.96099,     0.96096,     0.96091,     0.96088,     0.96086,      0.9608,     0.96077,     0.96073,     0.96056,     0.96053,     0.96086,     0.96152,     0.96144,     0.96135,     0.96133,     0.96132,     0.96129,\n",
              "            0.96124,     0.96122,     0.96112,     0.96107,     0.96096,     0.96082,     0.96073,     0.96064,     0.96057,     0.96049,     0.96046,     0.96114,     0.96161,     0.96154,     0.96142,     0.96124,     0.96119,     0.96113,     0.96254,     0.96344,     0.96332,      0.9633,     0.96325,\n",
              "             0.9631,     0.96307,     0.96286,     0.96283,     0.96276,     0.96272,     0.96266,     0.96259,     0.96252,     0.96248,     0.96216,     0.96209,     0.96459,     0.96816,     0.96806,     0.96802,     0.96795,     0.96793,     0.96788,     0.96767,     0.96763,     0.96756,     0.96745,\n",
              "            0.96725,     0.96713,      0.9671,     0.96707,     0.96696,     0.96683,     0.96653,     0.96639,     0.96628,     0.96758,     0.96738,     0.96699,     0.96642,     0.96613,     0.96601,     0.96588,     0.96575,     0.96609,     0.96682,     0.96666,     0.96661,     0.96652,     0.96618,\n",
              "            0.96597,     0.96561,     0.96551,     0.96543,      0.9652,     0.96473,     0.96449,      0.9641,     0.96544,     0.96527,     0.96489,      0.9677,     0.97075,     0.97229,      0.9721,     0.97171,     0.97154,     0.97113,     0.97238,     0.97195,     0.97154,     0.97129,     0.97091,\n",
              "            0.97214,     0.97409,     0.97387,     0.97556,     0.97525,     0.97483,     0.97466,      0.9739,     0.97569,     0.97485,     0.97681,      0.9765,     0.97607,     0.97542,     0.97497,     0.97438,     0.97358,     0.97542,     0.97455,     0.97368,     0.97089,     0.96965,     0.97182,\n",
              "             0.9726,     0.97304,     0.97256,      0.9715,     0.96928,     0.96748,     0.96511,     0.96249,     0.96159,     0.95804,     0.95489,     0.95015,     0.95314,     0.97364,     0.97229,     0.97149,     0.96913,     0.96474,     0.96011,     0.96925,     0.96586,     0.96191,     0.95326,\n",
              "            0.94782,     0.94167,      0.9341,     0.92144,      0.9439,     0.93811,     0.93908,     0.98566,           1,           1,           1,           1,           1,           1,           1,           1,           1,           1,           1,           1,           1,           1,           1,\n",
              "                  1,           1,           1,           1,           1,           1,           1,           1,           1,           1,           1]]), 'Confidence', 'Precision'], [array([          0,    0.001001,    0.002002,    0.003003,    0.004004,    0.005005,    0.006006,    0.007007,    0.008008,    0.009009,     0.01001,    0.011011,    0.012012,    0.013013,    0.014014,    0.015015,    0.016016,    0.017017,    0.018018,    0.019019,     0.02002,    0.021021,    0.022022,    0.023023,\n",
              "          0.024024,    0.025025,    0.026026,    0.027027,    0.028028,    0.029029,     0.03003,    0.031031,    0.032032,    0.033033,    0.034034,    0.035035,    0.036036,    0.037037,    0.038038,    0.039039,     0.04004,    0.041041,    0.042042,    0.043043,    0.044044,    0.045045,    0.046046,    0.047047,\n",
              "          0.048048,    0.049049,     0.05005,    0.051051,    0.052052,    0.053053,    0.054054,    0.055055,    0.056056,    0.057057,    0.058058,    0.059059,     0.06006,    0.061061,    0.062062,    0.063063,    0.064064,    0.065065,    0.066066,    0.067067,    0.068068,    0.069069,     0.07007,    0.071071,\n",
              "          0.072072,    0.073073,    0.074074,    0.075075,    0.076076,    0.077077,    0.078078,    0.079079,     0.08008,    0.081081,    0.082082,    0.083083,    0.084084,    0.085085,    0.086086,    0.087087,    0.088088,    0.089089,     0.09009,    0.091091,    0.092092,    0.093093,    0.094094,    0.095095,\n",
              "          0.096096,    0.097097,    0.098098,    0.099099,      0.1001,      0.1011,      0.1021,      0.1031,      0.1041,     0.10511,     0.10611,     0.10711,     0.10811,     0.10911,     0.11011,     0.11111,     0.11211,     0.11311,     0.11411,     0.11512,     0.11612,     0.11712,     0.11812,     0.11912,\n",
              "           0.12012,     0.12112,     0.12212,     0.12312,     0.12412,     0.12513,     0.12613,     0.12713,     0.12813,     0.12913,     0.13013,     0.13113,     0.13213,     0.13313,     0.13413,     0.13514,     0.13614,     0.13714,     0.13814,     0.13914,     0.14014,     0.14114,     0.14214,     0.14314,\n",
              "           0.14414,     0.14515,     0.14615,     0.14715,     0.14815,     0.14915,     0.15015,     0.15115,     0.15215,     0.15315,     0.15415,     0.15516,     0.15616,     0.15716,     0.15816,     0.15916,     0.16016,     0.16116,     0.16216,     0.16316,     0.16416,     0.16517,     0.16617,     0.16717,\n",
              "           0.16817,     0.16917,     0.17017,     0.17117,     0.17217,     0.17317,     0.17417,     0.17518,     0.17618,     0.17718,     0.17818,     0.17918,     0.18018,     0.18118,     0.18218,     0.18318,     0.18418,     0.18519,     0.18619,     0.18719,     0.18819,     0.18919,     0.19019,     0.19119,\n",
              "           0.19219,     0.19319,     0.19419,      0.1952,      0.1962,      0.1972,      0.1982,      0.1992,      0.2002,      0.2012,      0.2022,      0.2032,      0.2042,     0.20521,     0.20621,     0.20721,     0.20821,     0.20921,     0.21021,     0.21121,     0.21221,     0.21321,     0.21421,     0.21522,\n",
              "           0.21622,     0.21722,     0.21822,     0.21922,     0.22022,     0.22122,     0.22222,     0.22322,     0.22422,     0.22523,     0.22623,     0.22723,     0.22823,     0.22923,     0.23023,     0.23123,     0.23223,     0.23323,     0.23423,     0.23524,     0.23624,     0.23724,     0.23824,     0.23924,\n",
              "           0.24024,     0.24124,     0.24224,     0.24324,     0.24424,     0.24525,     0.24625,     0.24725,     0.24825,     0.24925,     0.25025,     0.25125,     0.25225,     0.25325,     0.25425,     0.25526,     0.25626,     0.25726,     0.25826,     0.25926,     0.26026,     0.26126,     0.26226,     0.26326,\n",
              "           0.26426,     0.26527,     0.26627,     0.26727,     0.26827,     0.26927,     0.27027,     0.27127,     0.27227,     0.27327,     0.27427,     0.27528,     0.27628,     0.27728,     0.27828,     0.27928,     0.28028,     0.28128,     0.28228,     0.28328,     0.28428,     0.28529,     0.28629,     0.28729,\n",
              "           0.28829,     0.28929,     0.29029,     0.29129,     0.29229,     0.29329,     0.29429,      0.2953,      0.2963,      0.2973,      0.2983,      0.2993,      0.3003,      0.3013,      0.3023,      0.3033,      0.3043,     0.30531,     0.30631,     0.30731,     0.30831,     0.30931,     0.31031,     0.31131,\n",
              "           0.31231,     0.31331,     0.31431,     0.31532,     0.31632,     0.31732,     0.31832,     0.31932,     0.32032,     0.32132,     0.32232,     0.32332,     0.32432,     0.32533,     0.32633,     0.32733,     0.32833,     0.32933,     0.33033,     0.33133,     0.33233,     0.33333,     0.33433,     0.33534,\n",
              "           0.33634,     0.33734,     0.33834,     0.33934,     0.34034,     0.34134,     0.34234,     0.34334,     0.34434,     0.34535,     0.34635,     0.34735,     0.34835,     0.34935,     0.35035,     0.35135,     0.35235,     0.35335,     0.35435,     0.35536,     0.35636,     0.35736,     0.35836,     0.35936,\n",
              "           0.36036,     0.36136,     0.36236,     0.36336,     0.36436,     0.36537,     0.36637,     0.36737,     0.36837,     0.36937,     0.37037,     0.37137,     0.37237,     0.37337,     0.37437,     0.37538,     0.37638,     0.37738,     0.37838,     0.37938,     0.38038,     0.38138,     0.38238,     0.38338,\n",
              "           0.38438,     0.38539,     0.38639,     0.38739,     0.38839,     0.38939,     0.39039,     0.39139,     0.39239,     0.39339,     0.39439,      0.3954,      0.3964,      0.3974,      0.3984,      0.3994,      0.4004,      0.4014,      0.4024,      0.4034,      0.4044,     0.40541,     0.40641,     0.40741,\n",
              "           0.40841,     0.40941,     0.41041,     0.41141,     0.41241,     0.41341,     0.41441,     0.41542,     0.41642,     0.41742,     0.41842,     0.41942,     0.42042,     0.42142,     0.42242,     0.42342,     0.42442,     0.42543,     0.42643,     0.42743,     0.42843,     0.42943,     0.43043,     0.43143,\n",
              "           0.43243,     0.43343,     0.43443,     0.43544,     0.43644,     0.43744,     0.43844,     0.43944,     0.44044,     0.44144,     0.44244,     0.44344,     0.44444,     0.44545,     0.44645,     0.44745,     0.44845,     0.44945,     0.45045,     0.45145,     0.45245,     0.45345,     0.45445,     0.45546,\n",
              "           0.45646,     0.45746,     0.45846,     0.45946,     0.46046,     0.46146,     0.46246,     0.46346,     0.46446,     0.46547,     0.46647,     0.46747,     0.46847,     0.46947,     0.47047,     0.47147,     0.47247,     0.47347,     0.47447,     0.47548,     0.47648,     0.47748,     0.47848,     0.47948,\n",
              "           0.48048,     0.48148,     0.48248,     0.48348,     0.48448,     0.48549,     0.48649,     0.48749,     0.48849,     0.48949,     0.49049,     0.49149,     0.49249,     0.49349,     0.49449,      0.4955,      0.4965,      0.4975,      0.4985,      0.4995,      0.5005,      0.5015,      0.5025,      0.5035,\n",
              "            0.5045,     0.50551,     0.50651,     0.50751,     0.50851,     0.50951,     0.51051,     0.51151,     0.51251,     0.51351,     0.51451,     0.51552,     0.51652,     0.51752,     0.51852,     0.51952,     0.52052,     0.52152,     0.52252,     0.52352,     0.52452,     0.52553,     0.52653,     0.52753,\n",
              "           0.52853,     0.52953,     0.53053,     0.53153,     0.53253,     0.53353,     0.53453,     0.53554,     0.53654,     0.53754,     0.53854,     0.53954,     0.54054,     0.54154,     0.54254,     0.54354,     0.54454,     0.54555,     0.54655,     0.54755,     0.54855,     0.54955,     0.55055,     0.55155,\n",
              "           0.55255,     0.55355,     0.55455,     0.55556,     0.55656,     0.55756,     0.55856,     0.55956,     0.56056,     0.56156,     0.56256,     0.56356,     0.56456,     0.56557,     0.56657,     0.56757,     0.56857,     0.56957,     0.57057,     0.57157,     0.57257,     0.57357,     0.57457,     0.57558,\n",
              "           0.57658,     0.57758,     0.57858,     0.57958,     0.58058,     0.58158,     0.58258,     0.58358,     0.58458,     0.58559,     0.58659,     0.58759,     0.58859,     0.58959,     0.59059,     0.59159,     0.59259,     0.59359,     0.59459,      0.5956,      0.5966,      0.5976,      0.5986,      0.5996,\n",
              "            0.6006,      0.6016,      0.6026,      0.6036,      0.6046,     0.60561,     0.60661,     0.60761,     0.60861,     0.60961,     0.61061,     0.61161,     0.61261,     0.61361,     0.61461,     0.61562,     0.61662,     0.61762,     0.61862,     0.61962,     0.62062,     0.62162,     0.62262,     0.62362,\n",
              "           0.62462,     0.62563,     0.62663,     0.62763,     0.62863,     0.62963,     0.63063,     0.63163,     0.63263,     0.63363,     0.63463,     0.63564,     0.63664,     0.63764,     0.63864,     0.63964,     0.64064,     0.64164,     0.64264,     0.64364,     0.64464,     0.64565,     0.64665,     0.64765,\n",
              "           0.64865,     0.64965,     0.65065,     0.65165,     0.65265,     0.65365,     0.65465,     0.65566,     0.65666,     0.65766,     0.65866,     0.65966,     0.66066,     0.66166,     0.66266,     0.66366,     0.66466,     0.66567,     0.66667,     0.66767,     0.66867,     0.66967,     0.67067,     0.67167,\n",
              "           0.67267,     0.67367,     0.67467,     0.67568,     0.67668,     0.67768,     0.67868,     0.67968,     0.68068,     0.68168,     0.68268,     0.68368,     0.68468,     0.68569,     0.68669,     0.68769,     0.68869,     0.68969,     0.69069,     0.69169,     0.69269,     0.69369,     0.69469,      0.6957,\n",
              "            0.6967,      0.6977,      0.6987,      0.6997,      0.7007,      0.7017,      0.7027,      0.7037,      0.7047,     0.70571,     0.70671,     0.70771,     0.70871,     0.70971,     0.71071,     0.71171,     0.71271,     0.71371,     0.71471,     0.71572,     0.71672,     0.71772,     0.71872,     0.71972,\n",
              "           0.72072,     0.72172,     0.72272,     0.72372,     0.72472,     0.72573,     0.72673,     0.72773,     0.72873,     0.72973,     0.73073,     0.73173,     0.73273,     0.73373,     0.73473,     0.73574,     0.73674,     0.73774,     0.73874,     0.73974,     0.74074,     0.74174,     0.74274,     0.74374,\n",
              "           0.74474,     0.74575,     0.74675,     0.74775,     0.74875,     0.74975,     0.75075,     0.75175,     0.75275,     0.75375,     0.75475,     0.75576,     0.75676,     0.75776,     0.75876,     0.75976,     0.76076,     0.76176,     0.76276,     0.76376,     0.76476,     0.76577,     0.76677,     0.76777,\n",
              "           0.76877,     0.76977,     0.77077,     0.77177,     0.77277,     0.77377,     0.77477,     0.77578,     0.77678,     0.77778,     0.77878,     0.77978,     0.78078,     0.78178,     0.78278,     0.78378,     0.78478,     0.78579,     0.78679,     0.78779,     0.78879,     0.78979,     0.79079,     0.79179,\n",
              "           0.79279,     0.79379,     0.79479,      0.7958,      0.7968,      0.7978,      0.7988,      0.7998,      0.8008,      0.8018,      0.8028,      0.8038,      0.8048,     0.80581,     0.80681,     0.80781,     0.80881,     0.80981,     0.81081,     0.81181,     0.81281,     0.81381,     0.81481,     0.81582,\n",
              "           0.81682,     0.81782,     0.81882,     0.81982,     0.82082,     0.82182,     0.82282,     0.82382,     0.82482,     0.82583,     0.82683,     0.82783,     0.82883,     0.82983,     0.83083,     0.83183,     0.83283,     0.83383,     0.83483,     0.83584,     0.83684,     0.83784,     0.83884,     0.83984,\n",
              "           0.84084,     0.84184,     0.84284,     0.84384,     0.84484,     0.84585,     0.84685,     0.84785,     0.84885,     0.84985,     0.85085,     0.85185,     0.85285,     0.85385,     0.85485,     0.85586,     0.85686,     0.85786,     0.85886,     0.85986,     0.86086,     0.86186,     0.86286,     0.86386,\n",
              "           0.86486,     0.86587,     0.86687,     0.86787,     0.86887,     0.86987,     0.87087,     0.87187,     0.87287,     0.87387,     0.87487,     0.87588,     0.87688,     0.87788,     0.87888,     0.87988,     0.88088,     0.88188,     0.88288,     0.88388,     0.88488,     0.88589,     0.88689,     0.88789,\n",
              "           0.88889,     0.88989,     0.89089,     0.89189,     0.89289,     0.89389,     0.89489,      0.8959,      0.8969,      0.8979,      0.8989,      0.8999,      0.9009,      0.9019,      0.9029,      0.9039,      0.9049,     0.90591,     0.90691,     0.90791,     0.90891,     0.90991,     0.91091,     0.91191,\n",
              "           0.91291,     0.91391,     0.91491,     0.91592,     0.91692,     0.91792,     0.91892,     0.91992,     0.92092,     0.92192,     0.92292,     0.92392,     0.92492,     0.92593,     0.92693,     0.92793,     0.92893,     0.92993,     0.93093,     0.93193,     0.93293,     0.93393,     0.93493,     0.93594,\n",
              "           0.93694,     0.93794,     0.93894,     0.93994,     0.94094,     0.94194,     0.94294,     0.94394,     0.94494,     0.94595,     0.94695,     0.94795,     0.94895,     0.94995,     0.95095,     0.95195,     0.95295,     0.95395,     0.95495,     0.95596,     0.95696,     0.95796,     0.95896,     0.95996,\n",
              "           0.96096,     0.96196,     0.96296,     0.96396,     0.96496,     0.96597,     0.96697,     0.96797,     0.96897,     0.96997,     0.97097,     0.97197,     0.97297,     0.97397,     0.97497,     0.97598,     0.97698,     0.97798,     0.97898,     0.97998,     0.98098,     0.98198,     0.98298,     0.98398,\n",
              "           0.98498,     0.98599,     0.98699,     0.98799,     0.98899,     0.98999,     0.99099,     0.99199,     0.99299,     0.99399,     0.99499,       0.996,       0.997,       0.998,       0.999,           1]), array([[    0.98769,     0.98769,     0.98462,     0.98359,     0.98359,     0.98256,     0.98256,     0.98051,     0.98051,     0.98051,     0.98051,     0.97922,     0.97846,     0.97846,     0.97846,     0.97744,     0.97744,     0.97744,     0.97744,     0.97641,     0.97538,     0.97538,     0.97538,\n",
              "            0.97436,     0.97436,     0.97333,     0.97231,     0.97231,     0.97231,     0.97231,     0.97231,     0.97128,     0.97128,     0.97128,     0.97128,     0.97128,     0.97128,     0.97128,     0.97128,     0.97026,     0.97026,     0.97026,     0.97026,     0.97026,     0.97026,     0.97026,\n",
              "            0.97026,     0.96995,     0.96942,     0.96923,     0.96923,     0.96923,     0.96923,     0.96923,     0.96923,     0.96923,     0.96923,     0.96923,     0.96923,     0.96923,     0.96923,     0.96923,     0.96923,     0.96923,     0.96923,     0.96923,     0.96923,     0.96923,     0.96923,\n",
              "            0.96923,     0.96923,     0.96718,     0.96718,     0.96718,     0.96718,     0.96718,     0.96718,     0.96718,     0.96718,     0.96718,     0.96718,     0.96718,     0.96718,     0.96718,     0.96718,     0.96718,     0.96718,     0.96718,     0.96718,     0.96714,     0.96659,     0.96615,\n",
              "            0.96615,     0.96615,     0.96615,     0.96615,     0.96615,     0.96615,     0.96615,     0.96615,     0.96615,     0.96615,     0.96615,     0.96615,     0.96615,     0.96615,     0.96615,     0.96615,     0.96615,     0.96615,     0.96615,     0.96615,     0.96615,     0.96615,     0.96615,\n",
              "            0.96615,     0.96615,     0.96615,     0.96615,     0.96615,     0.96615,     0.96615,     0.96615,     0.96615,     0.96615,     0.96615,     0.96615,     0.96615,     0.96615,     0.96615,     0.96615,     0.96615,     0.96615,     0.96615,     0.96615,     0.96615,     0.96615,     0.96615,\n",
              "            0.96615,     0.96615,     0.96615,     0.96615,     0.96615,     0.96615,     0.96615,     0.96615,     0.96615,     0.96615,     0.96615,     0.96615,     0.96615,     0.96615,     0.96615,     0.96615,     0.96615,     0.96615,     0.96615,     0.96615,     0.96615,     0.96615,     0.96615,\n",
              "            0.96615,     0.96615,     0.96615,     0.96615,     0.96615,     0.96615,     0.96615,     0.96615,     0.96615,     0.96615,     0.96615,     0.96615,     0.96615,     0.96615,     0.96615,     0.96615,     0.96615,     0.96615,     0.96615,     0.96615,     0.96615,     0.96615,     0.96615,\n",
              "            0.96615,     0.96615,     0.96615,     0.96615,     0.96615,     0.96615,     0.96615,     0.96615,     0.96615,     0.96521,     0.96513,     0.96513,     0.96513,     0.96513,     0.96513,     0.96513,     0.96513,     0.96513,     0.96513,     0.96513,     0.96513,     0.96513,     0.96513,\n",
              "            0.96513,     0.96499,     0.96468,     0.96436,      0.9641,      0.9641,      0.9641,      0.9641,      0.9641,      0.9641,      0.9641,      0.9641,      0.9641,      0.9641,      0.9641,      0.9641,      0.9641,      0.9641,      0.9641,      0.9641,      0.9641,      0.9641,      0.9641,\n",
              "             0.9641,      0.9641,      0.9641,      0.9641,      0.9641,      0.9641,      0.9641,      0.9641,      0.9641,      0.9641,      0.9641,      0.9641,      0.9641,      0.9641,      0.9641,      0.9641,      0.9641,      0.9641,      0.9641,      0.9641,      0.9641,      0.9641,      0.9641,\n",
              "             0.9641,      0.9641,      0.9641,      0.9641,      0.9641,      0.9641,      0.9641,      0.9641,      0.9641,      0.9641,      0.9641,      0.9641,     0.96308,     0.96308,     0.96268,     0.96213,     0.96181,     0.96153,     0.96124,     0.96103,     0.96103,     0.96103,     0.96103,\n",
              "            0.96103,     0.96103,     0.96103,     0.96103,     0.96103,     0.96103,     0.96103,     0.96103,     0.96103,     0.96103,     0.96084,     0.96032,        0.96,     0.95929,     0.95897,     0.95897,     0.95897,     0.95897,     0.95897,     0.95897,     0.95795,     0.95795,     0.95795,\n",
              "            0.95795,     0.95795,     0.95795,     0.95795,     0.95795,     0.95795,     0.95795,     0.95795,     0.95795,     0.95795,     0.95795,     0.95795,     0.95795,     0.95795,     0.95795,     0.95795,     0.95795,     0.95795,     0.95795,     0.95795,     0.95795,     0.95795,     0.95795,\n",
              "            0.95795,     0.95795,     0.95795,     0.95795,     0.95795,     0.95795,     0.95783,     0.95752,     0.95722,     0.95692,     0.95681,     0.95671,      0.9566,      0.9565,     0.95639,     0.95629,     0.95618,     0.95607,     0.95597,     0.95457,     0.95385,     0.95385,     0.95385,\n",
              "            0.95385,     0.95385,     0.95385,     0.95385,     0.95385,     0.95385,     0.95385,     0.95385,     0.95385,     0.95385,     0.95385,     0.95385,     0.95385,     0.95366,     0.95346,     0.95325,     0.95305,     0.95285,     0.95282,     0.95282,     0.95282,     0.95282,     0.95282,\n",
              "            0.95282,     0.95282,     0.95282,     0.95282,     0.95273,     0.95179,      0.9514,     0.94988,     0.94974,     0.94974,     0.94974,     0.94974,     0.94974,      0.9497,     0.94961,     0.94952,     0.94944,     0.94935,     0.94926,     0.94917,     0.94908,     0.94899,      0.9489,\n",
              "            0.94882,     0.94873,     0.94872,     0.94872,     0.94872,     0.94858,     0.94836,     0.94815,     0.94793,     0.94771,     0.94769,     0.94769,     0.94769,     0.94769,     0.94769,     0.94769,     0.94769,     0.94769,     0.94769,      0.9475,     0.94724,     0.94698,     0.94671,\n",
              "            0.94557,     0.94548,     0.94539,      0.9453,     0.94521,     0.94512,     0.94503,     0.94493,     0.94484,     0.94475,     0.94466,     0.94458,     0.94451,     0.94443,     0.94436,     0.94428,     0.94421,     0.94413,     0.94406,     0.94398,     0.94391,     0.94383,     0.94376,\n",
              "            0.94368,     0.94361,     0.94322,     0.94272,     0.94256,     0.94256,     0.94253,     0.94239,     0.94226,     0.94213,       0.942,     0.94187,     0.94174,     0.94161,     0.94141,     0.94116,      0.9409,     0.94065,     0.94051,     0.94051,     0.94051,     0.94051,     0.94051,\n",
              "            0.94051,     0.94051,     0.94051,     0.94051,     0.94051,     0.94051,     0.94051,     0.94051,     0.94051,     0.94051,     0.94051,     0.94051,     0.94051,     0.94023,     0.93942,     0.93919,     0.93895,     0.93872,     0.93848,     0.93738,     0.93727,     0.93717,     0.93707,\n",
              "            0.93697,     0.93686,     0.93676,     0.93666,     0.93656,     0.93646,     0.93641,     0.93641,     0.93641,     0.93641,     0.93641,     0.93641,     0.93641,     0.93641,     0.93641,     0.93641,     0.93641,     0.93641,     0.93634,     0.93621,     0.93607,     0.93594,     0.93581,\n",
              "            0.93568,     0.93555,     0.93542,      0.9333,     0.93316,     0.93303,      0.9329,     0.93277,     0.93264,      0.9325,     0.93237,     0.93211,     0.93173,     0.93135,     0.93108,     0.93085,     0.93061,     0.93037,     0.92979,     0.92913,     0.92884,     0.92855,     0.92827,\n",
              "            0.92821,     0.92821,     0.92821,     0.92821,     0.92821,     0.92821,     0.92821,     0.92821,     0.92821,     0.92821,     0.92821,     0.92821,     0.92821,     0.92821,     0.92821,     0.92752,     0.92704,     0.92685,     0.92666,     0.92647,     0.92629,     0.92513,     0.92503,\n",
              "            0.92488,     0.92472,     0.92456,      0.9244,     0.92424,     0.92408,     0.92388,     0.92369,      0.9235,      0.9233,     0.92311,     0.92298,     0.92287,     0.92276,     0.92264,     0.92253,     0.92242,      0.9223,     0.92219,     0.92208,     0.92205,     0.92179,     0.92114,\n",
              "            0.92091,     0.92078,     0.92064,     0.92051,     0.92037,     0.92024,      0.9201,     0.91978,     0.91893,     0.91867,     0.91841,     0.91815,     0.91777,     0.91706,     0.91684,     0.91674,     0.91664,     0.91655,     0.91645,     0.91635,     0.91625,     0.91615,     0.91605,\n",
              "            0.91595,     0.91585,     0.91576,     0.91567,     0.91558,     0.91548,     0.91539,      0.9153,     0.91521,     0.91511,     0.91502,     0.91493,     0.91482,     0.91469,     0.91456,     0.91442,     0.91429,     0.91416,     0.91402,     0.91389,     0.91385,     0.91385,     0.91385,\n",
              "            0.91385,     0.91279,     0.91269,     0.91259,     0.91248,     0.91238,     0.91228,     0.91217,     0.91207,     0.91197,     0.91186,     0.91165,     0.91124,     0.91084,     0.91072,     0.91066,      0.9106,     0.91054,     0.91048,     0.91042,     0.91037,     0.91031,     0.91025,\n",
              "            0.91019,     0.91013,     0.91007,     0.91001,     0.90995,     0.90989,     0.90983,     0.90977,     0.90974,     0.90974,     0.90943,     0.90909,     0.90875,     0.90848,     0.90821,     0.90795,     0.90764,     0.90646,     0.90534,     0.90409,     0.90348,     0.90328,     0.90309,\n",
              "            0.90289,     0.90269,     0.90256,     0.90256,     0.90256,     0.90256,     0.90231,     0.90192,     0.90154,     0.90093,     0.89943,     0.89911,     0.89878,     0.89845,     0.89785,     0.89738,     0.89719,       0.897,      0.8968,     0.89661,     0.89642,     0.89641,     0.89641,\n",
              "            0.89641,     0.89641,     0.89641,      0.8964,     0.89625,     0.89611,     0.89596,     0.89582,     0.89567,     0.89553,     0.89538,     0.89475,     0.89391,      0.8933,     0.89322,     0.89314,     0.89307,     0.89299,     0.89291,     0.89284,     0.89276,     0.89268,     0.89261,\n",
              "            0.89253,     0.89245,     0.89238,     0.89218,     0.89118,     0.89097,     0.89076,     0.89055,     0.89034,     0.88986,     0.88828,     0.88806,     0.88791,     0.88776,     0.88762,     0.88747,     0.88732,     0.88714,     0.88605,     0.88574,     0.88543,     0.88509,      0.8841,\n",
              "            0.88385,      0.8831,     0.88187,     0.88137,      0.8807,        0.88,        0.88,        0.88,        0.88,        0.88,        0.88,        0.88,     0.87934,     0.87688,     0.87663,     0.87639,     0.87614,     0.87586,     0.87447,     0.87319,     0.87183,     0.87179,     0.87178,\n",
              "            0.87061,     0.87029,     0.86997,     0.86961,     0.86917,     0.86872,     0.86798,     0.86496,     0.86454,     0.86443,     0.86433,     0.86422,     0.86411,     0.86401,      0.8639,     0.86379,     0.86369,     0.86355,     0.86302,     0.86246,     0.86181,     0.85914,      0.8581,\n",
              "            0.85599,     0.85436,     0.85396,     0.85357,     0.85216,     0.85173,      0.8513,     0.85008,     0.84984,     0.84961,     0.84937,     0.84842,     0.84696,     0.84652,     0.84596,     0.84432,     0.84386,      0.8436,     0.84333,     0.84308,     0.84256,     0.84192,     0.83864,\n",
              "             0.8376,     0.83722,      0.8368,     0.83629,     0.83572,     0.83493,     0.83383,      0.8331,     0.83205,     0.83136,     0.83081,     0.82958,     0.82896,     0.82801,     0.82434,     0.82376,     0.82051,     0.82005,     0.81842,      0.8163,     0.81599,     0.81568,     0.81493,\n",
              "            0.81392,     0.81345,      0.8113,     0.81032,      0.8079,     0.80497,     0.80293,     0.80105,     0.79957,     0.79788,     0.79723,     0.79692,     0.79634,     0.79489,     0.79242,     0.78851,     0.78738,     0.78626,     0.78462,     0.78371,     0.78108,      0.7806,     0.77968,\n",
              "            0.77641,     0.77557,     0.77109,     0.77052,     0.76899,     0.76819,     0.76678,     0.76526,     0.76392,      0.7631,     0.75637,     0.75488,     0.75428,     0.74839,     0.74614,     0.74498,     0.74353,     0.74291,     0.74177,     0.73681,     0.73578,     0.73413,     0.73169,\n",
              "            0.72704,     0.72429,     0.72359,     0.72288,     0.72043,      0.7175,     0.71075,     0.70772,     0.70545,     0.70396,     0.69964,     0.69113,     0.67889,     0.67299,     0.67034,     0.66773,     0.66508,     0.66359,      0.6574,     0.65414,     0.65329,     0.65148,     0.64465,\n",
              "            0.64044,     0.63364,     0.63165,     0.63015,     0.62574,      0.6172,     0.61289,     0.60589,     0.60162,     0.59856,     0.59198,      0.5838,     0.57862,      0.5759,     0.57182,     0.56359,     0.56011,     0.55192,     0.54156,     0.53315,     0.52522,     0.52056,     0.51352,\n",
              "            0.51077,     0.50126,     0.49694,     0.49126,     0.48504,     0.47665,     0.47335,     0.45933,      0.4528,     0.43739,     0.43201,      0.4261,     0.41838,     0.40707,     0.39955,     0.39002,     0.37794,     0.36625,     0.35346,     0.34148,     0.30787,     0.29488,       0.283,\n",
              "            0.27179,     0.25914,     0.25451,     0.24475,     0.22653,      0.2136,     0.19858,     0.18421,     0.17975,     0.16393,     0.15197,     0.13685,     0.12516,     0.11367,     0.10796,     0.10485,    0.096602,    0.084199,    0.074059,    0.064649,    0.058035,    0.051803,    0.041841,\n",
              "           0.037263,    0.033123,    0.029085,    0.024068,    0.017264,    0.015555,    0.013333,    0.013333,     0.01242,    0.004049,   0.0035282,   0.0030558,   0.0028979,     0.00274,   0.0025821,   0.0024241,   0.0022662,   0.0021083,           0,           0,           0,           0,           0,\n",
              "                  0,           0,           0,           0,           0,           0,           0,           0,           0,           0,           0]]), 'Confidence', 'Recall']]\n",
              "fitness: 0.8074615621304302\n",
              "keys: ['metrics/precision(B)', 'metrics/recall(B)', 'metrics/mAP50(B)', 'metrics/mAP50-95(B)']\n",
              "maps: array([     0.7912,      0.7912,      0.7912,      0.7912,      0.7912,      0.7912,      0.7912,      0.7912,      0.7912,      0.7912,      0.7912,      0.7912,      0.7912,      0.7912,      0.7912,      0.7912,      0.7912,      0.7912,      0.7912,      0.7912,      0.7912,      0.7912,      0.7912,      0.7912,\n",
              "            0.7912,      0.7912,      0.7912,      0.7912,      0.7912,      0.7912,      0.7912,      0.7912,      0.7912,      0.7912,      0.7912,      0.7912,      0.7912,      0.7912,      0.7912,      0.7912,      0.7912,      0.7912,      0.7912,      0.7912,      0.7912,      0.7912,      0.7912,      0.7912,\n",
              "            0.7912,      0.7912,      0.7912,      0.7912,      0.7912,      0.7912,      0.7912,      0.7912,      0.7912,      0.7912,      0.7912,      0.7912,      0.7912,      0.7912,      0.7912,      0.7912,      0.7912,      0.7912,      0.7912,      0.7912,      0.7912,      0.7912,      0.7912,      0.7912,\n",
              "            0.7912,      0.7912,      0.7912,      0.7912,      0.7912,      0.7912,      0.7912,      0.7912,      0.7912,      0.7912,      0.7912,      0.7912,      0.7912])\n",
              "names: {0: 'Danger Ahead', 1: 'Give Way', 2: 'Go Left or Straight', 3: 'Go Straight', 4: 'Huddle Road', 5: 'Left Sharp Curve', 6: 'No Entry', 7: 'No Over Taking Trucks', 8: 'No Stopping', 9: 'No Waiting', 10: 'Pedestrian', 11: 'Right Sharp Curve', 12: 'RoundAbout', 13: 'Speed Limit 20', 14: 'Speed Limit 30', 15: 'Speed Limit 50', 16: 'Speed Limit 60', 17: 'Speed Limit 70', 18: 'Stop', 19: 'Truck Sign', 20: 'Turn Left', 21: 'Turn Right', 22: 'bicycle', 23: 'broken_white_line', 24: 'bus_stop', 25: 'children', 26: 'continuous_white_line', 27: 'crossing', 28: 'crosswalk', 29: 'do_not_enter', 30: 'do_not_stop', 31: 'do_not_turn_left', 32: 'do_not_turn_right', 33: 'do_not_u_turn', 34: 'double_yellow_line', 35: 'enter_left_lane', 36: 'give_way', 37: 'green_light', 38: 'lanes_merging', 39: 'left_lane_enter', 40: 'left_right_lane', 41: 'left_sharp_curve', 42: 'left_turn', 43: 'light_traffic', 44: 'narrow_road', 45: 'no_entry', 46: 'no_left_turn', 47: 'no_overtaking', 48: 'no_overtaking_truck', 49: 'no_parking', 50: 'no_passing', 51: 'no_right_turn', 52: 'no_stop', 53: 'no_waiting', 54: 'parking', 55: 'ped_crossing', 56: 'ped_zebra_cross', 57: 'pedestrain_crossing_prohibition', 58: 'railway_crossing', 59: 'red_light', 60: 'refueling', 61: 'right_sharp_curve', 62: 'right_turn', 63: 'road_main', 64: 'road_work', 65: 'school_nearby', 66: 'speed_bump', 67: 'speed_limit_100', 68: 'speed_limit_120', 69: 'speed_limit_20', 70: 'speed_limit_30', 71: 'speed_limit_40', 72: 'speed_limit_50', 73: 'speed_limit_60', 74: 'speed_limit_70', 75: 'speed_limit_80', 76: 'stop', 77: 't_intersection_l', 78: 'traffic_light', 79: 'truck', 80: 'u-turn_ahead', 81: 'u_turn', 82: 'warning', 83: 'yellow_box', 84: 'yellow_light'}\n",
              "plot: True\n",
              "results_dict: {'metrics/precision(B)': 0.9375356485400858, 'metrics/recall(B)': 0.9517948717948718, 'metrics/mAP50(B)': 0.9537967226291979, 'metrics/mAP50-95(B)': 0.7912020998527893, 'fitness': 0.8074615621304302}\n",
              "save_dir: PosixPath('runs/detect/val')\n",
              "speed: {'preprocess': 0.4024585455174259, 'inference': 5.0055564964065375, 'loss': 0.0014117903852572894, 'postprocess': 2.4086146101389967}\n",
              "task: 'detect'"
            ]
          },
          "metadata": {},
          "execution_count": 4
        }
      ]
    }
  ]
}